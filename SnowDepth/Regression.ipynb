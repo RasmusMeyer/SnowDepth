{
 "cells": [
  {
   "cell_type": "code",
   "execution_count": 70,
   "id": "541bc2c3",
   "metadata": {},
   "outputs": [],
   "source": [
    "import rasterio\n",
    "import geopandas as gpd\n",
    "import pyproj\n",
    "import os\n",
    "import matplotlib.pyplot as plt\n",
    "import pandas as pd\n",
    "import glob\n",
    "import lightgbm as lgbm\n",
    "from sklearn.metrics import r2_score\n",
    "from sklearn.ensemble import RandomForestRegressor\n",
    "from numpy import *\n",
    "import numpy as np\n",
    "from sklearn.model_selection import train_test_split"
   ]
  },
  {
   "cell_type": "code",
   "execution_count": 71,
   "id": "8ab402d3",
   "metadata": {},
   "outputs": [
    {
     "name": "stdout",
     "output_type": "stream",
     "text": [
      "Training Data ['C:/Users/Rasmu/Documents/Thesis/Hardangervidda/Dates/20200306//Sampled//SD.shp', 'C:/Users/Rasmu/Documents/Thesis/Hardangervidda/Dates/20200314//Sampled//SD.shp']\n"
     ]
    }
   ],
   "source": [
    "def concat(AOI_path, outdir, singledate):\n",
    "    \n",
    "    #list of Training data samples\n",
    "    if singledate is False:\n",
    "        lit = glob.glob(AOI_path + '*//Sampled//SD.shp')\n",
    "    else:\n",
    "        lit = glob.glob(AOI_path + '20200306//Sampled//SD.shp')\n",
    "        lit.append('C:/Users/Rasmu/Documents/Thesis/Hardangervidda/Dates/20200314//Sampled//SD.shp')\n",
    "    print('Training Data', lit)\n",
    "    i = 0\n",
    "    for item in lit:\n",
    "        pts = gpd.read_file(item)\n",
    "        if i != 0:\n",
    "            df_train = pd.concat([df_train,pts])\n",
    "        else: \n",
    "            df_train = pts\n",
    "            i=i+1   \n",
    "    df_train.to_file(outdir + 'SD_concat.shp')        \n",
    "    return df_train\n",
    "\n",
    "AOI_path = 'C:/Users/Rasmu/Documents/Thesis/Hardangervidda/Dates/'\n",
    "outdir = 'C:/Users/Rasmu/Documents/Thesis/Hardangervidda/Training_Data/'\n",
    "\n",
    "Training_Data = concat(AOI_path, outdir, True)"
   ]
  },
  {
   "cell_type": "code",
   "execution_count": 72,
   "id": "951d2770",
   "metadata": {},
   "outputs": [],
   "source": [
    "def stack(path):\n",
    "    VH = os.path.join(path , \"VH.tif\")\n",
    "    Diff = os.path.join(path , \"Diff.tif\")\n",
    "    Ratio = os.path.join(path , \"Ratio.tif\")\n",
    "    Subtract = os.path.join(path , \"Subtract.tif\")\n",
    "    #DEM =  'C:/Users/Rasmu/Documents/Thesis/Hardangervidda/DEM/mergedDEM100m.tif'\n",
    "    DEM = 'C://Users/Rasmu/Documents/Thesis/Hardangervidda/DEM/mergedDEM100m.tif'\n",
    "    listofmasks=[VH, Diff, Ratio, Subtract, DEM]\n",
    "    print(listofmasks)\n",
    "    \n",
    "    lit_ravel = []\n",
    "    i=0\n",
    "    for rst in listofmasks:\n",
    "        with rasterio.open(rst) as src:\n",
    "            srcdata = src.read()\n",
    "            print(srcdata.shape,'shape')\n",
    "            ravel = srcdata[0].ravel()\n",
    "            lit_ravel.append(ravel)\n",
    "            profile = src.profile\n",
    "            og_shape = srcdata.shape\n",
    "            i=i+1\n",
    "    \n",
    "    print(len(lit_ravel))\n",
    "    return lit_ravel, profile, og_shape"
   ]
  },
  {
   "cell_type": "code",
   "execution_count": 73,
   "id": "a249de1d",
   "metadata": {},
   "outputs": [
    {
     "name": "stdout",
     "output_type": "stream",
     "text": [
      "importance [540 673 525 605 657]\n",
      "['C:/Users/Rasmu/Documents/Thesis/Hardangervidda/Dates/20200306/S1/VH.tif', 'C:/Users/Rasmu/Documents/Thesis/Hardangervidda/Dates/20200306/S1/Diff.tif', 'C:/Users/Rasmu/Documents/Thesis/Hardangervidda/Dates/20200306/S1/Ratio.tif', 'C:/Users/Rasmu/Documents/Thesis/Hardangervidda/Dates/20200306/S1/Subtract.tif', 'C://Users/Rasmu/Documents/Thesis/Hardangervidda/DEM/mergedDEM100m.tif']\n",
      "(1, 1206, 1550) shape\n",
      "(1, 1206, 1550) shape\n",
      "(1, 1206, 1550) shape\n",
      "(1, 1206, 1550) shape\n",
      "(1, 1206, 1550) shape\n",
      "5\n",
      "(1634, 5)\n",
      "(1869300, 5)\n",
      "modelling done\n",
      "r2_train 0.88\n",
      "r2_val 0.88\n"
     ]
    }
   ],
   "source": [
    "def model(Training_Data_Path, Prediction_Path, outdir): \n",
    "    \n",
    "    pts = gpd.read_file(Training_Data_Path)\n",
    "    pts = pts[pts['SD'] < 6]\n",
    "    X = pts.drop(columns=['SD', 'geometry'])\n",
    "    y = pts['SD']\n",
    "    \n",
    "    X_train, X_val, y_train, y_val = train_test_split(\n",
    "    X, y, test_size=0.33, random_state=42)\n",
    "    #X = X.replace(np.nan, 0)     \n",
    "    reg = lgbm.LGBMRegressor()\n",
    "    #reg.fit(X_train, y_train)\n",
    "    reg.fit(X, y)\n",
    "    #reg = RandomForestRegressor(max_depth=2, random_state=0).fit(X,y)\n",
    "    importances = reg.feature_importances_\n",
    "    print('importance', importances)\n",
    "    \n",
    "    lit_ravel, profile, og_shape = stack(Prediction_Path)\n",
    "    \n",
    "    X_test = np.transpose(lit_ravel)\n",
    "    #X_test[np.isnan(X_test)] = 0 \n",
    "    print(X.shape)\n",
    "    print(X_test.shape)\n",
    "    y_pred = reg.predict(X_test)  # make predictions\n",
    "    print('modelling done')    \n",
    "\n",
    "    #Predict on training to calc R2\n",
    "    \n",
    "    y_pred_val = reg.predict(X_val)\n",
    "    y_pred_train = reg.predict(X)\n",
    "    #Calculate R2    \n",
    "    r2 = r2_score(y, y_pred_train).round(2)\n",
    "    r2 = format(r2, '.2f')\n",
    "    print('r2_train', r2)\n",
    "    \n",
    "    r2 = r2_score(y_val, y_pred_val).round(2)\n",
    "    r2 = format(r2, '.2f')    \n",
    "    print('r2_val', r2)\n",
    "    \n",
    "    Binary_Mask = Prediction_Path[:-3] + 'Masks/Binary_Mask.tif'\n",
    "    with rasterio.open(Binary_Mask) as mask:\n",
    "            srcdata = mask.read()\n",
    "            B_Mask = srcdata[0].ravel()\n",
    "    y_pred = y_pred * B_Mask  \n",
    "    y_pred[y_pred==0] = np.nan\n",
    "    y_pred = y_pred.reshape(og_shape)\n",
    "    \n",
    "    with rasterio.open(outdir + 'Prediction_20200306_test3.tif', 'w', **profile) as dst:\n",
    "        dst.write(y_pred.astype(rasterio.float32))\n",
    "        \n",
    "    return y_pred_val,y_val, y_pred_train, y\n",
    "\n",
    "\n",
    "Training_Data_Path = 'C:/Users/Rasmu/Documents/Thesis/Hardangervidda/Training_Data/'\n",
    "Prediction_Path = 'C:/Users/Rasmu/Documents/Thesis/Hardangervidda/Dates/20200306/S1/'\n",
    "outdir = 'C:/Users/Rasmu/Documents/Thesis/Hardangervidda/Results/'\n",
    "y_pred_val,y_val,y_pred_train, y = model(Training_Data_Path, Prediction_Path, outdir)"
   ]
  },
  {
   "cell_type": "code",
   "execution_count": 74,
   "id": "3a799e8c",
   "metadata": {},
   "outputs": [
    {
     "data": {
      "image/png": "[encoded data removed]",
      "text/plain": [
       "<Figure size 1080x1080 with 1 Axes>"
      ]
     },
     "metadata": {
      "needs_background": "light"
     },
     "output_type": "display_data"
    }
   ],
   "source": [
    "plt.figure(figsize=(15, 15))\n",
    "plt.title('y')\n",
    "plt.xlabel('y_pred_train')\n",
    "plt.ylabel('snow_depth')\n",
    "#plt.scatter(y_pred_val, y_val, color='purple', s=4);\n",
    "plt.scatter(y_pred_train, y, color='purple', s=4);\n",
    "#plt.xlim([800, 1600])"
   ]
  },
  {
   "cell_type": "code",
   "execution_count": null,
   "id": "c7401634",
   "metadata": {},
   "outputs": [],
   "source": []
  }
 ],
 "metadata": {
  "kernelspec": {
   "display_name": "Python 3 (ipykernel)",
   "language": "python",
   "name": "python3"
  },
  "language_info": {
   "codemirror_mode": {
    "name": "ipython",
    "version": 3
   },
   "file_extension": ".py",
   "mimetype": "text/x-python",
   "name": "python",
   "nbconvert_exporter": "python",
   "pygments_lexer": "ipython3",
   "version": "3.7.9"
  }
 },
 "nbformat": 4,
 "nbformat_minor": 5
}
