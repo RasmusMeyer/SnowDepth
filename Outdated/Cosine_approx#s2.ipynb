{
 "cells": [
  {
   "cell_type": "code",
   "execution_count": 1,
   "id": "b0cc02d0",
   "metadata": {},
   "outputs": [],
   "source": [
    "import rasterio\n",
    "import numpy as np"
   ]
  },
  {
   "cell_type": "code",
   "execution_count": 2,
   "id": "e4fc3ed5",
   "metadata": {},
   "outputs": [],
   "source": [
    "#REMEMBER SAME RESOLUTION\n",
    "## PolSAR\n",
    "with rasterio.open('C://Users/Rasmu/Documents/Thesis/S1_raw/20200314_VH_smooth.tif') as src:\n",
    "    PolSAR = src.read(1)\n",
    "    shapes = src.read()\n",
    "    og_shape = shapes.shape\n",
    "    PolSAR = PolSAR.reshape(-1, 1)\n",
    "    PolSAR = PolSAR.flatten()\n",
    "    profile = src.profile"
   ]
  },
  {
   "cell_type": "code",
   "execution_count": 3,
   "id": "f23014db",
   "metadata": {},
   "outputs": [],
   "source": [
    "## Angle\n",
    "\n",
    "with rasterio.open('C://Users/Rasmu/Documents/Thesis/S1_angle//20200314_angle.tif') as src:\n",
    "    angle_data = src.read(1)\n",
    "    angle_data = angle_data.reshape(-1, 1)\n",
    "    angle_data = angle_data.flatten()"
   ]
  },
  {
   "cell_type": "code",
   "execution_count": 4,
   "id": "0d7b5c3e",
   "metadata": {},
   "outputs": [],
   "source": [
    "fixed_list = [40] * len(angle_data)\n",
    "fixed_array = np.array(fixed_list)"
   ]
  },
  {
   "cell_type": "code",
   "execution_count": 5,
   "id": "6d4b0f44",
   "metadata": {},
   "outputs": [],
   "source": [
    "fixed_radians_array = np.radians(fixed_array)\n",
    "radians_angle_data = np.radians(angle_data)"
   ]
  },
  {
   "cell_type": "code",
   "execution_count": 6,
   "id": "6db2b0bc",
   "metadata": {},
   "outputs": [],
   "source": [
    "cos_fixed = np.cos(fixed_radians_array)\n",
    "cos_data = np.cos(radians_angle_data)"
   ]
  },
  {
   "cell_type": "code",
   "execution_count": 7,
   "id": "cc1aaa25",
   "metadata": {},
   "outputs": [
    {
     "data": {
      "text/plain": [
       "213292356"
      ]
     },
     "execution_count": 7,
     "metadata": {},
     "output_type": "execute_result"
    }
   ],
   "source": [
    "len(cos_fixed)"
   ]
  },
  {
   "cell_type": "code",
   "execution_count": 8,
   "id": "fa4e7fee",
   "metadata": {},
   "outputs": [],
   "source": [
    "new_array = PolSAR * cos_fixed / cos_data\n",
    "new_array = new_array.reshape(og_shape)"
   ]
  },
  {
   "cell_type": "code",
   "execution_count": 9,
   "id": "6ee40a99",
   "metadata": {},
   "outputs": [],
   "source": [
    "with rasterio.open('C://Users/Rasmu/Documents/Thesis/S1_correlated//VH_20200314_corr.tif', 'w', **profile) as dst:\n",
    "    dst.write(new_array)"
   ]
  }
 ],
 "metadata": {
  "kernelspec": {
   "display_name": "Python 3 (ipykernel)",
   "language": "python",
   "name": "python3"
  },
  "language_info": {
   "codemirror_mode": {
    "name": "ipython",
    "version": 3
   },
   "file_extension": ".py",
   "mimetype": "text/x-python",
   "name": "python",
   "nbconvert_exporter": "python",
   "pygments_lexer": "ipython3",
   "version": "3.7.9"
  }
 },
 "nbformat": 4,
 "nbformat_minor": 5
}
