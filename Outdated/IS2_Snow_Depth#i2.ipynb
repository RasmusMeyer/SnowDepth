{
 "cells": [
  {
   "cell_type": "code",
   "execution_count": 31,
   "metadata": {},
   "outputs": [],
   "source": [
    "import rasterio\n",
    "import geopandas as gpd\n",
    "import pyproj\n",
    "import os\n",
    "import matplotlib.pyplot as plt"
   ]
  },
  {
   "cell_type": "code",
   "execution_count": 32,
   "metadata": {},
   "outputs": [],
   "source": [
    "def snow_depth(path, DEM, SLOPE, outdir):\n",
    "    \n",
    "    for file in os.listdir(path):\n",
    "        if file.endswith('shp'):\n",
    "            filename = file[0:5]\n",
    "            points = os.path.join(path,file)\n",
    "\n",
    "            pts = gpd.read_file(points)\n",
    "            \n",
    "\n",
    "            pts['lon'] = pts.geometry.x\n",
    "            pts['lat'] = pts.geometry.y\n",
    "\n",
    "            coords = [(x,y) for x, y in zip(pts.lon, pts.lat)]\n",
    "\n",
    "            src = rasterio.open(DEM)\n",
    "            slope = rasterio.open(SLOPE)\n",
    "            water = rasterio.open(WATER)\n",
    "            fc = rasterio.open(FC)\n",
    "            wsc = rasterio.open(WSC)\n",
    "            si = rasterio.open(SI)\n",
    "            \n",
    "\n",
    "            pts['DEM'] = [x[0] for x in src.sample(coords)]\n",
    "            pts['SLOPE'] = [x[0] for x in slope.sample(coords)]\n",
    "            pts['WATER'] = [x[0] for x in water.sample(coords)]\n",
    "            pts['FC'] = [x[0] for x in fc.sample(coords)]\n",
    "            pts['WSC'] = [x[0] for x in wsc.sample(coords)]\n",
    "            pts['SI'] = [x[0] for x in si.sample(coords)]\n",
    "            \n",
    "            #TESTING ARCTIC DEM\n",
    "            #pts['SD'] = round(pts.Est_Surf - pts.DEM,2)\n",
    "            pts['SD'] = round(pts.Surf_mean - pts.DEM,2)\n",
    "            \n",
    "            print('Training Points: ',pts.shape[0])\n",
    "            pts = pts[pts['SLOPE'] < 8]\n",
    "            print('Slope: ',pts.shape[0])\n",
    "            pts = pts[pts['WATER'] < 1]\n",
    "            print('water: ',pts.shape[0])\n",
    "            pts = pts[pts['FC'] > 0]\n",
    "            print('fc: ',pts.shape[0])\n",
    "            pts = pts[pts['WSC'] > 0]\n",
    "            print('wsc: ',pts.shape[0])\n",
    "            \n",
    "            pts = pts[pts['SD'] < 8]\n",
    "            pts = pts[pts['SD'] > 0]\n",
    "            print('Outliers: ',pts.shape[0])\n",
    "\n",
    "            pts.to_file(outdir+'SD_DL'+filename+'.shp')\n",
    "            print('processing completed for beam: ', filename)\n",
    "    return pts\n",
    "        "
   ]
  },
  {
   "cell_type": "code",
   "execution_count": 33,
   "metadata": {},
   "outputs": [],
   "source": [
    "DEM = 'C:/Users/Rasmu/Documents/Thesis/DEM/ArcticDEM_10m_DL.tif'\n",
    "#DEM = 'C:/Users/Rasmu/Documents/Thesis/DEM/MergedDEM10m.tif'\n",
    "SLOPE = 'C:/Users/Rasmu/Documents/Thesis/Slope_Mask/Slope.tif'\n",
    "WATER = 'C:/Users/Rasmu/Documents/Thesis/Water_Mask/WATERMASK.tif'\n",
    "FC = 'C:/Users/Rasmu/Documents/Thesis/S2_Masks/Forest_Cover_Mask.tif'\n",
    "WSC = 'C:/Users/Rasmu/Documents/Thesis/Water_Mask/WSC_Mask.tif'\n",
    "SI = 'C:/Users/Rasmu/Documents/Thesis/S2_Masks/SI_Geilo_100m.tif'\n",
    "path = 'C:/Users/Rasmu/Documents/Thesis/Surface_Estimation/'\n",
    "outdir = 'C:/Users/Rasmu/Documents/Thesis/Snow_Depth_2/'"
   ]
  },
  {
   "cell_type": "code",
   "execution_count": 34,
   "metadata": {
    "scrolled": true
   },
   "outputs": [
    {
     "name": "stdout",
     "output_type": "stream",
     "text": [
      "Training Points:  12068\n",
      "Slope:  3286\n",
      "water:  2252\n",
      "fc:  1714\n",
      "wsc:  1397\n",
      "Outliers:  687\n",
      "processing completed for beam:  gt2l1\n"
     ]
    }
   ],
   "source": [
    "df = snow_depth(path, DEM, SLOPE,  outdir)"
   ]
  },
  {
   "cell_type": "code",
   "execution_count": 35,
   "metadata": {},
   "outputs": [],
   "source": [
    "def Visual(df):\n",
    "\n",
    "  plt.figure(figsize=(16, 8))\n",
    "  y1 = 'Est_Surf'\n",
    "  y2 = 'DEM'\n",
    "\n",
    "  minVal1, maxVal1 = df[y1].min(skipna=True), df[y1].max()\n",
    "  minVal2, maxVal2 = df[y2].min(skipna=True), df[y2].max()\n",
    "  minVal3 = minVal2 - 10\n",
    "\n",
    "  plt.scatter(df.AT_dist.values,df.Est_Surf.values,c='g',s=5)\n",
    "  plt.scatter(df.AT_dist.values,df.DEM.values,c='r',s=5)\n",
    "\n",
    "  #plt.ylim(minVal1, maxVal1);\n",
    "  #plt.xlim(df.AT_dist.values[0],df.AT_dist.values[-1]);\n",
    "  plt.ylim(1300, 1400);\n",
    "  plt.xlim(67000,70500);"
   ]
  },
  {
   "cell_type": "code",
   "execution_count": 36,
   "metadata": {
    "scrolled": true
   },
   "outputs": [],
   "source": [
    "#Visual(df)"
   ]
  },
  {
   "cell_type": "code",
   "execution_count": 37,
   "metadata": {},
   "outputs": [
    {
     "data": {
      "text/plain": [
       "1.282904693572548"
      ]
     },
     "execution_count": 37,
     "metadata": {},
     "output_type": "execute_result"
    }
   ],
   "source": [
    "df.SD.std()"
   ]
  },
  {
   "cell_type": "code",
   "execution_count": 38,
   "metadata": {},
   "outputs": [
    {
     "data": {
      "text/plain": [
       "2.5213245997088793"
      ]
     },
     "execution_count": 38,
     "metadata": {},
     "output_type": "execute_result"
    }
   ],
   "source": [
    "df.SD.mean()"
   ]
  },
  {
   "cell_type": "code",
   "execution_count": null,
   "metadata": {},
   "outputs": [],
   "source": []
  }
 ],
 "metadata": {
  "kernelspec": {
   "display_name": "Python 3 (ipykernel)",
   "language": "python",
   "name": "python3"
  },
  "language_info": {
   "codemirror_mode": {
    "name": "ipython",
    "version": 3
   },
   "file_extension": ".py",
   "mimetype": "text/x-python",
   "name": "python",
   "nbconvert_exporter": "python",
   "pygments_lexer": "ipython3",
   "version": "3.7.9"
  }
 },
 "nbformat": 4,
 "nbformat_minor": 4
}
