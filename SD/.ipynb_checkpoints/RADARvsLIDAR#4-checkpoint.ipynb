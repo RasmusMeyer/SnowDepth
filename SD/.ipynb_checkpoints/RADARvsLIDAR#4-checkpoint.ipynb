{
 "cells": [
  {
   "cell_type": "code",
   "execution_count": 15,
   "metadata": {},
   "outputs": [],
   "source": [
    "import rasterio\n",
    "import geopandas as gpd\n",
    "import pyproj\n",
    "import os\n",
    "import pandas as pd\n",
    "import matplotlib.pyplot as plt\n",
    "import numpy as np\n",
    "from sklearn.linear_model import LinearRegression\n",
    "from numpy import *\n",
    "from sklearn.ensemble import RandomForestRegressor\n",
    "import lightgbm as lgbm\n",
    "from sklearn.metrics import r2_score"
   ]
  },
  {
   "cell_type": "code",
   "execution_count": 26,
   "metadata": {},
   "outputs": [],
   "source": [
    "def SD_Regression(path, RADAR, RADAR_pred, SI_Mask, FC_Mask, W_Mask, outdir):\n",
    "    \n",
    "    i = 0\n",
    "    for file in os.listdir(path):\n",
    "        if file.endswith('shp'):\n",
    "\n",
    "#            filename = file[3:7]\n",
    "            points = os.path.join(path,file)\n",
    "            pts = gpd.read_file(points)\n",
    "            \n",
    "            if i != 0:\n",
    "                df_train = pd.concat([df_train,pts])\n",
    "            else: \n",
    "                df_train = pts\n",
    "                i=i+1           \n",
    "    \n",
    "    print('Beams Merged')\n",
    "    \n",
    "    df_train['lon'] = df_train.geometry.x\n",
    "    df_train['lat'] = df_train.geometry.y\n",
    "\n",
    "    coords = [(x,y) for x, y in zip(df_train.lon, df_train.lat)]\n",
    "\n",
    "    src = rasterio.open(RADAR)\n",
    "    src_mask = rasterio.open(SI_Mask)\n",
    "    src_fc_mask = rasterio.open(FC_Mask)\n",
    "    src_w_mask = rasterio.open(W_Mask)\n",
    "    # Sample the raster at every point location and store values in DataFrame\n",
    "    df_train['RADAR'] = [x[0] for x in src.sample(coords)]\n",
    "    \n",
    "    df_train['SI_Mask'] = [x[0] for x in src_mask.sample(coords)]\n",
    "    df_train['FC_Mask'] = [x[0] for x in src_fc_mask.sample(coords)]\n",
    "    df_train['W_Mask'] = [x[0] for x in src_w_mask.sample(coords)]\n",
    "    \n",
    "    print('Training data ready')\n",
    "    \n",
    "    df_train = df_train[df_train['SI_Mask'] > 0]\n",
    "    df_train = df_train[df_train['FC_Mask'] > 0]\n",
    "    df_train = df_train[df_train['W_Mask'] < 1]\n",
    "    #df_train = df_train[df_train['ESD_std'] < 4]\n",
    "    df_train = df_train[df_train['SLOPE'] != 0]\n",
    "    #df_train = df_train[df_train['SD'] > 0]\n",
    "    #df_train = df_train[df_train['SD'] < 5]\n",
    "    #df_train = df_train[df_train['RADAR'] > -22]\n",
    "    df_train = df_train[df_train['RADAR'] < 0]\n",
    "    \n",
    "    print('Shape of training data ', df_train.shape)\n",
    "    \n",
    "    plt.plot(df_train.AT_dist, df_train.SD, 'o', color='black');\n",
    "    plt.plot(df_train.AT_dist, df_train.RADAR, 'o', color='black');\n",
    "    plt.plot(df_train.RADAR, df_train.SD, 'o', color='black');\n",
    "\n",
    "    X = np.array(df_train.RADAR).reshape(-1,1)\n",
    "    where_are_NaNs = isnan(X)\n",
    "    X[where_are_NaNs] = 0    \n",
    "    y = np.array(df_train.SD)\n",
    "    #reg = LinearRegression().fit(X, y)\n",
    "    #reg = RandomForestRegressor(max_depth=2, random_state=0).fit(X,y)\n",
    "    reg = lgbm.LGBMRegressor()\n",
    "    reg.fit(X, y)\n",
    "    \n",
    "    print('Modelled')\n",
    "    \n",
    "    with rasterio.open(SI_Mask, 'r') as mask:\n",
    "        mask_data = mask.read()\n",
    "        mask_data = np.array(mask_data).reshape(-1,1)\n",
    "        mask_data = mask_data.flatten()\n",
    "    with rasterio.open(FC_Mask, 'r') as mask:\n",
    "        fc_mask_data = mask.read()\n",
    "        fc_mask_data = np.array(fc_mask_data).reshape(-1,1)\n",
    "        fc_mask_data = mask_data.flatten()\n",
    "    \n",
    "    with rasterio.open(RADAR_pred, 'r') as dataset:\n",
    "        \n",
    "        data = dataset.read()\n",
    "        og_shape = data.shape\n",
    "        \n",
    "        data = np.array(data).reshape(-1,1)\n",
    "        \n",
    "        where_are_NaNs = isnan(data)\n",
    "        data[where_are_NaNs] = 0\n",
    "        \n",
    "        y_pred = reg.predict(data)\n",
    "        \n",
    "        print('Predicted')\n",
    "        \n",
    "        #y_pred = y_pred.flatten()\n",
    "        y_pred = y_pred * mask_data * fc_mask_data\n",
    "        profile = dataset.profile\n",
    "        y_pred = y_pred.reshape(og_shape)\n",
    "        \n",
    "        print('Masked')\n",
    "\n",
    "        y_pred_train = reg.predict(X)\n",
    "        r2 = str(r2_score(y, y_pred_train).round(2))\n",
    "        print('R2 score is: ', r2)\n",
    "        \n",
    "        with rasterio.open('C:/Users/Rasmu/Documents/Thesis/Regression/30012022_'+r2+'.tif', 'w', **profile) as dst:\n",
    "            dst.write(y_pred.astype(rasterio.float64))\n",
    "\n",
    "        \n",
    "    return df_train"
   ]
  },
  {
   "cell_type": "code",
   "execution_count": 27,
   "metadata": {},
   "outputs": [],
   "source": [
    "path = 'C:/Users/Rasmu/Documents/Thesis/SD_Rescaled/'\n",
    "RADAR = 'C://Users/Rasmu/Documents/Thesis/S1_resampled/Lee_filter_newdiff_100m_S5.tif'\n",
    "RADAR_pred = 'C://Users/Rasmu/Documents/Thesis/S1_resampled/Lee_filter_newdiff_feb_100m_S5.tif'\n",
    "SI_Mask = 'C:/Users/Rasmu/Documents/Thesis/S2_Masks/SI_Geilo_100m.tif'\n",
    "FC_Mask = 'C:/Users/Rasmu/Documents/Thesis/S2_Masks/Forest_Cover_Mask.tif'\n",
    "W_Mask = 'C:/Users/Rasmu/Documents/Thesis/Water_Mask/WATERMASK.tif'\n",
    "outdir = 'C:/Users/Rasmu/Documents/Thesis/Regression/'"
   ]
  },
  {
   "cell_type": "code",
   "execution_count": 28,
   "metadata": {},
   "outputs": [
    {
     "name": "stdout",
     "output_type": "stream",
     "text": [
      "Beams Merged\n",
      "Training data ready\n",
      "Shape of training data  (2283, 12)\n",
      "Modelled\n",
      "Predicted\n",
      "Masked\n",
      "R2 score is:  0.54\n"
     ]
    },
    {
     "data": {
      "image/png": "[encoded data removed]",
      "text/plain": [
       "<Figure size 432x288 with 1 Axes>"
      ]
     },
     "metadata": {
      "needs_background": "light"
     },
     "output_type": "display_data"
    }
   ],
   "source": [
    "df = SD_Regression(path, RADAR, RADAR_pred, SI_Mask, FC_Mask, W_Mask, outdir)"
   ]
  },
  {
   "cell_type": "code",
   "execution_count": null,
   "metadata": {},
   "outputs": [],
   "source": [
    "plt.figure(figsize=(15, 15))\n",
    "plt.xlabel('Radar Backscatter')\n",
    "plt.ylabel('snow_depth')\n",
    "#plt.xlim([-1, 5])\n",
    "plt.scatter(df.RADAR, df.SD, color='blue');"
   ]
  },
  {
   "cell_type": "code",
   "execution_count": null,
   "metadata": {},
   "outputs": [],
   "source": []
  },
  {
   "cell_type": "code",
   "execution_count": null,
   "metadata": {},
   "outputs": [],
   "source": []
  }
 ],
 "metadata": {
  "kernelspec": {
   "display_name": "Python 3 (ipykernel)",
   "language": "python",
   "name": "python3"
  },
  "language_info": {
   "codemirror_mode": {
    "name": "ipython",
    "version": 3
   },
   "file_extension": ".py",
   "mimetype": "text/x-python",
   "name": "python",
   "nbconvert_exporter": "python",
   "pygments_lexer": "ipython3",
   "version": "3.7.9"
  }
 },
 "nbformat": 4,
 "nbformat_minor": 4
}
