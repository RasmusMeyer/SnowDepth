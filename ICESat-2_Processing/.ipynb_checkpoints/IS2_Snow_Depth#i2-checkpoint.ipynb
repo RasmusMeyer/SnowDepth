{
 "cells": [
  {
   "cell_type": "code",
   "execution_count": 29,
   "metadata": {},
   "outputs": [],
   "source": [
    "import rasterio\n",
    "import geopandas as gpd\n",
    "import pyproj\n",
    "import os\n",
    "import matplotlib.pyplot as plt"
   ]
  },
  {
   "cell_type": "code",
   "execution_count": 30,
   "metadata": {},
   "outputs": [],
   "source": [
    "def snow_depth(path, DEM, SLOPE, outdir):\n",
    "    \n",
    "    for file in os.listdir(path):\n",
    "        if file.endswith('shp'):\n",
    "            filename = file[0:4]\n",
    "            points = os.path.join(path,file)\n",
    "\n",
    "            pts = gpd.read_file(points)\n",
    "\n",
    "            pts['lon'] = pts.geometry.x\n",
    "            pts['lat'] = pts.geometry.y\n",
    "\n",
    "            coords = [(x,y) for x, y in zip(pts.lon, pts.lat)]\n",
    "\n",
    "            src = rasterio.open(DEM)\n",
    "            src_slope = rasterio.open(SLOPE)\n",
    "\n",
    "            pts['DEM'] = [x[0] for x in src.sample(coords)]\n",
    "            pts['SLOPE'] = [x[0] for x in src_slope.sample(coords)]\n",
    "            pts['SD'] = round(pts.Est_Surf - pts.DEM,2)\n",
    "            \n",
    "            print(pts.shape)\n",
    "            #pts = pts[pts['SLOPE'] != 0]\n",
    "            #pts = pts[pts['SD'] < 5]\n",
    "            print(pts.shape)\n",
    "            #pts = pts[pts['SD'] > 0]\n",
    "\n",
    "            pts.to_file(outdir+'SD_'+filename+'.shp')\n",
    "            print('processing completed for beam: ', filename)\n",
    "        "
   ]
  },
  {
   "cell_type": "code",
   "execution_count": 31,
   "metadata": {},
   "outputs": [],
   "source": [
    "DEM = 'C:/Users/Rasmu/Documents/Thesis/DEM/mergedDEM10m.tif'\n",
    "SLOPE = 'C:/Users/Rasmu/Documents/Thesis/Slope_Mask/Slope10.tif'\n",
    "path = 'C:/Users/Rasmu/Documents/Thesis/Surface_Estimation_2/'\n",
    "outdir = 'C:/Users/Rasmu/Documents/Thesis/Snow_Depth_2/'"
   ]
  },
  {
   "cell_type": "code",
   "execution_count": 32,
   "metadata": {},
   "outputs": [
    {
     "name": "stdout",
     "output_type": "stream",
     "text": [
      "(631, 12)\n",
      "(631, 12)\n",
      "processing completed for beam:  gt1l\n",
      "(631, 12)\n",
      "(631, 12)\n",
      "processing completed for beam:  gt1r\n",
      "(631, 12)\n",
      "(631, 12)\n",
      "processing completed for beam:  gt2l\n",
      "(631, 12)\n",
      "(631, 12)\n",
      "processing completed for beam:  gt2r\n",
      "(631, 12)\n",
      "(631, 12)\n",
      "processing completed for beam:  gt3l\n",
      "(631, 12)\n",
      "(631, 12)\n",
      "processing completed for beam:  gt3r\n"
     ]
    }
   ],
   "source": [
    "snow_depth(path, DEM, SLOPE,  outdir)"
   ]
  },
  {
   "cell_type": "code",
   "execution_count": null,
   "metadata": {},
   "outputs": [],
   "source": []
  },
  {
   "cell_type": "code",
   "execution_count": null,
   "metadata": {},
   "outputs": [],
   "source": []
  }
 ],
 "metadata": {
  "kernelspec": {
   "display_name": "Python 3 (ipykernel)",
   "language": "python",
   "name": "python3"
  },
  "language_info": {
   "codemirror_mode": {
    "name": "ipython",
    "version": 3
   },
   "file_extension": ".py",
   "mimetype": "text/x-python",
   "name": "python",
   "nbconvert_exporter": "python",
   "pygments_lexer": "ipython3",
   "version": "3.7.9"
  }
 },
 "nbformat": 4,
 "nbformat_minor": 4
}
