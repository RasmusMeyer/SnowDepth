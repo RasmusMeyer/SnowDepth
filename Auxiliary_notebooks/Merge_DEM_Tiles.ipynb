{
 "cells": [
  {
   "cell_type": "code",
   "execution_count": 6,
   "metadata": {},
   "outputs": [],
   "source": [
    "import contextlib\n",
    "\n",
    "import rasterio\n",
    "import rasterio.merge\n",
    "import os\n",
    "from rasterio.enums import Resampling \n",
    "import glob\n",
    "\n",
    "def merge_my_files(inpaths, outpath):\n",
    "    with contextlib.ExitStack() as es:\n",
    "        datasets = [es.enter_context(rasterio.open(path)) for path in inpaths]\n",
    "        profile = datasets[0].profile.copy()\n",
    "        data, transform = rasterio.merge.merge(datasets, res=500, method='last')\n",
    "        profile.update({\n",
    "        'width': data.shape[-1],\n",
    "        'height': data.shape[-2],\n",
    "        'transform': transform\n",
    "        })\n",
    "        with rasterio.open(outpath, 'w', **profile) as dst:\n",
    "            dst.write(data)"
   ]
  },
  {
   "cell_type": "code",
   "execution_count": 7,
   "metadata": {},
   "outputs": [],
   "source": [
    "#inpath = 'C:/Users/Rasmus/Documents/dtm_norway_S/dtm10/data/'\n",
    "#outpath = r'C:\\Users\\mathi\\My Drive (thesis20212022@gmail.com)/arcticDEM.tif'"
   ]
  },
  {
   "cell_type": "code",
   "execution_count": 8,
   "metadata": {},
   "outputs": [],
   "source": [
    "path = 'C:/Users/Rasmus/Mit drev (thesis20212022@gmail.com)/Norway/Results/'\n",
    "lit = glob.glob(path + '*20220104*.tif')\n",
    "outpath = path + '20220104_pred.tif'"
   ]
  },
  {
   "cell_type": "code",
   "execution_count": 9,
   "metadata": {},
   "outputs": [
    {
     "data": {
      "text/plain": [
       "['20200103',\n",
       " '20200109',\n",
       " '20200115',\n",
       " '20200121',\n",
       " '20200202',\n",
       " '20200208',\n",
       " '20200214',\n",
       " '20200220',\n",
       " '20200226',\n",
       " '20200303',\n",
       " '20200309',\n",
       " '20200315',\n",
       " '20200321',\n",
       " '20200327',\n",
       " '20200402',\n",
       " '20200408',\n",
       " '20200414',\n",
       " '20200420',\n",
       " '20200426',\n",
       " '20220104',\n",
       " '20220116',\n",
       " '20220128',\n",
       " '20220209',\n",
       " '20220221',\n",
       " '20220305',\n",
       " '20220317',\n",
       " '20220329']"
      ]
     },
     "execution_count": 9,
     "metadata": {},
     "output_type": "execute_result"
    }
   ],
   "source": [
    "import os\n",
    "dates=[] \n",
    "rootdir = 'C:/Users/Rasmus/Mit drev (thesis20212022@gmail.com)/Norway/Dates_pred/'\n",
    "for file in os.listdir(rootdir):\n",
    "    dates.append(file)\n",
    "dates    "
   ]
  },
  {
   "cell_type": "code",
   "execution_count": 10,
   "metadata": {},
   "outputs": [],
   "source": [
    "#lit = []\n",
    "#for file in os.listdir(inpath):\n",
    "#    if file.endswith('.tif'):\n",
    "#        lit.append(inpath+file)\n",
    "#    "
   ]
  },
  {
   "cell_type": "code",
   "execution_count": 11,
   "metadata": {},
   "outputs": [
    {
     "name": "stdout",
     "output_type": "stream",
     "text": [
      "['C:/Users/Rasmus/Mit drev (thesis20212022@gmail.com)/Norway/Results\\\\20200103_North.tif', 'C:/Users/Rasmus/Mit drev (thesis20212022@gmail.com)/Norway/Results\\\\20200103_South.tif']\n",
      "done prediction for date:  20200103\n",
      "['C:/Users/Rasmus/Mit drev (thesis20212022@gmail.com)/Norway/Results\\\\20200109_North.tif', 'C:/Users/Rasmus/Mit drev (thesis20212022@gmail.com)/Norway/Results\\\\20200109_South.tif']\n",
      "done prediction for date:  20200109\n",
      "['C:/Users/Rasmus/Mit drev (thesis20212022@gmail.com)/Norway/Results\\\\20200115_North.tif', 'C:/Users/Rasmus/Mit drev (thesis20212022@gmail.com)/Norway/Results\\\\20200115_South.tif']\n",
      "done prediction for date:  20200115\n",
      "['C:/Users/Rasmus/Mit drev (thesis20212022@gmail.com)/Norway/Results\\\\20200121_North.tif', 'C:/Users/Rasmus/Mit drev (thesis20212022@gmail.com)/Norway/Results\\\\20200121_South.tif']\n",
      "done prediction for date:  20200121\n",
      "['C:/Users/Rasmus/Mit drev (thesis20212022@gmail.com)/Norway/Results\\\\20200202_North.tif', 'C:/Users/Rasmus/Mit drev (thesis20212022@gmail.com)/Norway/Results\\\\20200202_South.tif']\n",
      "done prediction for date:  20200202\n",
      "['C:/Users/Rasmus/Mit drev (thesis20212022@gmail.com)/Norway/Results\\\\20200208_North.tif', 'C:/Users/Rasmus/Mit drev (thesis20212022@gmail.com)/Norway/Results\\\\20200208_South.tif']\n",
      "done prediction for date:  20200208\n",
      "['C:/Users/Rasmus/Mit drev (thesis20212022@gmail.com)/Norway/Results\\\\20200214_North.tif', 'C:/Users/Rasmus/Mit drev (thesis20212022@gmail.com)/Norway/Results\\\\20200214_South.tif']\n",
      "done prediction for date:  20200214\n",
      "['C:/Users/Rasmus/Mit drev (thesis20212022@gmail.com)/Norway/Results\\\\20200220_North.tif', 'C:/Users/Rasmus/Mit drev (thesis20212022@gmail.com)/Norway/Results\\\\20200220_South.tif']\n",
      "done prediction for date:  20200220\n",
      "['C:/Users/Rasmus/Mit drev (thesis20212022@gmail.com)/Norway/Results\\\\20200226_North.tif', 'C:/Users/Rasmus/Mit drev (thesis20212022@gmail.com)/Norway/Results\\\\20200226_South.tif']\n",
      "done prediction for date:  20200226\n",
      "['C:/Users/Rasmus/Mit drev (thesis20212022@gmail.com)/Norway/Results\\\\20200303_North.tif', 'C:/Users/Rasmus/Mit drev (thesis20212022@gmail.com)/Norway/Results\\\\20200303_South.tif']\n",
      "done prediction for date:  20200303\n",
      "['C:/Users/Rasmus/Mit drev (thesis20212022@gmail.com)/Norway/Results\\\\20200309_North.tif', 'C:/Users/Rasmus/Mit drev (thesis20212022@gmail.com)/Norway/Results\\\\20200309_South.tif']\n",
      "done prediction for date:  20200309\n",
      "['C:/Users/Rasmus/Mit drev (thesis20212022@gmail.com)/Norway/Results\\\\20200315_North.tif', 'C:/Users/Rasmus/Mit drev (thesis20212022@gmail.com)/Norway/Results\\\\20200315_South.tif']\n",
      "done prediction for date:  20200315\n",
      "['C:/Users/Rasmus/Mit drev (thesis20212022@gmail.com)/Norway/Results\\\\20200321_North.tif', 'C:/Users/Rasmus/Mit drev (thesis20212022@gmail.com)/Norway/Results\\\\20200321_South.tif']\n",
      "done prediction for date:  20200321\n",
      "['C:/Users/Rasmus/Mit drev (thesis20212022@gmail.com)/Norway/Results\\\\20200327_North.tif', 'C:/Users/Rasmus/Mit drev (thesis20212022@gmail.com)/Norway/Results\\\\20200327_South.tif']\n",
      "done prediction for date:  20200327\n",
      "['C:/Users/Rasmus/Mit drev (thesis20212022@gmail.com)/Norway/Results\\\\20200402_North.tif', 'C:/Users/Rasmus/Mit drev (thesis20212022@gmail.com)/Norway/Results\\\\20200402_South.tif']\n",
      "done prediction for date:  20200402\n",
      "['C:/Users/Rasmus/Mit drev (thesis20212022@gmail.com)/Norway/Results\\\\20200408_North.tif', 'C:/Users/Rasmus/Mit drev (thesis20212022@gmail.com)/Norway/Results\\\\20200408_South.tif']\n",
      "done prediction for date:  20200408\n",
      "['C:/Users/Rasmus/Mit drev (thesis20212022@gmail.com)/Norway/Results\\\\20200414_North.tif', 'C:/Users/Rasmus/Mit drev (thesis20212022@gmail.com)/Norway/Results\\\\20200414_South.tif']\n",
      "done prediction for date:  20200414\n",
      "['C:/Users/Rasmus/Mit drev (thesis20212022@gmail.com)/Norway/Results\\\\20200420_North.tif', 'C:/Users/Rasmus/Mit drev (thesis20212022@gmail.com)/Norway/Results\\\\20200420_South.tif']\n",
      "done prediction for date:  20200420\n",
      "['C:/Users/Rasmus/Mit drev (thesis20212022@gmail.com)/Norway/Results\\\\20200426_North.tif', 'C:/Users/Rasmus/Mit drev (thesis20212022@gmail.com)/Norway/Results\\\\20200426_South.tif']\n",
      "done prediction for date:  20200426\n",
      "['C:/Users/Rasmus/Mit drev (thesis20212022@gmail.com)/Norway/Results\\\\20220104_North.tif', 'C:/Users/Rasmus/Mit drev (thesis20212022@gmail.com)/Norway/Results\\\\20220104_South.tif']\n",
      "done prediction for date:  20220104\n",
      "['C:/Users/Rasmus/Mit drev (thesis20212022@gmail.com)/Norway/Results\\\\20220116_North.tif', 'C:/Users/Rasmus/Mit drev (thesis20212022@gmail.com)/Norway/Results\\\\20220116_South.tif']\n",
      "done prediction for date:  20220116\n",
      "['C:/Users/Rasmus/Mit drev (thesis20212022@gmail.com)/Norway/Results\\\\20220128_North.tif', 'C:/Users/Rasmus/Mit drev (thesis20212022@gmail.com)/Norway/Results\\\\20220128_South.tif']\n",
      "done prediction for date:  20220128\n",
      "['C:/Users/Rasmus/Mit drev (thesis20212022@gmail.com)/Norway/Results\\\\20220209_North.tif', 'C:/Users/Rasmus/Mit drev (thesis20212022@gmail.com)/Norway/Results\\\\20220209_South.tif']\n",
      "done prediction for date:  20220209\n",
      "['C:/Users/Rasmus/Mit drev (thesis20212022@gmail.com)/Norway/Results\\\\20220221_North.tif', 'C:/Users/Rasmus/Mit drev (thesis20212022@gmail.com)/Norway/Results\\\\20220221_South.tif']\n",
      "done prediction for date:  20220221\n",
      "['C:/Users/Rasmus/Mit drev (thesis20212022@gmail.com)/Norway/Results\\\\20220305_North.tif', 'C:/Users/Rasmus/Mit drev (thesis20212022@gmail.com)/Norway/Results\\\\20220305_South.tif']\n",
      "done prediction for date:  20220305\n",
      "['C:/Users/Rasmus/Mit drev (thesis20212022@gmail.com)/Norway/Results\\\\20220317_North.tif', 'C:/Users/Rasmus/Mit drev (thesis20212022@gmail.com)/Norway/Results\\\\20220317_South.tif']\n",
      "done prediction for date:  20220317\n",
      "['C:/Users/Rasmus/Mit drev (thesis20212022@gmail.com)/Norway/Results\\\\20220329_North.tif', 'C:/Users/Rasmus/Mit drev (thesis20212022@gmail.com)/Norway/Results\\\\20220329_South.tif']\n",
      "done prediction for date:  20220329\n"
     ]
    }
   ],
   "source": [
    "for i in dates:\n",
    "    lit = glob.glob(path + '*'+i+'*.tif')\n",
    "    print(lit)\n",
    "    outpath = path + i + '_prediction.tif'\n",
    "    merge_my_files(lit,outpath)\n",
    "    print('done prediction for date: ', i)"
   ]
  },
  {
   "cell_type": "code",
   "execution_count": 12,
   "metadata": {},
   "outputs": [],
   "source": [
    "########"
   ]
  },
  {
   "cell_type": "code",
   "execution_count": null,
   "metadata": {},
   "outputs": [],
   "source": []
  }
 ],
 "metadata": {
  "kernelspec": {
   "display_name": "Python 3 (ipykernel)",
   "language": "python",
   "name": "python3"
  },
  "language_info": {
   "codemirror_mode": {
    "name": "ipython",
    "version": 3
   },
   "file_extension": ".py",
   "mimetype": "text/x-python",
   "name": "python",
   "nbconvert_exporter": "python",
   "pygments_lexer": "ipython3",
   "version": "3.9.7"
  }
 },
 "nbformat": 4,
 "nbformat_minor": 4
}
