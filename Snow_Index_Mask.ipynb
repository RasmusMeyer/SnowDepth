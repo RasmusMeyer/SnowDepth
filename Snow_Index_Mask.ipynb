{
 "cells": [
  {
   "cell_type": "code",
   "execution_count": 16,
   "id": "68d58e3e",
   "metadata": {},
   "outputs": [],
   "source": [
    "import rasterio\n",
    "import numpy as np\n",
    "from numpy import zeros, newaxis\n",
    "from scipy.ndimage import gaussian_filter"
   ]
  },
  {
   "cell_type": "code",
   "execution_count": 17,
   "id": "279950ed",
   "metadata": {},
   "outputs": [
    {
     "name": "stdout",
     "output_type": "stream",
     "text": [
      "(12052, 15488)\n"
     ]
    }
   ],
   "source": [
    "with rasterio.open('C://Users/Rasmu/Documents/Thesis/Forest_Cover.tif') as src:\n",
    "    data = src.read(1)\n",
    "    shapes = src.read(1)\n",
    "    print(shapes.shape)\n",
    "    og_shape = shapes.shape\n",
    "    profile = src.profile\n",
    "    \n",
    "    \n",
    "    data = gaussian_filter(data, sigma=5)\n",
    "    \n",
    "    data = data.reshape(-1, 1)\n",
    "    data = data.flatten()\n",
    "    \n",
    "    profile['count'] = 1\n",
    "    data = np.where(data>10,0,1)\n",
    "    \n",
    "    data = data.reshape(og_shape)\n",
    "    data = data[newaxis, :, :,]\n",
    "    data = data.astype(np.uint8)\n",
    "    profile.update(dtype=rasterio.uint8)\n",
    "with rasterio.open('C://Users/Rasmu/Documents/Thesis/Forest_Cover_Mask8.tif', 'w', **profile) as dst:\n",
    "    dst.write(data)"
   ]
  },
  {
   "cell_type": "code",
   "execution_count": null,
   "id": "76f7dbb9",
   "metadata": {},
   "outputs": [],
   "source": []
  },
  {
   "cell_type": "code",
   "execution_count": null,
   "id": "9006b741",
   "metadata": {},
   "outputs": [],
   "source": []
  }
 ],
 "metadata": {
  "kernelspec": {
   "display_name": "Python 3 (ipykernel)",
   "language": "python",
   "name": "python3"
  },
  "language_info": {
   "codemirror_mode": {
    "name": "ipython",
    "version": 3
   },
   "file_extension": ".py",
   "mimetype": "text/x-python",
   "name": "python",
   "nbconvert_exporter": "python",
   "pygments_lexer": "ipython3",
   "version": "3.7.9"
  }
 },
 "nbformat": 4,
 "nbformat_minor": 5
}
