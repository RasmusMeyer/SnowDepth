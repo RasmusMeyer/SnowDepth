{
 "cells": [
  {
   "cell_type": "code",
   "execution_count": 11,
   "id": "db2d5a53",
   "metadata": {},
   "outputs": [
    {
     "name": "stdout",
     "output_type": "stream",
     "text": [
      "-32767.0\n",
      "-32767.0\n"
     ]
    }
   ],
   "source": [
    "import rasterio\n",
    "from rasterio.fill import fillnodata\n",
    "B_mask= 'C:/Users/Rasmu/Documents/Thesis/Hardangervidda/Masks/april_2020_Binary_Mask.tif'\n",
    "\n",
    "mask_file = 'C:/Users/Rasmu/Documents/Thesis/Hardangervidda/Results/Prediction_ArcticDEM8.tif'\n",
    "with rasterio.open(mask_file) as srcm:\n",
    "    print(srcm.nodata)\n",
    "    profile = srcm.profile\n",
    "    arrm = srcm.read(1)\n",
    "    \n",
    "tif_file = 'C:/Users/Rasmu/Documents/Thesis/Hardangervidda/Results/Prediction_ArcticDEM8.tif'\n",
    "with rasterio.open(tif_file) as src:\n",
    "    print(src.nodata)\n",
    "    profile = src.profile\n",
    "    arr = src.read(1)\n",
    "    arr_filled = fillnodata(arr, mask=arrm, max_search_distance=100, smoothing_iterations=1)\n",
    "    arr_filled = fillnodata(arr, mask=arrm, max_search_distance=100, smoothing_iterations=1)\n",
    "\n",
    "newtif_file = 'C:/Users/Rasmu/Documents/Thesis/Hardangervidda/Results/Prediction_ArcticDEM8_fill6.tif'  \n",
    "with rasterio.open(newtif_file, 'w', **profile) as dest:\n",
    "    dest.write_band(1, arr_filled)"
   ]
  },
  {
   "cell_type": "code",
   "execution_count": null,
   "id": "09a50941",
   "metadata": {},
   "outputs": [],
   "source": []
  }
 ],
 "metadata": {
  "kernelspec": {
   "display_name": "Python 3 (ipykernel)",
   "language": "python",
   "name": "python3"
  },
  "language_info": {
   "codemirror_mode": {
    "name": "ipython",
    "version": 3
   },
   "file_extension": ".py",
   "mimetype": "text/x-python",
   "name": "python",
   "nbconvert_exporter": "python",
   "pygments_lexer": "ipython3",
   "version": "3.7.9"
  }
 },
 "nbformat": 4,
 "nbformat_minor": 5
}
