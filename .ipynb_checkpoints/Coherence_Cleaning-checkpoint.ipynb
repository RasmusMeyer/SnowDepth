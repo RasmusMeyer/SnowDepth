{
 "cells": [
  {
   "cell_type": "code",
   "execution_count": 1,
   "metadata": {},
   "outputs": [],
   "source": [
    "import contextlib\n",
    "from scipy.ndimage import gaussian_filter\n",
    "from skimage.morphology import rectangle \n",
    "import rasterio\n",
    "import rasterio.merge\n",
    "import os\n",
    "from rasterio.enums import Resampling \n",
    "from skimage.filters.rank import modal"
   ]
  },
  {
   "cell_type": "code",
   "execution_count": 2,
   "metadata": {},
   "outputs": [
    {
     "name": "stdout",
     "output_type": "stream",
     "text": [
      "1.2.6\n"
     ]
    }
   ],
   "source": [
    "print(rasterio.__version__)"
   ]
  },
  {
   "cell_type": "code",
   "execution_count": 3,
   "metadata": {},
   "outputs": [],
   "source": [
    "inpaths=['C://Users/Rasmus/Documents/Thesis/GEE_S1/20200314_VV_smooth.tif']\n",
    "outfile = 'C://Users/Rasmus/Documents/Thesis/GEE_S1/20200314_VV_smooth_100m_S20.tif'"
   ]
  },
  {
   "cell_type": "code",
   "execution_count": 4,
   "metadata": {},
   "outputs": [],
   "source": [
    "## RASTER MERGE ##\n",
    "def merge_my_files(inpaths, outpath):\n",
    "        with contextlib.ExitStack() as es:\n",
    "            datasets = [es.enter_context(rasterio.open(path)) for path in inpaths]\n",
    "            vrts = [es.enter_context(rasterio.vrt.WarpedVRT(ds, crs='epsg:25833')) for ds in datasets]\n",
    "            profile = datasets[0].profile.copy()\n",
    "            data, transform = rasterio.merge.merge(vrts, method='last', res=100,resampling = Resampling.bilinear)\n",
    "            print(data.shape)            \n",
    "            data = gaussian_filter(data, sigma=20)\n",
    "            profile.update({\n",
    "            'width': data.shape[-1],\n",
    "            'height': data.shape[-2],\n",
    "            'transform': transform,\n",
    "            'crs': vrts[0].crs,\n",
    "        })\n",
    "        with rasterio.open(outpath, 'w', **profile) as dst:\n",
    "            dst.write(data)"
   ]
  },
  {
   "cell_type": "code",
   "execution_count": 5,
   "metadata": {},
   "outputs": [
    {
     "name": "stdout",
     "output_type": "stream",
     "text": [
      "(1, 1305, 1635)\n"
     ]
    }
   ],
   "source": [
    "merge_my_files(inpaths,outfile)"
   ]
  },
  {
   "cell_type": "code",
   "execution_count": null,
   "metadata": {},
   "outputs": [],
   "source": []
  }
 ],
 "metadata": {
  "kernelspec": {
   "display_name": "Python 3 (ipykernel)",
   "language": "python",
   "name": "python3"
  },
  "language_info": {
   "codemirror_mode": {
    "name": "ipython",
    "version": 3
   },
   "file_extension": ".py",
   "mimetype": "text/x-python",
   "name": "python",
   "nbconvert_exporter": "python",
   "pygments_lexer": "ipython3",
   "version": "3.9.7"
  }
 },
 "nbformat": 4,
 "nbformat_minor": 4
}
