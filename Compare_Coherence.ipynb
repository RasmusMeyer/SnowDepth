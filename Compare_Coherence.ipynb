{
 "cells": [
  {
   "cell_type": "code",
   "execution_count": 1,
   "id": "d192094f",
   "metadata": {},
   "outputs": [],
   "source": [
    "import rasterio\n",
    "import numpy as np"
   ]
  },
  {
   "cell_type": "code",
   "execution_count": 2,
   "id": "cb947406",
   "metadata": {},
   "outputs": [],
   "source": [
    "#path = 'Y:\\\\PlanetWorldW\\\\Running\\\\FocusedAOIs\\\\Zambia\\\\ZM_AOI_1\\\\'\n",
    "\n",
    "\n",
    "\n",
    "#Load validation image\n",
    "\n",
    "with rasterio.open('C://Users/Rasmus/Documents/Thesis/GEE_S1/20200314_VH_smooth_100m_S5.tif') as src:\n",
    "\n",
    "    #image loading\n",
    "    shape_og = src.read()\n",
    "    img_val = src.read(1)\n",
    "    og_shape = shape_og.shape\n",
    "    profile = src.profile\n",
    "\n",
    "    #array to list\n",
    "    img_val = img_val.reshape(-1, 1)\n",
    "    A = img_val.flatten()\n",
    "#    img_val_list = img_val.tolist()\n",
    "\n",
    "        \n",
    "        \n",
    "        \n",
    "\n",
    "with rasterio.open('C://Users/Rasmus/Documents/Thesis/GEE_S1/20200314_VV_smooth_100m_S5.tif') as src:\n",
    "    img_sub = src.read(1)\n",
    "    img_sub = img_sub.reshape(-1, 1)\n",
    "    B = img_sub.flatten()\n",
    "#    img_sub_list = img_sub.tolist()\n",
    "    C = A-B\n",
    "#    C = [a - b for a, b in zip(A, B)]\n",
    "#    C = np.array(C)\n",
    "    C = C.reshape(og_shape)\n",
    "    C = C.astype(np.float32)\n",
    "\n",
    "    with rasterio.open('C://Users/Rasmus/Documents/Thesis/GEE_S1/20200314_CR_smooth_100m_S5.tif', 'w', **profile) as dst:\n",
    "        dst.write(C)\n"
   ]
  },
  {
   "cell_type": "code",
   "execution_count": 30,
   "id": "9c49df1f",
   "metadata": {},
   "outputs": [
    {
     "data": {
      "text/plain": [
       "(1, 66, 53)"
      ]
     },
     "execution_count": 30,
     "metadata": {},
     "output_type": "execute_result"
    }
   ],
   "source": [
    "C.shape"
   ]
  },
  {
   "cell_type": "code",
   "execution_count": 31,
   "id": "175481e7",
   "metadata": {},
   "outputs": [
    {
     "data": {
      "text/plain": [
       "(1, 66, 53)"
      ]
     },
     "execution_count": 31,
     "metadata": {},
     "output_type": "execute_result"
    }
   ],
   "source": [
    "og_shape"
   ]
  },
  {
   "cell_type": "code",
   "execution_count": 32,
   "id": "d24bf97d",
   "metadata": {},
   "outputs": [
    {
     "data": {
      "text/plain": [
       "0.18877465"
      ]
     },
     "execution_count": 32,
     "metadata": {},
     "output_type": "execute_result"
    }
   ],
   "source": [
    "C.max()"
   ]
  },
  {
   "cell_type": "code",
   "execution_count": null,
   "id": "c31a0348",
   "metadata": {},
   "outputs": [],
   "source": []
  }
 ],
 "metadata": {
  "kernelspec": {
   "display_name": "Python 3 (ipykernel)",
   "language": "python",
   "name": "python3"
  },
  "language_info": {
   "codemirror_mode": {
    "name": "ipython",
    "version": 3
   },
   "file_extension": ".py",
   "mimetype": "text/x-python",
   "name": "python",
   "nbconvert_exporter": "python",
   "pygments_lexer": "ipython3",
   "version": "3.9.7"
  }
 },
 "nbformat": 4,
 "nbformat_minor": 5
}
