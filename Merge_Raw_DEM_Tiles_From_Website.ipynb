{
 "cells": [
  {
   "cell_type": "code",
   "execution_count": 9,
   "metadata": {},
   "outputs": [],
   "source": [
    "import contextlib\n",
    "\n",
    "import rasterio\n",
    "import rasterio.merge\n",
    "import os\n",
    "from rasterio.enums import Resampling \n",
    "\n",
    "def merge_my_files(inpaths, outpath):\n",
    "    with contextlib.ExitStack() as es:\n",
    "        datasets = [es.enter_context(rasterio.open(path)) for path in inpaths]\n",
    "        profile = datasets[0].profile.copy()\n",
    "        data, transform = rasterio.merge.merge(datasets, res=10, method='last')\n",
    "        profile.update({\n",
    "        'width': data.shape[-1],\n",
    "        'height': data.shape[-2],\n",
    "        'transform': transform\n",
    "        })\n",
    "        with rasterio.open(outpath, 'w', **profile) as dst:\n",
    "            dst.write(data)"
   ]
  },
  {
   "cell_type": "code",
   "execution_count": 14,
   "metadata": {},
   "outputs": [],
   "source": [
    "inpath='C://Users//rasmu//Documents//eksport_542385_20220108//dtm10_beito//data//'\n",
    "outpath='C://Users/Rasmu/Documents/Thesis/DEM/mergedDEM10m_beito.tif'"
   ]
  },
  {
   "cell_type": "code",
   "execution_count": 15,
   "metadata": {},
   "outputs": [],
   "source": [
    "lit = []\n",
    "for file in os.listdir(inpath):\n",
    "    if file.endswith('.tif'):\n",
    "        lit.append(inpath+file)\n",
    "    "
   ]
  },
  {
   "cell_type": "code",
   "execution_count": 16,
   "metadata": {},
   "outputs": [
    {
     "data": {
      "text/plain": [
       "['C://Users//rasmu//Documents//eksport_542385_20220108//dtm10_beito//data//dtm10_6700_1_10m_z33.tif',\n",
       " 'C://Users//rasmu//Documents//eksport_542385_20220108//dtm10_beito//data//dtm10_6701_1_10m_z33.tif',\n",
       " 'C://Users//rasmu//Documents//eksport_542385_20220108//dtm10_beito//data//dtm10_6701_4_10m_z33.tif',\n",
       " 'C://Users//rasmu//Documents//eksport_542385_20220108//dtm10_beito//data//dtm10_6702_1_10m_z33.tif',\n",
       " 'C://Users//rasmu//Documents//eksport_542385_20220108//dtm10_beito//data//dtm10_6702_4_10m_z33.tif',\n",
       " 'C://Users//rasmu//Documents//eksport_542385_20220108//dtm10_beito//data//dtm10_6800_1_10m_z33.tif',\n",
       " 'C://Users//rasmu//Documents//eksport_542385_20220108//dtm10_beito//data//dtm10_6800_2_10m_z33.tif',\n",
       " 'C://Users//rasmu//Documents//eksport_542385_20220108//dtm10_beito//data//dtm10_6801_1_10m_z33.tif',\n",
       " 'C://Users//rasmu//Documents//eksport_542385_20220108//dtm10_beito//data//dtm10_6801_2_10m_z33.tif',\n",
       " 'C://Users//rasmu//Documents//eksport_542385_20220108//dtm10_beito//data//dtm10_6801_3_10m_z33.tif',\n",
       " 'C://Users//rasmu//Documents//eksport_542385_20220108//dtm10_beito//data//dtm10_6801_4_10m_z33.tif',\n",
       " 'C://Users//rasmu//Documents//eksport_542385_20220108//dtm10_beito//data//dtm10_6802_1_10m_z33.tif',\n",
       " 'C://Users//rasmu//Documents//eksport_542385_20220108//dtm10_beito//data//dtm10_6802_2_10m_z33.tif',\n",
       " 'C://Users//rasmu//Documents//eksport_542385_20220108//dtm10_beito//data//dtm10_6802_3_10m_z33.tif',\n",
       " 'C://Users//rasmu//Documents//eksport_542385_20220108//dtm10_beito//data//dtm10_6802_4_10m_z33.tif']"
      ]
     },
     "execution_count": 16,
     "metadata": {},
     "output_type": "execute_result"
    }
   ],
   "source": [
    "lit"
   ]
  },
  {
   "cell_type": "code",
   "execution_count": 17,
   "metadata": {},
   "outputs": [],
   "source": [
    "merge_my_files(lit,outpath)"
   ]
  },
  {
   "cell_type": "code",
   "execution_count": null,
   "metadata": {},
   "outputs": [],
   "source": [
    "########"
   ]
  },
  {
   "cell_type": "code",
   "execution_count": null,
   "metadata": {},
   "outputs": [],
   "source": []
  }
 ],
 "metadata": {
  "kernelspec": {
   "display_name": "Python 3 (ipykernel)",
   "language": "python",
   "name": "python3"
  },
  "language_info": {
   "codemirror_mode": {
    "name": "ipython",
    "version": 3
   },
   "file_extension": ".py",
   "mimetype": "text/x-python",
   "name": "python",
   "nbconvert_exporter": "python",
   "pygments_lexer": "ipython3",
   "version": "3.7.9"
  }
 },
 "nbformat": 4,
 "nbformat_minor": 4
}
