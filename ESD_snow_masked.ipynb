{
 "cells": [
  {
   "cell_type": "code",
   "execution_count": 26,
   "id": "f3f4ffec",
   "metadata": {},
   "outputs": [],
   "source": [
    "import rasterio\n",
    "import numpy as np"
   ]
  },
  {
   "cell_type": "code",
   "execution_count": 27,
   "id": "edea3764",
   "metadata": {},
   "outputs": [],
   "source": [
    "## MASK\n",
    "with rasterio.open('C:/Users/Rasmus/Documents/Thesis/GEE_S1/20200314_VH_smooth_gt1l_100m_S5_SD.tif') as src:\n",
    "    PolSAR = src.read(1)\n",
    "    shapes = src.read()\n",
    "    og_shape = shapes.shape\n",
    "    PolSAR = PolSAR.reshape(-1, 1)\n",
    "    PolSAR = PolSAR.flatten()\n",
    "    profile = src.profile\n",
    "\n",
    "with rasterio.open('C://Users/Rasmus/Documents/Thesis/Masks/SI.tif') as src:\n",
    "    SI = src.read(1)\n",
    "    SI = SI.reshape(-1, 1)\n",
    "    SI = SI.flatten()\n",
    "    \n",
    "PolSAR_masked = PolSAR*SI\n",
    "PolSAR_masked = PolSAR_masked.reshape(og_shape)\n",
    "\n",
    "\n",
    "with rasterio.open('C://Users/Rasmus/Documents/Thesis/SD_masked/20200314_VH_smooth_gt1l_100m_S5_SD_masked.tif', 'w', **profile) as dst:\n",
    "    dst.write(PolSAR_masked)"
   ]
  },
  {
   "cell_type": "code",
   "execution_count": null,
   "id": "37bcc227",
   "metadata": {},
   "outputs": [],
   "source": []
  }
 ],
 "metadata": {
  "kernelspec": {
   "display_name": "Python 3 (ipykernel)",
   "language": "python",
   "name": "python3"
  },
  "language_info": {
   "codemirror_mode": {
    "name": "ipython",
    "version": 3
   },
   "file_extension": ".py",
   "mimetype": "text/x-python",
   "name": "python",
   "nbconvert_exporter": "python",
   "pygments_lexer": "ipython3",
   "version": "3.9.7"
  }
 },
 "nbformat": 4,
 "nbformat_minor": 5
}
