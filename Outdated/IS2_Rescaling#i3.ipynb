{
 "cells": [
  {
   "cell_type": "code",
   "execution_count": 1,
   "id": "58f37656",
   "metadata": {},
   "outputs": [],
   "source": [
    "import warnings\n",
    "warnings.filterwarnings('ignore')\n",
    "import numpy as np\n",
    "import pandas as pd\n",
    "import datetime as dt\n",
    "import matplotlib.pyplot as plt\n",
    "import h5py  \n",
    "#import readers as rd\n",
    "import os\n",
    "import fiona\n",
    "import geopandas\n",
    "import time\n",
    "from sklearn.neighbors import KernelDensity\n",
    "import scipy\n",
    "from astropy.time import Time\n",
    "import geopandas as gpd"
   ]
  },
  {
   "cell_type": "code",
   "execution_count": 2,
   "id": "a2953289",
   "metadata": {},
   "outputs": [],
   "source": [
    "def Rescale(path, outdir):\n",
    "    j=0\n",
    "    for file in os.listdir(path):\n",
    "        if file.endswith('shp'):\n",
    "\n",
    "            filename = file[3:7]\n",
    "            points = os.path.join(path,file)\n",
    "            pts = gpd.read_file(points)\n",
    "            print(pts.shape)\n",
    "            print('rangemin',int(pts.AT_dist[0]))\n",
    "            print('rangemax',int(pts.AT_dist.iloc[-10]))\n",
    "            print('rangemax2',(len(pts)-10))\n",
    "            start = list(range(int(pts.AT_dist[0]), (len(pts)-50)))\n",
    "            #start = list(range(int(pts.AT_dist[0]), (int(pts.AT_dist.iloc[-11]))))\n",
    "            mid = list(range(int(pts.AT_dist[0]+25), (len(pts)-25)))\n",
    "            stop = list(range(int(pts.AT_dist[0]+50), (len(pts))))\n",
    "            #mid = list(range(int(pts.AT_dist[5]), (int(pts.AT_dist.iloc[-6]))))\n",
    "            #stop = list(range(int(pts.AT_dist[10]), (int(pts.AT_dist.iloc[-1]))))\n",
    "            \n",
    "            i = 0\n",
    "            AT_dist_list =[]\n",
    "            ESD_list = []\n",
    "            geometry_list = []\n",
    "            DEM_list = []\n",
    "            ESD_std_list = []\n",
    "            SLOPE_list = []\n",
    "            \n",
    "            for i in range(len(start)):\n",
    "\n",
    "                ATdist = (pts.AT_dist[start[i]:stop[i]]).median()\n",
    "                #print(ATdist)\n",
    "                ESD = (pts.SD[start[i]:stop[i]]).mean()\n",
    "                #print('ESD', ESD)\n",
    "                geometry = (pts.geometry[mid[i]])\n",
    "                SLOPE = (pts.SLOPE[mid[i]])\n",
    "                dem = (pts.DEM[mid[i]])\n",
    "                ESD_std = (pts.SD[start[i]:stop[i]]).std()\n",
    "\n",
    "                AT_dist_list.append(ATdist)\n",
    "                ESD_list.append(ESD)\n",
    "                geometry_list.append(geometry)\n",
    "                DEM_list.append(dem)\n",
    "                ESD_std_list.append(ESD_std)\n",
    "                SLOPE_list.append(SLOPE)\n",
    "            print(len(ESD_list))    \n",
    "            gdf = gpd.GeoDataFrame(list(zip(AT_dist_list, ESD_list, geometry_list, ESD_std_list, DEM_list, SLOPE_list)),\n",
    "                               columns =['AT_dist', 'SD', 'geometry', 'ESD_std','DEM', 'SLOPE'])\n",
    "            print(gdf.shape)    \n",
    "            gdf = gdf[gdf['ESD_std'] < 4]\n",
    "            #gdf = gdf[gdf['AT_dist'] < 87000]\n",
    "            gdf = gdf[gdf['SD'] < 10]\n",
    "            gdf = gdf[gdf['SD'] > 0]\n",
    "            gdf = gdf[gdf['SLOPE'] != 0]\n",
    "            gdf = gdf.set_crs('EPSG:25833')\n",
    "            print(gdf.shape)\n",
    "            if j != 0:\n",
    "                df_train = pd.concat([df_train,gdf])\n",
    "            else: \n",
    "                df_train = gdf\n",
    "                j=j+1   \n",
    "                \n",
    "            #print(gdf.shape)\n",
    "            gdf.to_file(outdir+'SD_Rescaled_'+filename+'.shp')\n",
    "                \n",
    "            print('processing completed for beam: ', filename, ' Plots below:')\n",
    "                \n",
    "            #plt.plot(AT_dist_list, ESD_list, 'o', color='black');\n",
    "            #plt.plot(AT_dist_list, DEM_list, 'o', color='black');\n",
    "    return df_train"
   ]
  },
  {
   "cell_type": "code",
   "execution_count": 3,
   "id": "615ad16c",
   "metadata": {},
   "outputs": [],
   "source": [
    "path = 'C:/Users/Rasmu/Documents/Thesis/Snow_Depth_20201107/'\n",
    "outdir = 'C:/Users/Rasmu/Documents/Thesis/SD_Rescaled_20201107/'"
   ]
  },
  {
   "cell_type": "code",
   "execution_count": 4,
   "id": "7bd191da",
   "metadata": {},
   "outputs": [
    {
     "name": "stdout",
     "output_type": "stream",
     "text": [
      "(8937, 12)\n",
      "rangemin 10\n",
      "rangemax 103570\n",
      "rangemax2 8927\n",
      "8877\n",
      "(8877, 6)\n",
      "(4861, 6)\n",
      "processing completed for beam:  2gt1  Plots below:\n",
      "(3383, 12)\n",
      "rangemin 180\n",
      "rangemax 102380\n",
      "rangemax2 3373\n",
      "3153\n",
      "(3153, 6)\n",
      "(2079, 6)\n",
      "processing completed for beam:  2gt1  Plots below:\n",
      "(8272, 12)\n",
      "rangemin 0\n",
      "rangemax 103510\n",
      "rangemax2 8262\n",
      "8222\n",
      "(8222, 6)\n",
      "(4656, 6)\n",
      "processing completed for beam:  2gt2  Plots below:\n",
      "(3972, 12)\n",
      "rangemin 30\n",
      "rangemax 103220\n",
      "rangemax2 3962\n",
      "3892\n",
      "(3892, 6)\n",
      "(2671, 6)\n",
      "processing completed for beam:  2gt2  Plots below:\n",
      "(8707, 12)\n",
      "rangemin 60\n",
      "rangemax 103560\n",
      "rangemax2 8697\n",
      "8597\n",
      "(8597, 6)\n",
      "(4504, 6)\n",
      "processing completed for beam:  2gt3  Plots below:\n",
      "(2222, 12)\n",
      "rangemin 250\n",
      "rangemax 103530\n",
      "rangemax2 2212\n",
      "1922\n",
      "(1922, 6)\n",
      "(1266, 6)\n",
      "processing completed for beam:  2gt3  Plots below:\n",
      "(6674, 12)\n",
      "rangemin 10\n",
      "rangemax 103510\n",
      "rangemax2 6664\n",
      "6614\n",
      "(6614, 6)\n",
      "(5188, 6)\n",
      "processing completed for beam:  gt1l  Plots below:\n",
      "(2697, 12)\n",
      "rangemin 180\n",
      "rangemax 102340\n",
      "rangemax2 2687\n",
      "2467\n",
      "(2467, 6)\n",
      "(2265, 6)\n",
      "processing completed for beam:  gt1r  Plots below:\n",
      "(6585, 12)\n",
      "rangemin 0\n",
      "rangemax 103490\n",
      "rangemax2 6575\n",
      "6535\n",
      "(6535, 6)\n",
      "(4964, 6)\n",
      "processing completed for beam:  gt2l  Plots below:\n",
      "(3291, 12)\n",
      "rangemin 30\n",
      "rangemax 103010\n",
      "rangemax2 3281\n",
      "3211\n",
      "(3211, 6)\n",
      "(2765, 6)\n",
      "processing completed for beam:  gt2r  Plots below:\n",
      "(6386, 12)\n",
      "rangemin 280\n",
      "rangemax 103040\n",
      "rangemax2 6376\n",
      "6056\n",
      "(6056, 6)\n",
      "(4644, 6)\n",
      "processing completed for beam:  gt3l  Plots below:\n",
      "(1794, 12)\n",
      "rangemin 260\n",
      "rangemax 100860\n",
      "rangemax2 1784\n",
      "1484\n",
      "(1484, 6)\n",
      "(1275, 6)\n",
      "processing completed for beam:  gt3r  Plots below:\n"
     ]
    }
   ],
   "source": [
    "df_train = Rescale(path, outdir)"
   ]
  },
  {
   "cell_type": "code",
   "execution_count": 18,
   "id": "684ca6ff",
   "metadata": {},
   "outputs": [
    {
     "data": {
      "image/png": "[encoded data removed]",
      "text/plain": [
       "<Figure size 432x288 with 1 Axes>"
      ]
     },
     "metadata": {
      "needs_background": "light"
     },
     "output_type": "display_data"
    }
   ],
   "source": [
    "plt.hist(df_train.SD,bins=[-1,-0.75, -0.50,-0.25,-0.0 ,0.25, 0.50, 0.75,1], color='blue');"
   ]
  },
  {
   "cell_type": "code",
   "execution_count": null,
   "id": "61abdd42",
   "metadata": {},
   "outputs": [],
   "source": [
    "df_train.ESD.mean()"
   ]
  },
  {
   "cell_type": "code",
   "execution_count": null,
   "id": "d74d3f59",
   "metadata": {},
   "outputs": [],
   "source": [
    "df_train.ESD.std()"
   ]
  },
  {
   "cell_type": "code",
   "execution_count": null,
   "id": "97bcf4e5",
   "metadata": {},
   "outputs": [],
   "source": []
  },
  {
   "cell_type": "code",
   "execution_count": null,
   "id": "e3f33a6e",
   "metadata": {},
   "outputs": [],
   "source": []
  },
  {
   "cell_type": "code",
   "execution_count": null,
   "id": "bc6dce11",
   "metadata": {},
   "outputs": [],
   "source": [
    "plt.hist(df_train.ESD,bins=[-1,-0.75, -0.50,-0.25,-0.0 ,0.25, 0.50, 0.75,1], color='blue');"
   ]
  },
  {
   "cell_type": "code",
   "execution_count": null,
   "id": "a0d9a97a",
   "metadata": {},
   "outputs": [],
   "source": []
  }
 ],
 "metadata": {
  "kernelspec": {
   "display_name": "Python 3 (ipykernel)",
   "language": "python",
   "name": "python3"
  },
  "language_info": {
   "codemirror_mode": {
    "name": "ipython",
    "version": 3
   },
   "file_extension": ".py",
   "mimetype": "text/x-python",
   "name": "python",
   "nbconvert_exporter": "python",
   "pygments_lexer": "ipython3",
   "version": "3.7.9"
  }
 },
 "nbformat": 4,
 "nbformat_minor": 5
}
