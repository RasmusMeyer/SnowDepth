{
 "cells": [
  {
   "cell_type": "code",
   "execution_count": null,
   "id": "a93afc9d",
   "metadata": {},
   "outputs": [],
   "source": [
    "import rasterio\n",
    "import geopandas as gpd\n",
    "import pyproj\n",
    "import os\n",
    "import matplotlib.pyplot as plt\n",
    "import pandas as pd\n",
    "import glob\n",
    "import lightgbm as lgbm\n",
    "from sklearn.metrics import r2_score\n",
    "from sklearn.ensemble import RandomForestRegressor\n",
    "from numpy import *\n",
    "import numpy as np"
   ]
  },
  {
   "cell_type": "code",
   "execution_count": null,
   "id": "53effd91",
   "metadata": {},
   "outputs": [],
   "source": [
    "path = 'C:/Users/Rasmu/Documents/Thesis/Hardangervidda/Training_Data/'\n",
    "#path = 'C://Users/rasmu/Documents/Thesis/Hardangervidda/Dates/20200306/sampled/SD.shp'"
   ]
  },
  {
   "cell_type": "code",
   "execution_count": null,
   "id": "7399aea7",
   "metadata": {},
   "outputs": [],
   "source": [
    "df = gpd.read_file(path)"
   ]
  },
  {
   "cell_type": "code",
   "execution_count": null,
   "id": "3666f856",
   "metadata": {},
   "outputs": [],
   "source": [
    "df.head(50)"
   ]
  },
  {
   "cell_type": "code",
   "execution_count": null,
   "id": "4778e617",
   "metadata": {
    "scrolled": false
   },
   "outputs": [],
   "source": [
    "plt.figure(figsize=(15, 15))\n",
    "plt.title('VH')\n",
    "plt.xlabel('VH')\n",
    "plt.ylabel('snow_depth')\n",
    "#plt.xlim([-1, 5])\n",
    "plt.scatter(df.VH, df.SD, color='blue',s=2);\n",
    "\n",
    "plt.figure(figsize=(15, 15))\n",
    "plt.title('Diff')\n",
    "plt.xlabel('Diff')\n",
    "plt.ylabel('snow_depth')\n",
    "plt.scatter(df.Diff, df.SD, color='red',s=2);\n",
    "plt.xlim([-2, 15])\n",
    "\n",
    "plt.figure(figsize=(15, 15))\n",
    "plt.title('Ratio')\n",
    "plt.xlabel('Ratio')\n",
    "plt.ylabel('snow_depth')\n",
    "plt.scatter(df.Ratio, df.SD, color='green',s=2);\n",
    "plt.xlim([1, 3])\n",
    "\n",
    "#plt.figure(figsize=(15, 15))\n",
    "#plt.title('VH_Diff')\n",
    "#plt.xlabel('VH_Diff')\n",
    "#plt.ylabel('snow_depth')\n",
    "#plt.scatter(df.VH_Diff, df.SD, color='orange');\n",
    "\n",
    "plt.figure(figsize=(15, 15))\n",
    "plt.title('Subtract')\n",
    "plt.xlabel('Subtract')\n",
    "plt.ylabel('snow_depth')\n",
    "plt.scatter(df.Subtract, df.SD, color='turquoise',s=2);\n",
    "\n",
    "plt.figure(figsize=(15, 15))\n",
    "plt.title('DEM')\n",
    "plt.xlabel('DEM')\n",
    "plt.ylabel('snow_depth')\n",
    "plt.scatter(df.DEM, df.SD, color='purple',s=2);\n",
    "plt.xlim([800, 1600])"
   ]
  },
  {
   "cell_type": "code",
   "execution_count": null,
   "id": "60ff2072",
   "metadata": {},
   "outputs": [],
   "source": [
    "#df = df.replace(np.nan, 0)\n",
    "#r2 = str(r2_score(df.Subtract, df.SD).round(2))\n",
    "#print('R2 score is: ', r2)"
   ]
  },
  {
   "cell_type": "code",
   "execution_count": null,
   "id": "dfd4f14c",
   "metadata": {},
   "outputs": [],
   "source": []
  },
  {
   "cell_type": "code",
   "execution_count": null,
   "id": "0ef79e13",
   "metadata": {},
   "outputs": [],
   "source": []
  },
  {
   "cell_type": "code",
   "execution_count": null,
   "id": "d33272eb",
   "metadata": {},
   "outputs": [],
   "source": []
  }
 ],
 "metadata": {
  "kernelspec": {
   "display_name": "Python 3 (ipykernel)",
   "language": "python",
   "name": "python3"
  },
  "language_info": {
   "codemirror_mode": {
    "name": "ipython",
    "version": 3
   },
   "file_extension": ".py",
   "mimetype": "text/x-python",
   "name": "python",
   "nbconvert_exporter": "python",
   "pygments_lexer": "ipython3",
   "version": "3.7.9"
  }
 },
 "nbformat": 4,
 "nbformat_minor": 5
}
