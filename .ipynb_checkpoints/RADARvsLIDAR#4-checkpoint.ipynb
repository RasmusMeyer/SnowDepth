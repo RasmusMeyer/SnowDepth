{
 "cells": [
  {
   "cell_type": "code",
   "execution_count": null,
   "metadata": {},
   "outputs": [],
   "source": [
    "import rasterio\n",
    "import geopandas as gpd\n",
    "import pyproj\n",
    "import os\n",
    "#import gdal"
   ]
  },
  {
   "cell_type": "code",
   "execution_count": null,
   "metadata": {},
   "outputs": [],
   "source": [
    "def SD_Regression(path, RADAR, DEM):\n",
    "    if "
   ]
  },
  {
   "cell_type": "code",
   "execution_count": null,
   "metadata": {},
   "outputs": [],
   "source": [
    "#RADAR = 'C://Users/Rasmus/Documents/Thesis/GEE_S1/20200314_VH_smooth_100m_S5.tif'\n",
    "RADAR = 'C://Users/Rasmus/Documents/Thesis/GEE_S1/20200314_CR_smooth_100m_S5.tif'\n",
    "icesat_points = 'C:/Users/Rasmus/Documents/Thesis/ESD/SD_gt2l_20200314_clean.shp'"
   ]
  },
  {
   "cell_type": "code",
   "execution_count": null,
   "metadata": {},
   "outputs": [],
   "source": [
    "pts = gpd.read_file(icesat_points)"
   ]
  },
  {
   "cell_type": "code",
   "execution_count": null,
   "metadata": {},
   "outputs": [],
   "source": [
    "pts['lon'] = pts.geometry.x\n",
    "pts['lat'] = pts.geometry.y\n",
    "\n",
    "coords = [(x,y) for x, y in zip(pts.lon, pts.lat)]"
   ]
  },
  {
   "cell_type": "code",
   "execution_count": null,
   "metadata": {},
   "outputs": [],
   "source": [
    "#DEM = 'C:/Users/Rasmus/Documents/Thesis/DEM/mergedDEM10m.tif'\n",
    "src = rasterio.open(RADAR)\n",
    "\n",
    "\n",
    "\n",
    "# Sample the raster at every point location and store values in DataFrame\n",
    "pts['RADAR'] = [x[0] for x in src.sample(coords)]\n",
    "#pts['RasterValue_blue'] = [x[0] for x in src_blue.sample(coords)]\n",
    "#pts['RasterValue_green'] = [x[0] for x in src_green.sample(coords)]\n",
    "#pts['RasterValue_red'] = [x[0] for x in src_red.sample(coords)]\n",
    "#pts['RasterValue_nir'] = [x[0] for x in src_nir.sample(coords)]"
   ]
  },
  {
   "cell_type": "code",
   "execution_count": null,
   "metadata": {},
   "outputs": [],
   "source": [
    "pts"
   ]
  },
  {
   "cell_type": "code",
   "execution_count": null,
   "metadata": {},
   "outputs": [],
   "source": [
    "import matplotlib.pyplot as plt\n",
    "\n",
    "plt.plot(pts.AT_dist, pts.ESD, 'o', color='black');"
   ]
  },
  {
   "cell_type": "code",
   "execution_count": null,
   "metadata": {
    "scrolled": true
   },
   "outputs": [],
   "source": [
    "\n",
    "plt.plot(pts.AT_dist, pts.RADAR, 'o', color='black');"
   ]
  },
  {
   "cell_type": "code",
   "execution_count": null,
   "metadata": {},
   "outputs": [],
   "source": [
    "plt.plot(pts.RADAR, pts.ESD, 'o', color='black');"
   ]
  },
  {
   "cell_type": "code",
   "execution_count": null,
   "metadata": {},
   "outputs": [],
   "source": [
    "import numpy as np\n",
    "from sklearn.linear_model import LinearRegression\n",
    "X = np.array(pts.RADAR).reshape(-1,1)\n",
    "y = np.array(pts.ESD)\n",
    "reg = LinearRegression().fit(X, y)"
   ]
  },
  {
   "cell_type": "code",
   "execution_count": null,
   "metadata": {},
   "outputs": [],
   "source": [
    "from numpy import *"
   ]
  },
  {
   "cell_type": "code",
   "execution_count": null,
   "metadata": {},
   "outputs": [],
   "source": [
    "with rasterio.open(RADAR, 'r') as dataset:   \n",
    "    data = dataset.read()\n",
    "    og_shape = data.shape\n",
    "    data = np.array(data).reshape(-1,1)\n",
    "    where_are_NaNs = isnan(data)\n",
    "    data[where_are_NaNs] = 0\n",
    "    y_pred = reg.predict(data)\n",
    "    print(data.min())\n",
    "    profile = dataset.profile\n",
    "    print(data.max())\n",
    "    y_pred = y_pred.reshape(og_shape)\n",
    "\n",
    "    with rasterio.open('C:/Users/Rasmus/Documents/Thesis/GEE_S1/20200314_VH_smooth_gt1l_100m_S5_SD.tif', 'w', **profile) as dst:\n",
    "        dst.write(y_pred)\n"
   ]
  },
  {
   "cell_type": "code",
   "execution_count": null,
   "metadata": {},
   "outputs": [],
   "source": [
    "reg.predict"
   ]
  },
  {
   "cell_type": "code",
   "execution_count": null,
   "metadata": {},
   "outputs": [],
   "source": []
  }
 ],
 "metadata": {
  "kernelspec": {
   "display_name": "Python 3 (ipykernel)",
   "language": "python",
   "name": "python3"
  },
  "language_info": {
   "codemirror_mode": {
    "name": "ipython",
    "version": 3
   },
   "file_extension": ".py",
   "mimetype": "text/x-python",
   "name": "python",
   "nbconvert_exporter": "python",
   "pygments_lexer": "ipython3",
   "version": "3.9.7"
  }
 },
 "nbformat": 4,
 "nbformat_minor": 4
}
