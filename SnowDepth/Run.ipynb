{
 "cells": [
  {
   "cell_type": "code",
   "execution_count": null,
   "id": "95459359",
   "metadata": {},
   "outputs": [],
   "source": [
    "import Load_ATL03\n",
    "import Surface\n",
    "import Snow_depth\n",
    "import Masking\n",
    "import Rescaling\n",
    "import Sampling"
   ]
  },
  {
   "cell_type": "code",
   "execution_count": null,
   "id": "9bd386f9",
   "metadata": {},
   "outputs": [],
   "source": [
    "def run(params):\n",
    "\n",
    "    #datelist = ['20200204','20200206','20200306','20200314','20200406','20200410','20210203','20210205','20210207','20210209','20210211','20210304','20210308']\n",
    "    datelist = ['20200306','20200314']\n",
    "    for dates in datelist:\n",
    "        params['date'] = dates\n",
    "        print('started processing of date: ', dates)\n",
    "    \n",
    "    \n",
    "        beamlist = ['gt1l','gt2l','gt3l','gt1r','gt2r','gt3r']\n",
    "        #beamlist = ['gt1l','gt2l']\n",
    "\n",
    "    #    i=0\n",
    "        for ISbeam in beamlist:\n",
    "            params['beam'] = ISbeam\n",
    "            df, geoid = Load_ATL03.load_ATL03(params['path'],params['date'], params['beam'], params['resolution'])\n",
    "            print('ATL03 Dataset loaded (step 1 of 5)')\n",
    "\n",
    "            df_surf = Surface.surface(df, params['window_width'], geoid, params['resolution'])\n",
    "            df_surf = df_surf[df_surf['Surface'] != 0]\n",
    "            print('Surface Heights Estimated (step 2 of 5)')\n",
    "\n",
    "            df_SD = Snow_depth.snow_depth(df_surf, params['DEM'])\n",
    "            print('Snow Depths Estimated (step 3 of 5)')\n",
    "\n",
    "            df_Mask = Masking.masking(df_SD, params['path'], params['date'], params['slope_threshold'])\n",
    "            print('Masked out training points (step 4 of 5)')\n",
    "\n",
    "            df_RE = Rescaling.rescaling(df_Mask, params['rescale_window_width'], params['rescale_resolution'], params['beam'], params['path'], params['date'])\n",
    "            print('Rescaled training points (step 5 of 5)')\n",
    "            print('completed ICESat-2 Processing for beam: ',ISbeam)\n",
    "\n",
    "            pts = Sampling.sampling(params['path'], params['date'])\n",
    "        \n",
    "    return df, df_surf"
   ]
  },
  {
   "cell_type": "code",
   "execution_count": null,
   "id": "10d42663",
   "metadata": {},
   "outputs": [],
   "source": [
    "Load_params = {\n",
    "    'path' : 'C:/Users/mathi/Thesis/Hardangervidda/Dates/',\n",
    "    'date' : '20200306',\n",
    "    #'DEM': 'C:/Users/Rasmu/Documents/Thesis/DEM/ArcticDEM_10m.tif',\n",
    "    'DEM': \"C:/Users/mathi/Thesis/Hardangervidda/DEM/mergedDEM10m_Hardanger.tif\",\n",
    "    'slope_threshold': 8,\n",
    "    'window_width': 10,\n",
    "    'resolution': 10,\n",
    "    'rescale_window_width':100,\n",
    "    'rescale_resolution': 100\n",
    "    }"
   ]
  },
  {
   "cell_type": "code",
   "execution_count": null,
   "id": "695e8994",
   "metadata": {},
   "outputs": [],
   "source": [
    "df, df_surf = run(Load_params)"
   ]
  },
  {
   "cell_type": "code",
   "execution_count": null,
   "id": "92793bf1",
   "metadata": {},
   "outputs": [],
   "source": []
  }
 ],
 "metadata": {
  "kernelspec": {
   "display_name": "Python 3 (ipykernel)",
   "language": "python",
   "name": "python3"
  },
  "language_info": {
   "codemirror_mode": {
    "name": "ipython",
    "version": 3
   },
   "file_extension": ".py",
   "mimetype": "text/x-python",
   "name": "python",
   "nbconvert_exporter": "python",
   "pygments_lexer": "ipython3",
   "version": "3.7.9"
  }
 },
 "nbformat": 4,
 "nbformat_minor": 5
}
