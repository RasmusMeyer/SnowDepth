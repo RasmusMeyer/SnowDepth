{
 "cells": [
  {
   "cell_type": "code",
   "execution_count": 5,
   "id": "9d192aa4",
   "metadata": {},
   "outputs": [],
   "source": [
    "import rasterio\n",
    "import pandas as pd\n",
    "import numpy as np\n",
    "import os"
   ]
  },
  {
   "cell_type": "code",
   "execution_count": 9,
   "id": "90909c68",
   "metadata": {},
   "outputs": [],
   "source": [
    "path = 'Y:\\\\PlanetWorldW\\\\Running\\\\FocusedAOIs\\\\Zambia\\\\ZM_AOI_1\\\\'\n",
    "\n",
    "def statistics(path):\n",
    "    AOI = path.rsplit('\\\\', 2)\n",
    "    AOI = AOI[1]\n",
    "\n",
    "#Load validation image\n",
    "\n",
    "    with rasterio.open(path + 'classification_AOI.tif') as src:\n",
    "        \n",
    "        #image loading\n",
    "        img_val = src.read(1)\n",
    "        og_shape = img_val.shape\n",
    "        profile = src.profile\n",
    "        \n",
    "        #array to list\n",
    "        img_val = img_val.reshape(-1, 1)\n",
    "        img_val = img_val.flatten()\n",
    "        img_val_list = img_val.tolist()\n",
    "\n",
    "        \n",
    "        \n",
    "        \n",
    "    submissions = path + '\\\\Submissions\\\\'\n",
    "    i = 0\n",
    "    for filename in os.listdir(submissions):\n",
    "        if filename.endswith(\".tif\"):\n",
    "            \n",
    "            name = filename[:-4]\n",
    "            if (name == 'Waterloo') or (name == 'RSS'):\n",
    "                print('1:',name)\n",
    "                raster = os.path.join(submissions, filename)\n",
    "\n",
    "                with rasterio.open(raster) as src:\n",
    "                    img_sub = src.read(1)\n",
    "                    img_sub = img_sub.reshape(-1, 1)\n",
    "                    img_sub = img_sub.flatten()\n",
    "                    img_sub_list = img_sub.tolist()\n",
    "\n",
    "                # Validation\n",
    "                A_k = img_val_list.count(1)\n",
    "                # Submission\n",
    "                A_e = img_sub_list.count(1)\n",
    "\n",
    "                A_i = 0\n",
    "\n",
    "                ## NEW RASTER ## \n",
    "                new_raster = []\n",
    "\n",
    "            \n",
    "                for pixel in range(len(img_val)):\n",
    "                    if (img_val_list[pixel] < 1.5) & (img_sub_list[pixel] < 1.5 or img_sub_list[pixel] > 2.5):\n",
    "                        #Negative\n",
    "                        new_raster.append(0)\n",
    "                    if (img_val_list[pixel] > 1.5) & (img_sub_list[pixel] > 1.5 and img_sub_list[pixel] < 2.5):\n",
    "                        #Positive\n",
    "                        new_raster.append(1)\n",
    "                    if (img_val_list[pixel] > 1.5) & (img_sub_list[pixel] < 1.5 or img_sub_list[pixel] > 2.5):\n",
    "                        #False Negative\n",
    "                        new_raster.append(2)\n",
    "                    if (img_val_list[pixel] < 1.5) & (img_sub_list[pixel] > 1.5 and img_sub_list[pixel] < 2.5):\n",
    "                        #False Positive\n",
    "                        new_raster.append(3)\n",
    "\n",
    "                new_raster_arr = np.array(new_raster)\n",
    "                new_raster_arr = new_raster_arr.reshape(og_shape)\n",
    "                new_raster_arr = new_raster_arr.astype(np.uint8)\n",
    "                print('test',path + AOI)        \n",
    "                with rasterio.open(path +'\\\\Results\\\\'+name+'_result.tif', 'w', **profile) as dst:\n",
    "                    dst.write(new_raster_arr, 1)\n",
    "\n",
    "\n",
    "                #Statistics\n",
    "                for pixel in range(len(img_val)):\n",
    "                    if img_val_list[pixel] > 1.5 and img_sub_list[pixel] > 1.5 and img_sub_list[pixel] < 2.5:\n",
    "                        A_i = A_i + 1\n",
    "\n",
    "\n",
    "                A_max = 1.5 * ((A_i/A_e) + (A_i/A_k))\n",
    "                A_cor = A_i/A_e\n",
    "                A_com = A_i/A_k\n",
    "                A_Qual = A_i / (A_e + A_k - A_i)\n",
    "\n",
    "                data = {'Submission': [name],'A_max': [A_max], 'A_cor': [A_cor],'A_com': [A_com],'A_Qual': [A_Qual]}\n",
    "                if i < 1.5:\n",
    "                    df = pd.DataFrame(data=data)\n",
    "                    df = df.round(3)\n",
    "                    i = i+1\n",
    "                else:\n",
    "                    df2 = pd.DataFrame(data=data)\n",
    "                    df = df.append(df2)\n",
    "                    df = df.round(3)\n",
    "    df = df.set_index('Submission')\n",
    "    df.to_csv(path + AOI + \"_statistics.csv\")\n",
    "    return df"
   ]
  },
  {
   "cell_type": "code",
   "execution_count": 10,
   "id": "86da4446",
   "metadata": {},
   "outputs": [
    {
     "name": "stdout",
     "output_type": "stream",
     "text": [
      "1: RSS\n",
      "test Y:\\PlanetWorldW\\Running\\FocusedAOIs\\Zambia\\ZM_AOI_1\\ZM_AOI_1\n",
      "1: Waterloo\n",
      "test Y:\\PlanetWorldW\\Running\\FocusedAOIs\\Zambia\\ZM_AOI_1\\ZM_AOI_1\n"
     ]
    }
   ],
   "source": [
    "a = statistics(path)"
   ]
  },
  {
   "cell_type": "code",
   "execution_count": 11,
   "id": "da603de1",
   "metadata": {},
   "outputs": [
    {
     "data": {
      "text/html": [
       "<div>\n",
       "<style scoped>\n",
       "    .dataframe tbody tr th:only-of-type {\n",
       "        vertical-align: middle;\n",
       "    }\n",
       "\n",
       "    .dataframe tbody tr th {\n",
       "        vertical-align: top;\n",
       "    }\n",
       "\n",
       "    .dataframe thead th {\n",
       "        text-align: right;\n",
       "    }\n",
       "</style>\n",
       "<table border=\"1\" class=\"dataframe\">\n",
       "  <thead>\n",
       "    <tr style=\"text-align: right;\">\n",
       "      <th></th>\n",
       "      <th>A_max</th>\n",
       "      <th>A_cor</th>\n",
       "      <th>A_com</th>\n",
       "      <th>A_Qual</th>\n",
       "    </tr>\n",
       "    <tr>\n",
       "      <th>Submission</th>\n",
       "      <th></th>\n",
       "      <th></th>\n",
       "      <th></th>\n",
       "      <th></th>\n",
       "    </tr>\n",
       "  </thead>\n",
       "  <tbody>\n",
       "    <tr>\n",
       "      <th>Waterloo</th>\n",
       "      <td>0.0</td>\n",
       "      <td>0.0</td>\n",
       "      <td>0.0</td>\n",
       "      <td>0.0</td>\n",
       "    </tr>\n",
       "  </tbody>\n",
       "</table>\n",
       "</div>"
      ],
      "text/plain": [
       "            A_max  A_cor  A_com  A_Qual\n",
       "Submission                             \n",
       "Waterloo      0.0    0.0    0.0     0.0"
      ]
     },
     "execution_count": 11,
     "metadata": {},
     "output_type": "execute_result"
    }
   ],
   "source": [
    "a"
   ]
  },
  {
   "cell_type": "code",
   "execution_count": null,
   "id": "08a5281f",
   "metadata": {},
   "outputs": [],
   "source": []
  }
 ],
 "metadata": {
  "kernelspec": {
   "display_name": "Python 3 (ipykernel)",
   "language": "python",
   "name": "python3"
  },
  "language_info": {
   "codemirror_mode": {
    "name": "ipython",
    "version": 3
   },
   "file_extension": ".py",
   "mimetype": "text/x-python",
   "name": "python",
   "nbconvert_exporter": "python",
   "pygments_lexer": "ipython3",
   "version": "3.7.9"
  }
 },
 "nbformat": 4,
 "nbformat_minor": 5
}
