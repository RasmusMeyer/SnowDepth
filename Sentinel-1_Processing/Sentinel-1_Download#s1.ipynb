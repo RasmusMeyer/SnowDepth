{
 "cells": [
  {
   "cell_type": "code",
   "execution_count": 1,
   "id": "6bc88d23",
   "metadata": {},
   "outputs": [],
   "source": [
    "import ee\n",
    "import geopandas as gpd\n",
    "import numpy as np"
   ]
  },
  {
   "cell_type": "code",
   "execution_count": 2,
   "id": "b0afa368",
   "metadata": {},
   "outputs": [
    {
     "data": {
      "text/html": [
       "<p>To authorize access needed by Earth Engine, open the following\n",
       "        URL in a web browser and follow the instructions:</p>\n",
       "        <p><a href=https://accounts.google.com/o/oauth2/auth?client_id=517222506229-vsmmajv00ul0bs7p89v5m89qs8eb9359.apps.googleusercontent.com&scope=https%3A%2F%2Fwww.googleapis.com%2Fauth%2Fearthengine+https%3A%2F%2Fwww.googleapis.com%2Fauth%2Fdevstorage.full_control&redirect_uri=urn%3Aietf%3Awg%3Aoauth%3A2.0%3Aoob&response_type=code&code_challenge=mIjJdFhFkUS_gWKxspB5wISVEgZ08VlraskfBDH4aPc&code_challenge_method=S256>https://accounts.google.com/o/oauth2/auth?client_id=517222506229-vsmmajv00ul0bs7p89v5m89qs8eb9359.apps.googleusercontent.com&scope=https%3A%2F%2Fwww.googleapis.com%2Fauth%2Fearthengine+https%3A%2F%2Fwww.googleapis.com%2Fauth%2Fdevstorage.full_control&redirect_uri=urn%3Aietf%3Awg%3Aoauth%3A2.0%3Aoob&response_type=code&code_challenge=mIjJdFhFkUS_gWKxspB5wISVEgZ08VlraskfBDH4aPc&code_challenge_method=S256</a></p>\n",
       "        <p>The authorization workflow will generate a code, which you\n",
       "        should paste in the box below</p>\n",
       "        "
      ],
      "text/plain": [
       "<IPython.core.display.HTML object>"
      ]
     },
     "metadata": {},
     "output_type": "display_data"
    },
    {
     "name": "stdout",
     "output_type": "stream",
     "text": [
      "Enter verification code: 4/1AX4XfWg_y8u_1IUU_kor3KarIdBO-lmhlhNHYdUleynU5dFui0NIxbN6sLk\n",
      "\n",
      "Successfully saved authorization token.\n"
     ]
    }
   ],
   "source": [
    "ee.Authenticate()"
   ]
  },
  {
   "cell_type": "code",
   "execution_count": 3,
   "id": "f05cd0d4",
   "metadata": {},
   "outputs": [],
   "source": [
    "ee.Initialize()"
   ]
  },
  {
   "cell_type": "code",
   "execution_count": 4,
   "id": "c4c8352a",
   "metadata": {},
   "outputs": [
    {
     "name": "stdout",
     "output_type": "stream",
     "text": [
      "   Id                                           geometry\n",
      "0   0  POLYGON ((7.43810 60.22733, 7.54371 60.22398, ...\n",
      "[(7.438101242000073, 60.227330023000036), (7.543713227000069, 60.22397726200006), (7.543713227000069, 60.14015822600004), (7.434748480000053, 60.14183460700008), (7.438101242000073, 60.227330023000036)]\n"
     ]
    }
   ],
   "source": [
    "# Creating a mask for the study area\n",
    "df = gpd.read_file(\"C:/Users/Rasmu/Documents/Thesis/geometry/geometry.shp\")\n",
    "print(df)\n",
    "coords = []\n",
    "\n",
    "from shapely.geometry import Point\n",
    "for index, row in df.iterrows():\n",
    "     for pt in list(row['geometry'].exterior.coords): \n",
    "        coords.append(pt)\n",
    "\n",
    "print(coords)\n",
    "\n",
    "geometry = ee.Geometry.Polygon(coords,\n",
    "                               proj= 'EPSG:4326',\n",
    "                               geodesic = True,\n",
    "                               maxError= 1.,\n",
    "                               evenOdd = False)"
   ]
  },
  {
   "cell_type": "code",
   "execution_count": 152,
   "id": "a8985b54",
   "metadata": {},
   "outputs": [
    {
     "data": {
      "text/plain": [
       "['HV']"
      ]
     },
     "execution_count": 152,
     "metadata": {},
     "output_type": "execute_result"
    }
   ],
   "source": [
    "# Selecting data\n",
    "ffa_db = ee.Image(ee.ImageCollection('COPERNICUS/S1_GRD')      \n",
    "                       .filterDate(ee.Date('2020-02-12'), ee.Date('2020-03-15')) \n",
    "                       .filterBounds(geometry)\n",
    "                       .filter(ee.Filter.eq('resolution_meters',10))\n",
    "                       .select(\"HV\")\n",
    "                       .first())\n",
    "ffa_fl = ee.Image(ee.ImageCollection('COPERNICUS/S1_GRD_FLOAT') \n",
    "                       .filterBounds(geometry) \n",
    "                       .filterDate(ee.Date('2020-08-01'), ee.Date('2020-08-31')) \n",
    "                       .first()) \n",
    "                       #.clip(geometry))\n",
    "\n",
    "ffa_db.bandNames().getInfo()\n",
    "#Selection = ffa_db.select('HV')\n"
   ]
  },
  {
   "cell_type": "code",
   "execution_count": 155,
   "id": "f2e75f39",
   "metadata": {},
   "outputs": [],
   "source": [
    "# Selecting data\n",
    "ffa_db = ee.ImageCollection('COPERNICUS/S1_GRD').filterDate(ee.Date('2020-02-12'), ee.Date('2020-03-15')).filterBounds(geometry).filter(ee.Filter.eq('resolution_meters',10)).select(\"HV\")"
   ]
  },
  {
   "cell_type": "code",
   "execution_count": 156,
   "id": "8e8deeb6",
   "metadata": {},
   "outputs": [],
   "source": [
    "myCollection = ffa_db"
   ]
  },
  {
   "cell_type": "code",
   "execution_count": 157,
   "id": "906cccdf",
   "metadata": {},
   "outputs": [],
   "source": [
    "img = ee.Image(myCollection.median())"
   ]
  },
  {
   "cell_type": "code",
   "execution_count": 159,
   "id": "b2db7181",
   "metadata": {},
   "outputs": [
    {
     "ename": "AttributeError",
     "evalue": "'Image' object has no attribute 'exportToDrive'",
     "output_type": "error",
     "traceback": [
      "\u001b[1;31m---------------------------------------------------------------------------\u001b[0m",
      "\u001b[1;31mAttributeError\u001b[0m                            Traceback (most recent call last)",
      "\u001b[1;32m~\\AppData\\Local\\Temp/ipykernel_20116/2434885978.py\u001b[0m in \u001b[0;36m<module>\u001b[1;34m\u001b[0m\n\u001b[1;32m----> 1\u001b[1;33m \u001b[0mimg\u001b[0m\u001b[1;33m.\u001b[0m\u001b[0mexportToDrive\u001b[0m\u001b[1;33m\u001b[0m\u001b[1;33m\u001b[0m\u001b[0m\n\u001b[0m",
      "\u001b[1;31mAttributeError\u001b[0m: 'Image' object has no attribute 'exportToDrive'"
     ]
    }
   ],
   "source": [
    "img.exportToDrive"
   ]
  },
  {
   "cell_type": "code",
   "execution_count": 101,
   "id": "8b41fd9e",
   "metadata": {},
   "outputs": [],
   "source": [
    "hist = ffa_fl.select('HV').reduceRegion(\n",
    "    ee.Reducer.fixedHistogram(0, 0.5, 500),geometry).get('HV').getInfo()"
   ]
  },
  {
   "cell_type": "code",
   "execution_count": 98,
   "id": "0f0557e1",
   "metadata": {},
   "outputs": [],
   "source": [
    "mean = ffa_db.select('HV').reduceRegion(\n",
    "    ee.Reducer.mean(), geometry).get('HV').getInfo()"
   ]
  },
  {
   "cell_type": "code",
   "execution_count": 99,
   "id": "7251ae55",
   "metadata": {},
   "outputs": [
    {
     "data": {
      "text/plain": [
       "-21.764885706969167"
      ]
     },
     "execution_count": 99,
     "metadata": {},
     "output_type": "execute_result"
    }
   ],
   "source": [
    "mean"
   ]
  },
  {
   "cell_type": "code",
   "execution_count": 110,
   "id": "83992152",
   "metadata": {},
   "outputs": [],
   "source": [
    "# Selecting data\n",
    "ffa_db = ee.ImageCollection('COPERNICUS/S1_GRD').filterDate(ee.Date('2020-02-12'), ee.Date('2020-03-15')).filterBounds(geometry).filter(ee.Filter.eq('resolution_meters',10)).select(\"HV\")"
   ]
  },
  {
   "cell_type": "code",
   "execution_count": 140,
   "id": "c4ad2a26",
   "metadata": {},
   "outputs": [],
   "source": [
    "myCollection = ffa_db"
   ]
  },
  {
   "cell_type": "code",
   "execution_count": 141,
   "id": "5ba68744",
   "metadata": {},
   "outputs": [],
   "source": [
    "img = ee.Image(myCollection.median())"
   ]
  },
  {
   "cell_type": "code",
   "execution_count": null,
   "id": "fc3bbe27",
   "metadata": {},
   "outputs": [],
   "source": []
  },
  {
   "cell_type": "code",
   "execution_count": 142,
   "id": "a7726181",
   "metadata": {},
   "outputs": [],
   "source": [
    "img = img.addBands(ee.Image.pixelLonLat())"
   ]
  },
  {
   "cell_type": "code",
   "execution_count": 143,
   "id": "583bb170",
   "metadata": {},
   "outputs": [],
   "source": [
    "img = ee.Image(myCollection.median())"
   ]
  },
  {
   "cell_type": "code",
   "execution_count": 144,
   "id": "40b656fe",
   "metadata": {},
   "outputs": [],
   "source": [
    "img = img.addBands(ee.Image.pixelLonLat())"
   ]
  },
  {
   "cell_type": "code",
   "execution_count": 145,
   "id": "ce628bd7",
   "metadata": {},
   "outputs": [],
   "source": [
    "img = img.reduceRegion(reducer=ee.Reducer.toList(),\\\n",
    "                                    geometry=geometry,\\\n",
    "                                    maxPixels=1e13,\\\n",
    "                                    scale=10);"
   ]
  },
  {
   "cell_type": "code",
   "execution_count": 149,
   "id": "d120131f",
   "metadata": {},
   "outputs": [
    {
     "name": "stdout",
     "output_type": "stream",
     "text": [
      "ee.Dictionary({\n",
      "  \"functionInvocationValue\": {\n",
      "    \"functionName\": \"Image.reduceRegion\",\n",
      "    \"arguments\": {\n",
      "      \"geometry\": {\n",
      "        \"functionInvocationValue\": {\n",
      "          \"functionName\": \"GeometryConstructors.Polygon\",\n",
      "          \"arguments\": {\n",
      "            \"coordinates\": {\n",
      "              \"constantValue\": [\n",
      "                [\n",
      "                  7.438101242000073,\n",
      "                  60.227330023000036\n",
      "                ],\n",
      "                [\n",
      "                  7.543713227000069,\n",
      "                  60.22397726200006\n",
      "                ],\n",
      "                [\n",
      "                  7.543713227000069,\n",
      "                  60.14015822600004\n",
      "                ],\n",
      "                [\n",
      "                  7.434748480000053,\n",
      "                  60.14183460700008\n",
      "                ],\n",
      "                [\n",
      "                  7.438101242000073,\n",
      "                  60.227330023000036\n",
      "                ]\n",
      "              ]\n",
      "            },\n",
      "            \"crs\": {\n",
      "              \"functionInvocationValue\": {\n",
      "                \"functionName\": \"Projection\",\n",
      "                \"arguments\": {\n",
      "                  \"crs\": {\n",
      "                    \"constantValue\": \"EPSG:4326\"\n",
      "                  }\n",
      "                }\n",
      "              }\n",
      "            },\n",
      "            \"evenOdd\": {\n",
      "              \"constantValue\": false\n",
      "            },\n",
      "            \"geodesic\": {\n",
      "              \"constantValue\": true\n",
      "            },\n",
      "            \"maxError\": {\n",
      "              \"functionInvocationValue\": {\n",
      "                \"functionName\": \"ErrorMargin\",\n",
      "                \"arguments\": {\n",
      "                  \"value\": {\n",
      "                    \"constantValue\": 1.0\n",
      "                  }\n",
      "                }\n",
      "              }\n",
      "            }\n",
      "          }\n",
      "        }\n",
      "      },\n",
      "      \"image\": {\n",
      "        \"functionInvocationValue\": {\n",
      "          \"functionName\": \"Image.addBands\",\n",
      "          \"arguments\": {\n",
      "            \"dstImg\": {\n",
      "              \"functionInvocationValue\": {\n",
      "                \"functionName\": \"reduce.median\",\n",
      "                \"arguments\": {\n",
      "                  \"collection\": {\n",
      "                    \"functionInvocationValue\": {\n",
      "                      \"functionName\": \"Collection.map\",\n",
      "                      \"arguments\": {\n",
      "                        \"baseAlgorithm\": {\n",
      "                          \"functionDefinitionValue\": {\n",
      "                            \"argumentNames\": [\n",
      "                              \"_MAPPING_VAR_0_0\"\n",
      "                            ],\n",
      "                            \"body\": {\n",
      "                              \"functionInvocationValue\": {\n",
      "                                \"functionName\": \"Image.select\",\n",
      "                                \"arguments\": {\n",
      "                                  \"bandSelectors\": {\n",
      "                                    \"constantValue\": [\n",
      "                                      \"HV\"\n",
      "                                    ]\n",
      "                                  },\n",
      "                                  \"input\": {\n",
      "                                    \"argumentReference\": \"_MAPPING_VAR_0_0\"\n",
      "                                  }\n",
      "                                }\n",
      "                              }\n",
      "                            }\n",
      "                          }\n",
      "                        },\n",
      "                        \"collection\": {\n",
      "                          \"functionInvocationValue\": {\n",
      "                            \"functionName\": \"Collection.filter\",\n",
      "                            \"arguments\": {\n",
      "                              \"collection\": {\n",
      "                                \"functionInvocationValue\": {\n",
      "                                  \"functionName\": \"Collection.filter\",\n",
      "                                  \"arguments\": {\n",
      "                                    \"collection\": {\n",
      "                                      \"functionInvocationValue\": {\n",
      "                                        \"functionName\": \"Collection.filter\",\n",
      "                                        \"arguments\": {\n",
      "                                          \"collection\": {\n",
      "                                            \"functionInvocationValue\": {\n",
      "                                              \"functionName\": \"ImageCollection.load\",\n",
      "                                              \"arguments\": {\n",
      "                                                \"id\": {\n",
      "                                                  \"constantValue\": \"COPERNICUS/S1_GRD\"\n",
      "                                                }\n",
      "                                              }\n",
      "                                            }\n",
      "                                          },\n",
      "                                          \"filter\": {\n",
      "                                            \"functionInvocationValue\": {\n",
      "                                              \"functionName\": \"Filter.dateRangeContains\",\n",
      "                                              \"arguments\": {\n",
      "                                                \"leftValue\": {\n",
      "                                                  \"functionInvocationValue\": {\n",
      "                                                    \"functionName\": \"DateRange\",\n",
      "                                                    \"arguments\": {\n",
      "                                                      \"end\": {\n",
      "                                                        \"functionInvocationValue\": {\n",
      "                                                          \"functionName\": \"Date\",\n",
      "                                                          \"arguments\": {\n",
      "                                                            \"value\": {\n",
      "                                                              \"constantValue\": \"2020-03-15\"\n",
      "                                                            }\n",
      "                                                          }\n",
      "                                                        }\n",
      "                                                      },\n",
      "                                                      \"start\": {\n",
      "                                                        \"functionInvocationValue\": {\n",
      "                                                          \"functionName\": \"Date\",\n",
      "                                                          \"arguments\": {\n",
      "                                                            \"value\": {\n",
      "                                                              \"constantValue\": \"2020-02-12\"\n",
      "                                                            }\n",
      "                                                          }\n",
      "                                                        }\n",
      "                                                      }\n",
      "                                                    }\n",
      "                                                  }\n",
      "                                                },\n",
      "                                                \"rightField\": {\n",
      "                                                  \"constantValue\": \"system:time_start\"\n",
      "                                                }\n",
      "                                              }\n",
      "                                            }\n",
      "                                          }\n",
      "                                        }\n",
      "                                      }\n",
      "                                    },\n",
      "                                    \"filter\": {\n",
      "                                      \"functionInvocationValue\": {\n",
      "                                        \"functionName\": \"Filter.intersects\",\n",
      "                                        \"arguments\": {\n",
      "                                          \"leftField\": {\n",
      "                                            \"constantValue\": \".all\"\n",
      "                                          },\n",
      "                                          \"rightValue\": {\n",
      "                                            \"functionInvocationValue\": {\n",
      "                                              \"functionName\": \"Feature\",\n",
      "                                              \"arguments\": {\n",
      "                                                \"geometry\": {\n",
      "                                                  \"functionInvocationValue\": {\n",
      "                                                    \"functionName\": \"GeometryConstructors.Polygon\",\n",
      "                                                    \"arguments\": {\n",
      "                                                      \"coordinates\": {\n",
      "                                                        \"constantValue\": [\n",
      "                                                          [\n",
      "                                                            7.438101242000073,\n",
      "                                                            60.227330023000036\n",
      "                                                          ],\n",
      "                                                          [\n",
      "                                                            7.543713227000069,\n",
      "                                                            60.22397726200006\n",
      "                                                          ],\n",
      "                                                          [\n",
      "                                                            7.543713227000069,\n",
      "                                                            60.14015822600004\n",
      "                                                          ],\n",
      "                                                          [\n",
      "                                                            7.434748480000053,\n",
      "                                                            60.14183460700008\n",
      "                                                          ],\n",
      "                                                          [\n",
      "                                                            7.438101242000073,\n",
      "                                                            60.227330023000036\n",
      "                                                          ]\n",
      "                                                        ]\n",
      "                                                      },\n",
      "                                                      \"crs\": {\n",
      "                                                        \"functionInvocationValue\": {\n",
      "                                                          \"functionName\": \"Projection\",\n",
      "                                                          \"arguments\": {\n",
      "                                                            \"crs\": {\n",
      "                                                              \"constantValue\": \"EPSG:4326\"\n",
      "                                                            }\n",
      "                                                          }\n",
      "                                                        }\n",
      "                                                      },\n",
      "                                                      \"evenOdd\": {\n",
      "                                                        \"constantValue\": false\n",
      "                                                      },\n",
      "                                                      \"geodesic\": {\n",
      "                                                        \"constantValue\": true\n",
      "                                                      },\n",
      "                                                      \"maxError\": {\n",
      "                                                        \"functionInvocationValue\": {\n",
      "                                                          \"functionName\": \"ErrorMargin\",\n",
      "                                                          \"arguments\": {\n",
      "                                                            \"value\": {\n",
      "                                                              \"constantValue\": 1.0\n",
      "                                                            }\n",
      "                                                          }\n",
      "                                                        }\n",
      "                                                      }\n",
      "                                                    }\n",
      "                                                  }\n",
      "                                                }\n",
      "                                              }\n",
      "                                            }\n",
      "                                          }\n",
      "                                        }\n",
      "                                      }\n",
      "                                    }\n",
      "                                  }\n",
      "                                }\n",
      "                              },\n",
      "                              \"filter\": {\n",
      "                                \"functionInvocationValue\": {\n",
      "                                  \"functionName\": \"Filter.equals\",\n",
      "                                  \"arguments\": {\n",
      "                                    \"leftField\": {\n",
      "                                      \"constantValue\": \"resolution_meters\"\n",
      "                                    },\n",
      "                                    \"rightValue\": {\n",
      "                                      \"constantValue\": 10\n",
      "                                    }\n",
      "                                  }\n",
      "                                }\n",
      "                              }\n",
      "                            }\n",
      "                          }\n",
      "                        }\n",
      "                      }\n",
      "                    }\n",
      "                  }\n",
      "                }\n",
      "              }\n",
      "            },\n",
      "            \"srcImg\": {\n",
      "              \"functionInvocationValue\": {\n",
      "                \"functionName\": \"Image.pixelLonLat\",\n",
      "                \"arguments\": {}\n",
      "              }\n",
      "            }\n",
      "          }\n",
      "        }\n",
      "      },\n",
      "      \"maxPixels\": {\n",
      "        \"constantValue\": 10000000000000.0\n",
      "      },\n",
      "      \"reducer\": {\n",
      "        \"functionInvocationValue\": {\n",
      "          \"functionName\": \"Reducer.toList\",\n",
      "          \"arguments\": {}\n",
      "        }\n",
      "      },\n",
      "      \"scale\": {\n",
      "        \"constantValue\": 10\n",
      "      }\n",
      "    }\n",
      "  }\n",
      "})\n"
     ]
    }
   ],
   "source": [
    "print(img)"
   ]
  },
  {
   "cell_type": "code",
   "execution_count": 136,
   "id": "44794a11",
   "metadata": {},
   "outputs": [
    {
     "ename": "AttributeError",
     "evalue": "'Dictionary' object has no attribute 'bandNames'",
     "output_type": "error",
     "traceback": [
      "\u001b[1;31m---------------------------------------------------------------------------\u001b[0m",
      "\u001b[1;31mAttributeError\u001b[0m                            Traceback (most recent call last)",
      "\u001b[1;32m~\\AppData\\Local\\Temp/ipykernel_20116/3121994486.py\u001b[0m in \u001b[0;36m<module>\u001b[1;34m\u001b[0m\n\u001b[1;32m----> 1\u001b[1;33m \u001b[0mimg\u001b[0m\u001b[1;33m.\u001b[0m\u001b[0mbandNames\u001b[0m\u001b[1;33m(\u001b[0m\u001b[1;33m)\u001b[0m\u001b[1;33m.\u001b[0m\u001b[0mgetInfo\u001b[0m\u001b[1;33m(\u001b[0m\u001b[1;33m)\u001b[0m\u001b[1;33m\u001b[0m\u001b[1;33m\u001b[0m\u001b[0m\n\u001b[0m",
      "\u001b[1;31mAttributeError\u001b[0m: 'Dictionary' object has no attribute 'bandNames'"
     ]
    }
   ],
   "source": [
    "img.bandNames().getInfo()"
   ]
  },
  {
   "cell_type": "code",
   "execution_count": 137,
   "id": "c7bd4df1",
   "metadata": {},
   "outputs": [],
   "source": [
    "img = img.get('HV')"
   ]
  },
  {
   "cell_type": "code",
   "execution_count": 138,
   "id": "339f5c18",
   "metadata": {},
   "outputs": [
    {
     "data": {
      "text/plain": [
       "<ee.computedobject.ComputedObject at 0x166df06fe48>"
      ]
     },
     "execution_count": 138,
     "metadata": {},
     "output_type": "execute_result"
    }
   ],
   "source": [
    "img"
   ]
  },
  {
   "cell_type": "code",
   "execution_count": 139,
   "id": "8468de03",
   "metadata": {},
   "outputs": [
    {
     "ename": "EEException",
     "evalue": "Error in map(ID=null):\nImage.select: Pattern 'HV' did not match any bands.",
     "output_type": "error",
     "traceback": [
      "\u001b[1;31m---------------------------------------------------------------------------\u001b[0m",
      "\u001b[1;31mHttpError\u001b[0m                                 Traceback (most recent call last)",
      "\u001b[1;32m~\\anaconda3\\envs\\nanok\\lib\\site-packages\\ee\\data.py\u001b[0m in \u001b[0;36m_execute_cloud_call\u001b[1;34m(call, num_retries)\u001b[0m\n\u001b[0;32m    333\u001b[0m   \u001b[1;32mtry\u001b[0m\u001b[1;33m:\u001b[0m\u001b[1;33m\u001b[0m\u001b[1;33m\u001b[0m\u001b[0m\n\u001b[1;32m--> 334\u001b[1;33m     \u001b[1;32mreturn\u001b[0m \u001b[0mcall\u001b[0m\u001b[1;33m.\u001b[0m\u001b[0mexecute\u001b[0m\u001b[1;33m(\u001b[0m\u001b[0mnum_retries\u001b[0m\u001b[1;33m=\u001b[0m\u001b[0mnum_retries\u001b[0m\u001b[1;33m)\u001b[0m\u001b[1;33m\u001b[0m\u001b[1;33m\u001b[0m\u001b[0m\n\u001b[0m\u001b[0;32m    335\u001b[0m   \u001b[1;32mexcept\u001b[0m \u001b[0mgoogleapiclient\u001b[0m\u001b[1;33m.\u001b[0m\u001b[0merrors\u001b[0m\u001b[1;33m.\u001b[0m\u001b[0mHttpError\u001b[0m \u001b[1;32mas\u001b[0m \u001b[0me\u001b[0m\u001b[1;33m:\u001b[0m\u001b[1;33m\u001b[0m\u001b[1;33m\u001b[0m\u001b[0m\n",
      "\u001b[1;32m~\\anaconda3\\envs\\nanok\\lib\\site-packages\\googleapiclient\\_helpers.py\u001b[0m in \u001b[0;36mpositional_wrapper\u001b[1;34m(*args, **kwargs)\u001b[0m\n\u001b[0;32m    133\u001b[0m                     \u001b[0mlogger\u001b[0m\u001b[1;33m.\u001b[0m\u001b[0mwarning\u001b[0m\u001b[1;33m(\u001b[0m\u001b[0mmessage\u001b[0m\u001b[1;33m)\u001b[0m\u001b[1;33m\u001b[0m\u001b[1;33m\u001b[0m\u001b[0m\n\u001b[1;32m--> 134\u001b[1;33m             \u001b[1;32mreturn\u001b[0m \u001b[0mwrapped\u001b[0m\u001b[1;33m(\u001b[0m\u001b[1;33m*\u001b[0m\u001b[0margs\u001b[0m\u001b[1;33m,\u001b[0m \u001b[1;33m**\u001b[0m\u001b[0mkwargs\u001b[0m\u001b[1;33m)\u001b[0m\u001b[1;33m\u001b[0m\u001b[1;33m\u001b[0m\u001b[0m\n\u001b[0m\u001b[0;32m    135\u001b[0m \u001b[1;33m\u001b[0m\u001b[0m\n",
      "\u001b[1;32m~\\anaconda3\\envs\\nanok\\lib\\site-packages\\googleapiclient\\http.py\u001b[0m in \u001b[0;36mexecute\u001b[1;34m(self, http, num_retries)\u001b[0m\n\u001b[0;32m    914\u001b[0m         \u001b[1;32mif\u001b[0m \u001b[0mresp\u001b[0m\u001b[1;33m.\u001b[0m\u001b[0mstatus\u001b[0m \u001b[1;33m>=\u001b[0m \u001b[1;36m300\u001b[0m\u001b[1;33m:\u001b[0m\u001b[1;33m\u001b[0m\u001b[1;33m\u001b[0m\u001b[0m\n\u001b[1;32m--> 915\u001b[1;33m             \u001b[1;32mraise\u001b[0m \u001b[0mHttpError\u001b[0m\u001b[1;33m(\u001b[0m\u001b[0mresp\u001b[0m\u001b[1;33m,\u001b[0m \u001b[0mcontent\u001b[0m\u001b[1;33m,\u001b[0m \u001b[0muri\u001b[0m\u001b[1;33m=\u001b[0m\u001b[0mself\u001b[0m\u001b[1;33m.\u001b[0m\u001b[0muri\u001b[0m\u001b[1;33m)\u001b[0m\u001b[1;33m\u001b[0m\u001b[1;33m\u001b[0m\u001b[0m\n\u001b[0m\u001b[0;32m    916\u001b[0m         \u001b[1;32mreturn\u001b[0m \u001b[0mself\u001b[0m\u001b[1;33m.\u001b[0m\u001b[0mpostproc\u001b[0m\u001b[1;33m(\u001b[0m\u001b[0mresp\u001b[0m\u001b[1;33m,\u001b[0m \u001b[0mcontent\u001b[0m\u001b[1;33m)\u001b[0m\u001b[1;33m\u001b[0m\u001b[1;33m\u001b[0m\u001b[0m\n",
      "\u001b[1;31mHttpError\u001b[0m: <HttpError 400 when requesting https://earthengine.googleapis.com/v1alpha/projects/earthengine-legacy/value:compute?prettyPrint=false&alt=json returned \"Error in map(ID=null):\nImage.select: Pattern 'HV' did not match any bands.\". Details: \"Error in map(ID=null):\nImage.select: Pattern 'HV' did not match any bands.\">",
      "\nDuring handling of the above exception, another exception occurred:\n",
      "\u001b[1;31mEEException\u001b[0m                               Traceback (most recent call last)",
      "\u001b[1;32m~\\AppData\\Local\\Temp/ipykernel_20116/640340054.py\u001b[0m in \u001b[0;36m<module>\u001b[1;34m\u001b[0m\n\u001b[1;32m----> 1\u001b[1;33m \u001b[0mimg\u001b[0m \u001b[1;33m=\u001b[0m \u001b[0mee\u001b[0m\u001b[1;33m.\u001b[0m\u001b[0mArray\u001b[0m\u001b[1;33m(\u001b[0m\u001b[0mimg\u001b[0m\u001b[1;33m)\u001b[0m\u001b[1;33m.\u001b[0m\u001b[0mgetInfo\u001b[0m\u001b[1;33m(\u001b[0m\u001b[1;33m)\u001b[0m\u001b[1;33m\u001b[0m\u001b[1;33m\u001b[0m\u001b[0m\n\u001b[0m",
      "\u001b[1;32m~\\anaconda3\\envs\\nanok\\lib\\site-packages\\ee\\computedobject.py\u001b[0m in \u001b[0;36mgetInfo\u001b[1;34m(self)\u001b[0m\n\u001b[0;32m     96\u001b[0m       \u001b[0mThe\u001b[0m \u001b[0mobject\u001b[0m \u001b[0mcan\u001b[0m \u001b[0mevaluate\u001b[0m \u001b[0mto\u001b[0m \u001b[0manything\u001b[0m\u001b[1;33m.\u001b[0m\u001b[1;33m\u001b[0m\u001b[1;33m\u001b[0m\u001b[0m\n\u001b[0;32m     97\u001b[0m     \"\"\"\n\u001b[1;32m---> 98\u001b[1;33m     \u001b[1;32mreturn\u001b[0m \u001b[0mdata\u001b[0m\u001b[1;33m.\u001b[0m\u001b[0mcomputeValue\u001b[0m\u001b[1;33m(\u001b[0m\u001b[0mself\u001b[0m\u001b[1;33m)\u001b[0m\u001b[1;33m\u001b[0m\u001b[1;33m\u001b[0m\u001b[0m\n\u001b[0m\u001b[0;32m     99\u001b[0m \u001b[1;33m\u001b[0m\u001b[0m\n\u001b[0;32m    100\u001b[0m   \u001b[1;32mdef\u001b[0m \u001b[0mencode\u001b[0m\u001b[1;33m(\u001b[0m\u001b[0mself\u001b[0m\u001b[1;33m,\u001b[0m \u001b[0mencoder\u001b[0m\u001b[1;33m)\u001b[0m\u001b[1;33m:\u001b[0m\u001b[1;33m\u001b[0m\u001b[1;33m\u001b[0m\u001b[0m\n",
      "\u001b[1;32m~\\anaconda3\\envs\\nanok\\lib\\site-packages\\ee\\data.py\u001b[0m in \u001b[0;36mcomputeValue\u001b[1;34m(obj)\u001b[0m\n\u001b[0;32m    674\u001b[0m           \u001b[0mbody\u001b[0m\u001b[1;33m=\u001b[0m\u001b[1;33m{\u001b[0m\u001b[1;34m'expression'\u001b[0m\u001b[1;33m:\u001b[0m \u001b[0mserializer\u001b[0m\u001b[1;33m.\u001b[0m\u001b[0mencode\u001b[0m\u001b[1;33m(\u001b[0m\u001b[0mobj\u001b[0m\u001b[1;33m,\u001b[0m \u001b[0mfor_cloud_api\u001b[0m\u001b[1;33m=\u001b[0m\u001b[1;32mTrue\u001b[0m\u001b[1;33m)\u001b[0m\u001b[1;33m}\u001b[0m\u001b[1;33m,\u001b[0m\u001b[1;33m\u001b[0m\u001b[1;33m\u001b[0m\u001b[0m\n\u001b[0;32m    675\u001b[0m           \u001b[0mproject\u001b[0m\u001b[1;33m=\u001b[0m\u001b[0m_get_projects_path\u001b[0m\u001b[1;33m(\u001b[0m\u001b[1;33m)\u001b[0m\u001b[1;33m,\u001b[0m\u001b[1;33m\u001b[0m\u001b[1;33m\u001b[0m\u001b[0m\n\u001b[1;32m--> 676\u001b[1;33m           prettyPrint=False))['result']\n\u001b[0m\u001b[0;32m    677\u001b[0m \u001b[1;33m\u001b[0m\u001b[0m\n\u001b[0;32m    678\u001b[0m \u001b[1;33m\u001b[0m\u001b[0m\n",
      "\u001b[1;32m~\\anaconda3\\envs\\nanok\\lib\\site-packages\\ee\\data.py\u001b[0m in \u001b[0;36m_execute_cloud_call\u001b[1;34m(call, num_retries)\u001b[0m\n\u001b[0;32m    334\u001b[0m     \u001b[1;32mreturn\u001b[0m \u001b[0mcall\u001b[0m\u001b[1;33m.\u001b[0m\u001b[0mexecute\u001b[0m\u001b[1;33m(\u001b[0m\u001b[0mnum_retries\u001b[0m\u001b[1;33m=\u001b[0m\u001b[0mnum_retries\u001b[0m\u001b[1;33m)\u001b[0m\u001b[1;33m\u001b[0m\u001b[1;33m\u001b[0m\u001b[0m\n\u001b[0;32m    335\u001b[0m   \u001b[1;32mexcept\u001b[0m \u001b[0mgoogleapiclient\u001b[0m\u001b[1;33m.\u001b[0m\u001b[0merrors\u001b[0m\u001b[1;33m.\u001b[0m\u001b[0mHttpError\u001b[0m \u001b[1;32mas\u001b[0m \u001b[0me\u001b[0m\u001b[1;33m:\u001b[0m\u001b[1;33m\u001b[0m\u001b[1;33m\u001b[0m\u001b[0m\n\u001b[1;32m--> 336\u001b[1;33m     \u001b[1;32mraise\u001b[0m \u001b[0m_translate_cloud_exception\u001b[0m\u001b[1;33m(\u001b[0m\u001b[0me\u001b[0m\u001b[1;33m)\u001b[0m\u001b[1;33m\u001b[0m\u001b[1;33m\u001b[0m\u001b[0m\n\u001b[0m\u001b[0;32m    337\u001b[0m \u001b[1;33m\u001b[0m\u001b[0m\n\u001b[0;32m    338\u001b[0m \u001b[1;33m\u001b[0m\u001b[0m\n",
      "\u001b[1;31mEEException\u001b[0m: Error in map(ID=null):\nImage.select: Pattern 'HV' did not match any bands."
     ]
    }
   ],
   "source": [
    "img = ee.Array(img).getInfo()"
   ]
  },
  {
   "cell_type": "code",
   "execution_count": null,
   "id": "09c2944c",
   "metadata": {},
   "outputs": [],
   "source": []
  },
  {
   "cell_type": "code",
   "execution_count": 126,
   "id": "90850177",
   "metadata": {},
   "outputs": [
    {
     "ename": "EEException",
     "evalue": "Array: Parameter 'values' is required.",
     "output_type": "error",
     "traceback": [
      "\u001b[1;31m---------------------------------------------------------------------------\u001b[0m",
      "\u001b[1;31mHttpError\u001b[0m                                 Traceback (most recent call last)",
      "\u001b[1;32m~\\anaconda3\\envs\\nanok\\lib\\site-packages\\ee\\data.py\u001b[0m in \u001b[0;36m_execute_cloud_call\u001b[1;34m(call, num_retries)\u001b[0m\n\u001b[0;32m    333\u001b[0m   \u001b[1;32mtry\u001b[0m\u001b[1;33m:\u001b[0m\u001b[1;33m\u001b[0m\u001b[1;33m\u001b[0m\u001b[0m\n\u001b[1;32m--> 334\u001b[1;33m     \u001b[1;32mreturn\u001b[0m \u001b[0mcall\u001b[0m\u001b[1;33m.\u001b[0m\u001b[0mexecute\u001b[0m\u001b[1;33m(\u001b[0m\u001b[0mnum_retries\u001b[0m\u001b[1;33m=\u001b[0m\u001b[0mnum_retries\u001b[0m\u001b[1;33m)\u001b[0m\u001b[1;33m\u001b[0m\u001b[1;33m\u001b[0m\u001b[0m\n\u001b[0m\u001b[0;32m    335\u001b[0m   \u001b[1;32mexcept\u001b[0m \u001b[0mgoogleapiclient\u001b[0m\u001b[1;33m.\u001b[0m\u001b[0merrors\u001b[0m\u001b[1;33m.\u001b[0m\u001b[0mHttpError\u001b[0m \u001b[1;32mas\u001b[0m \u001b[0me\u001b[0m\u001b[1;33m:\u001b[0m\u001b[1;33m\u001b[0m\u001b[1;33m\u001b[0m\u001b[0m\n",
      "\u001b[1;32m~\\anaconda3\\envs\\nanok\\lib\\site-packages\\googleapiclient\\_helpers.py\u001b[0m in \u001b[0;36mpositional_wrapper\u001b[1;34m(*args, **kwargs)\u001b[0m\n\u001b[0;32m    133\u001b[0m                     \u001b[0mlogger\u001b[0m\u001b[1;33m.\u001b[0m\u001b[0mwarning\u001b[0m\u001b[1;33m(\u001b[0m\u001b[0mmessage\u001b[0m\u001b[1;33m)\u001b[0m\u001b[1;33m\u001b[0m\u001b[1;33m\u001b[0m\u001b[0m\n\u001b[1;32m--> 134\u001b[1;33m             \u001b[1;32mreturn\u001b[0m \u001b[0mwrapped\u001b[0m\u001b[1;33m(\u001b[0m\u001b[1;33m*\u001b[0m\u001b[0margs\u001b[0m\u001b[1;33m,\u001b[0m \u001b[1;33m**\u001b[0m\u001b[0mkwargs\u001b[0m\u001b[1;33m)\u001b[0m\u001b[1;33m\u001b[0m\u001b[1;33m\u001b[0m\u001b[0m\n\u001b[0m\u001b[0;32m    135\u001b[0m \u001b[1;33m\u001b[0m\u001b[0m\n",
      "\u001b[1;32m~\\anaconda3\\envs\\nanok\\lib\\site-packages\\googleapiclient\\http.py\u001b[0m in \u001b[0;36mexecute\u001b[1;34m(self, http, num_retries)\u001b[0m\n\u001b[0;32m    914\u001b[0m         \u001b[1;32mif\u001b[0m \u001b[0mresp\u001b[0m\u001b[1;33m.\u001b[0m\u001b[0mstatus\u001b[0m \u001b[1;33m>=\u001b[0m \u001b[1;36m300\u001b[0m\u001b[1;33m:\u001b[0m\u001b[1;33m\u001b[0m\u001b[1;33m\u001b[0m\u001b[0m\n\u001b[1;32m--> 915\u001b[1;33m             \u001b[1;32mraise\u001b[0m \u001b[0mHttpError\u001b[0m\u001b[1;33m(\u001b[0m\u001b[0mresp\u001b[0m\u001b[1;33m,\u001b[0m \u001b[0mcontent\u001b[0m\u001b[1;33m,\u001b[0m \u001b[0muri\u001b[0m\u001b[1;33m=\u001b[0m\u001b[0mself\u001b[0m\u001b[1;33m.\u001b[0m\u001b[0muri\u001b[0m\u001b[1;33m)\u001b[0m\u001b[1;33m\u001b[0m\u001b[1;33m\u001b[0m\u001b[0m\n\u001b[0m\u001b[0;32m    916\u001b[0m         \u001b[1;32mreturn\u001b[0m \u001b[0mself\u001b[0m\u001b[1;33m.\u001b[0m\u001b[0mpostproc\u001b[0m\u001b[1;33m(\u001b[0m\u001b[0mresp\u001b[0m\u001b[1;33m,\u001b[0m \u001b[0mcontent\u001b[0m\u001b[1;33m)\u001b[0m\u001b[1;33m\u001b[0m\u001b[1;33m\u001b[0m\u001b[0m\n",
      "\u001b[1;31mHttpError\u001b[0m: <HttpError 400 when requesting https://earthengine.googleapis.com/v1alpha/projects/earthengine-legacy/value:compute?prettyPrint=false&alt=json returned \"Array: Parameter 'values' is required.\". Details: \"Array: Parameter 'values' is required.\">",
      "\nDuring handling of the above exception, another exception occurred:\n",
      "\u001b[1;31mEEException\u001b[0m                               Traceback (most recent call last)",
      "\u001b[1;32m~\\AppData\\Local\\Temp/ipykernel_20116/846050196.py\u001b[0m in \u001b[0;36m<module>\u001b[1;34m\u001b[0m\n\u001b[1;32m----> 1\u001b[1;33m \u001b[0mdata\u001b[0m \u001b[1;33m=\u001b[0m \u001b[0mnp\u001b[0m\u001b[1;33m.\u001b[0m\u001b[0marray\u001b[0m\u001b[1;33m(\u001b[0m\u001b[1;33m(\u001b[0m\u001b[0mee\u001b[0m\u001b[1;33m.\u001b[0m\u001b[0mArray\u001b[0m\u001b[1;33m(\u001b[0m\u001b[0mimg\u001b[0m\u001b[1;33m.\u001b[0m\u001b[0mget\u001b[0m\u001b[1;33m(\u001b[0m\u001b[1;34m\"HV\"\u001b[0m\u001b[1;33m)\u001b[0m\u001b[1;33m)\u001b[0m\u001b[1;33m.\u001b[0m\u001b[0mgetInfo\u001b[0m\u001b[1;33m(\u001b[0m\u001b[1;33m)\u001b[0m\u001b[1;33m)\u001b[0m\u001b[1;33m)\u001b[0m\u001b[1;33m\u001b[0m\u001b[1;33m\u001b[0m\u001b[0m\n\u001b[0m",
      "\u001b[1;32m~\\anaconda3\\envs\\nanok\\lib\\site-packages\\ee\\computedobject.py\u001b[0m in \u001b[0;36mgetInfo\u001b[1;34m(self)\u001b[0m\n\u001b[0;32m     96\u001b[0m       \u001b[0mThe\u001b[0m \u001b[0mobject\u001b[0m \u001b[0mcan\u001b[0m \u001b[0mevaluate\u001b[0m \u001b[0mto\u001b[0m \u001b[0manything\u001b[0m\u001b[1;33m.\u001b[0m\u001b[1;33m\u001b[0m\u001b[1;33m\u001b[0m\u001b[0m\n\u001b[0;32m     97\u001b[0m     \"\"\"\n\u001b[1;32m---> 98\u001b[1;33m     \u001b[1;32mreturn\u001b[0m \u001b[0mdata\u001b[0m\u001b[1;33m.\u001b[0m\u001b[0mcomputeValue\u001b[0m\u001b[1;33m(\u001b[0m\u001b[0mself\u001b[0m\u001b[1;33m)\u001b[0m\u001b[1;33m\u001b[0m\u001b[1;33m\u001b[0m\u001b[0m\n\u001b[0m\u001b[0;32m     99\u001b[0m \u001b[1;33m\u001b[0m\u001b[0m\n\u001b[0;32m    100\u001b[0m   \u001b[1;32mdef\u001b[0m \u001b[0mencode\u001b[0m\u001b[1;33m(\u001b[0m\u001b[0mself\u001b[0m\u001b[1;33m,\u001b[0m \u001b[0mencoder\u001b[0m\u001b[1;33m)\u001b[0m\u001b[1;33m:\u001b[0m\u001b[1;33m\u001b[0m\u001b[1;33m\u001b[0m\u001b[0m\n",
      "\u001b[1;32m~\\anaconda3\\envs\\nanok\\lib\\site-packages\\ee\\data.py\u001b[0m in \u001b[0;36mcomputeValue\u001b[1;34m(obj)\u001b[0m\n\u001b[0;32m    674\u001b[0m           \u001b[0mbody\u001b[0m\u001b[1;33m=\u001b[0m\u001b[1;33m{\u001b[0m\u001b[1;34m'expression'\u001b[0m\u001b[1;33m:\u001b[0m \u001b[0mserializer\u001b[0m\u001b[1;33m.\u001b[0m\u001b[0mencode\u001b[0m\u001b[1;33m(\u001b[0m\u001b[0mobj\u001b[0m\u001b[1;33m,\u001b[0m \u001b[0mfor_cloud_api\u001b[0m\u001b[1;33m=\u001b[0m\u001b[1;32mTrue\u001b[0m\u001b[1;33m)\u001b[0m\u001b[1;33m}\u001b[0m\u001b[1;33m,\u001b[0m\u001b[1;33m\u001b[0m\u001b[1;33m\u001b[0m\u001b[0m\n\u001b[0;32m    675\u001b[0m           \u001b[0mproject\u001b[0m\u001b[1;33m=\u001b[0m\u001b[0m_get_projects_path\u001b[0m\u001b[1;33m(\u001b[0m\u001b[1;33m)\u001b[0m\u001b[1;33m,\u001b[0m\u001b[1;33m\u001b[0m\u001b[1;33m\u001b[0m\u001b[0m\n\u001b[1;32m--> 676\u001b[1;33m           prettyPrint=False))['result']\n\u001b[0m\u001b[0;32m    677\u001b[0m \u001b[1;33m\u001b[0m\u001b[0m\n\u001b[0;32m    678\u001b[0m \u001b[1;33m\u001b[0m\u001b[0m\n",
      "\u001b[1;32m~\\anaconda3\\envs\\nanok\\lib\\site-packages\\ee\\data.py\u001b[0m in \u001b[0;36m_execute_cloud_call\u001b[1;34m(call, num_retries)\u001b[0m\n\u001b[0;32m    334\u001b[0m     \u001b[1;32mreturn\u001b[0m \u001b[0mcall\u001b[0m\u001b[1;33m.\u001b[0m\u001b[0mexecute\u001b[0m\u001b[1;33m(\u001b[0m\u001b[0mnum_retries\u001b[0m\u001b[1;33m=\u001b[0m\u001b[0mnum_retries\u001b[0m\u001b[1;33m)\u001b[0m\u001b[1;33m\u001b[0m\u001b[1;33m\u001b[0m\u001b[0m\n\u001b[0;32m    335\u001b[0m   \u001b[1;32mexcept\u001b[0m \u001b[0mgoogleapiclient\u001b[0m\u001b[1;33m.\u001b[0m\u001b[0merrors\u001b[0m\u001b[1;33m.\u001b[0m\u001b[0mHttpError\u001b[0m \u001b[1;32mas\u001b[0m \u001b[0me\u001b[0m\u001b[1;33m:\u001b[0m\u001b[1;33m\u001b[0m\u001b[1;33m\u001b[0m\u001b[0m\n\u001b[1;32m--> 336\u001b[1;33m     \u001b[1;32mraise\u001b[0m \u001b[0m_translate_cloud_exception\u001b[0m\u001b[1;33m(\u001b[0m\u001b[0me\u001b[0m\u001b[1;33m)\u001b[0m\u001b[1;33m\u001b[0m\u001b[1;33m\u001b[0m\u001b[0m\n\u001b[0m\u001b[0;32m    337\u001b[0m \u001b[1;33m\u001b[0m\u001b[0m\n\u001b[0;32m    338\u001b[0m \u001b[1;33m\u001b[0m\u001b[0m\n",
      "\u001b[1;31mEEException\u001b[0m: Array: Parameter 'values' is required."
     ]
    }
   ],
   "source": [
    "data = np.array((ee.Array(img.get(\"HV\")).getInfo()))"
   ]
  },
  {
   "cell_type": "code",
   "execution_count": 118,
   "id": "0afc312d",
   "metadata": {},
   "outputs": [],
   "source": [
    "img = img.reduceRegion(reducer=ee.Reducer.toList(),\\\n",
    "                                    geometry=geometry,\\\n",
    "                                    maxPixels=1e13,\\\n",
    "                                    scale=10);"
   ]
  },
  {
   "cell_type": "code",
   "execution_count": 119,
   "id": "efcb6e0c",
   "metadata": {},
   "outputs": [
    {
     "ename": "AttributeError",
     "evalue": "'Dictionary' object has no attribute 'bandNames'",
     "output_type": "error",
     "traceback": [
      "\u001b[1;31m---------------------------------------------------------------------------\u001b[0m",
      "\u001b[1;31mAttributeError\u001b[0m                            Traceback (most recent call last)",
      "\u001b[1;32m~\\AppData\\Local\\Temp/ipykernel_20116/3121994486.py\u001b[0m in \u001b[0;36m<module>\u001b[1;34m\u001b[0m\n\u001b[1;32m----> 1\u001b[1;33m \u001b[0mimg\u001b[0m\u001b[1;33m.\u001b[0m\u001b[0mbandNames\u001b[0m\u001b[1;33m(\u001b[0m\u001b[1;33m)\u001b[0m\u001b[1;33m.\u001b[0m\u001b[0mgetInfo\u001b[0m\u001b[1;33m(\u001b[0m\u001b[1;33m)\u001b[0m\u001b[1;33m\u001b[0m\u001b[1;33m\u001b[0m\u001b[0m\n\u001b[0m",
      "\u001b[1;31mAttributeError\u001b[0m: 'Dictionary' object has no attribute 'bandNames'"
     ]
    }
   ],
   "source": [
    "img.bandNames().getInfo()"
   ]
  },
  {
   "cell_type": "code",
   "execution_count": 94,
   "id": "a6d11e1c",
   "metadata": {
    "collapsed": true
   },
   "outputs": [
    {
     "ename": "EEException",
     "evalue": "Error in map(ID=null):\nImage.select: Pattern 'HV' did not match any bands.",
     "output_type": "error",
     "traceback": [
      "\u001b[1;31m---------------------------------------------------------------------------\u001b[0m",
      "\u001b[1;31mHttpError\u001b[0m                                 Traceback (most recent call last)",
      "\u001b[1;32m~\\anaconda3\\envs\\nanok\\lib\\site-packages\\ee\\data.py\u001b[0m in \u001b[0;36m_execute_cloud_call\u001b[1;34m(call, num_retries)\u001b[0m\n\u001b[0;32m    333\u001b[0m   \u001b[1;32mtry\u001b[0m\u001b[1;33m:\u001b[0m\u001b[1;33m\u001b[0m\u001b[1;33m\u001b[0m\u001b[0m\n\u001b[1;32m--> 334\u001b[1;33m     \u001b[1;32mreturn\u001b[0m \u001b[0mcall\u001b[0m\u001b[1;33m.\u001b[0m\u001b[0mexecute\u001b[0m\u001b[1;33m(\u001b[0m\u001b[0mnum_retries\u001b[0m\u001b[1;33m=\u001b[0m\u001b[0mnum_retries\u001b[0m\u001b[1;33m)\u001b[0m\u001b[1;33m\u001b[0m\u001b[1;33m\u001b[0m\u001b[0m\n\u001b[0m\u001b[0;32m    335\u001b[0m   \u001b[1;32mexcept\u001b[0m \u001b[0mgoogleapiclient\u001b[0m\u001b[1;33m.\u001b[0m\u001b[0merrors\u001b[0m\u001b[1;33m.\u001b[0m\u001b[0mHttpError\u001b[0m \u001b[1;32mas\u001b[0m \u001b[0me\u001b[0m\u001b[1;33m:\u001b[0m\u001b[1;33m\u001b[0m\u001b[1;33m\u001b[0m\u001b[0m\n",
      "\u001b[1;32m~\\anaconda3\\envs\\nanok\\lib\\site-packages\\googleapiclient\\_helpers.py\u001b[0m in \u001b[0;36mpositional_wrapper\u001b[1;34m(*args, **kwargs)\u001b[0m\n\u001b[0;32m    133\u001b[0m                     \u001b[0mlogger\u001b[0m\u001b[1;33m.\u001b[0m\u001b[0mwarning\u001b[0m\u001b[1;33m(\u001b[0m\u001b[0mmessage\u001b[0m\u001b[1;33m)\u001b[0m\u001b[1;33m\u001b[0m\u001b[1;33m\u001b[0m\u001b[0m\n\u001b[1;32m--> 134\u001b[1;33m             \u001b[1;32mreturn\u001b[0m \u001b[0mwrapped\u001b[0m\u001b[1;33m(\u001b[0m\u001b[1;33m*\u001b[0m\u001b[0margs\u001b[0m\u001b[1;33m,\u001b[0m \u001b[1;33m**\u001b[0m\u001b[0mkwargs\u001b[0m\u001b[1;33m)\u001b[0m\u001b[1;33m\u001b[0m\u001b[1;33m\u001b[0m\u001b[0m\n\u001b[0m\u001b[0;32m    135\u001b[0m \u001b[1;33m\u001b[0m\u001b[0m\n",
      "\u001b[1;32m~\\anaconda3\\envs\\nanok\\lib\\site-packages\\googleapiclient\\http.py\u001b[0m in \u001b[0;36mexecute\u001b[1;34m(self, http, num_retries)\u001b[0m\n\u001b[0;32m    914\u001b[0m         \u001b[1;32mif\u001b[0m \u001b[0mresp\u001b[0m\u001b[1;33m.\u001b[0m\u001b[0mstatus\u001b[0m \u001b[1;33m>=\u001b[0m \u001b[1;36m300\u001b[0m\u001b[1;33m:\u001b[0m\u001b[1;33m\u001b[0m\u001b[1;33m\u001b[0m\u001b[0m\n\u001b[1;32m--> 915\u001b[1;33m             \u001b[1;32mraise\u001b[0m \u001b[0mHttpError\u001b[0m\u001b[1;33m(\u001b[0m\u001b[0mresp\u001b[0m\u001b[1;33m,\u001b[0m \u001b[0mcontent\u001b[0m\u001b[1;33m,\u001b[0m \u001b[0muri\u001b[0m\u001b[1;33m=\u001b[0m\u001b[0mself\u001b[0m\u001b[1;33m.\u001b[0m\u001b[0muri\u001b[0m\u001b[1;33m)\u001b[0m\u001b[1;33m\u001b[0m\u001b[1;33m\u001b[0m\u001b[0m\n\u001b[0m\u001b[0;32m    916\u001b[0m         \u001b[1;32mreturn\u001b[0m \u001b[0mself\u001b[0m\u001b[1;33m.\u001b[0m\u001b[0mpostproc\u001b[0m\u001b[1;33m(\u001b[0m\u001b[0mresp\u001b[0m\u001b[1;33m,\u001b[0m \u001b[0mcontent\u001b[0m\u001b[1;33m)\u001b[0m\u001b[1;33m\u001b[0m\u001b[1;33m\u001b[0m\u001b[0m\n",
      "\u001b[1;31mHttpError\u001b[0m: <HttpError 400 when requesting https://earthengine.googleapis.com/v1alpha/projects/earthengine-legacy/value:compute?prettyPrint=false&alt=json returned \"Error in map(ID=null):\nImage.select: Pattern 'HV' did not match any bands.\". Details: \"Error in map(ID=null):\nImage.select: Pattern 'HV' did not match any bands.\">",
      "\nDuring handling of the above exception, another exception occurred:\n",
      "\u001b[1;31mEEException\u001b[0m                               Traceback (most recent call last)",
      "\u001b[1;32m~\\AppData\\Local\\Temp/ipykernel_20116/1664064559.py\u001b[0m in \u001b[0;36m<module>\u001b[1;34m\u001b[0m\n\u001b[0;32m     53\u001b[0m \u001b[1;31m#result = myCollection.rename(['result'])\u001b[0m\u001b[1;33m\u001b[0m\u001b[1;33m\u001b[0m\u001b[1;33m\u001b[0m\u001b[0m\n\u001b[0;32m     54\u001b[0m \u001b[1;31m# get the lon, lat and result as 1d array\u001b[0m\u001b[1;33m\u001b[0m\u001b[1;33m\u001b[0m\u001b[1;33m\u001b[0m\u001b[0m\n\u001b[1;32m---> 55\u001b[1;33m \u001b[0mlat\u001b[0m\u001b[1;33m,\u001b[0m \u001b[0mlon\u001b[0m\u001b[1;33m,\u001b[0m \u001b[0mdata\u001b[0m \u001b[1;33m=\u001b[0m \u001b[0mLatLonImg\u001b[0m\u001b[1;33m(\u001b[0m\u001b[0mresult\u001b[0m\u001b[1;33m)\u001b[0m\u001b[1;33m\u001b[0m\u001b[1;33m\u001b[0m\u001b[0m\n\u001b[0m\u001b[0;32m     56\u001b[0m \u001b[1;33m\u001b[0m\u001b[0m\n\u001b[0;32m     57\u001b[0m \u001b[1;31m# 1d to 2d array\u001b[0m\u001b[1;33m\u001b[0m\u001b[1;33m\u001b[0m\u001b[1;33m\u001b[0m\u001b[0m\n",
      "\u001b[1;32m~\\AppData\\Local\\Temp/ipykernel_20116/1664064559.py\u001b[0m in \u001b[0;36mLatLonImg\u001b[1;34m(img)\u001b[0m\n\u001b[0;32m     14\u001b[0m                                         scale=10);\n\u001b[0;32m     15\u001b[0m \u001b[1;33m\u001b[0m\u001b[0m\n\u001b[1;32m---> 16\u001b[1;33m     \u001b[0mdata\u001b[0m \u001b[1;33m=\u001b[0m \u001b[0mnp\u001b[0m\u001b[1;33m.\u001b[0m\u001b[0marray\u001b[0m\u001b[1;33m(\u001b[0m\u001b[1;33m(\u001b[0m\u001b[0mee\u001b[0m\u001b[1;33m.\u001b[0m\u001b[0mArray\u001b[0m\u001b[1;33m(\u001b[0m\u001b[0mimg\u001b[0m\u001b[1;33m.\u001b[0m\u001b[0mget\u001b[0m\u001b[1;33m(\u001b[0m\u001b[1;34m\"HV\"\u001b[0m\u001b[1;33m)\u001b[0m\u001b[1;33m)\u001b[0m\u001b[1;33m.\u001b[0m\u001b[0mgetInfo\u001b[0m\u001b[1;33m(\u001b[0m\u001b[1;33m)\u001b[0m\u001b[1;33m)\u001b[0m\u001b[1;33m)\u001b[0m\u001b[1;33m\u001b[0m\u001b[1;33m\u001b[0m\u001b[0m\n\u001b[0m\u001b[0;32m     17\u001b[0m     \u001b[0mlats\u001b[0m \u001b[1;33m=\u001b[0m \u001b[0mnp\u001b[0m\u001b[1;33m.\u001b[0m\u001b[0marray\u001b[0m\u001b[1;33m(\u001b[0m\u001b[1;33m(\u001b[0m\u001b[0mee\u001b[0m\u001b[1;33m.\u001b[0m\u001b[0mArray\u001b[0m\u001b[1;33m(\u001b[0m\u001b[0mimg\u001b[0m\u001b[1;33m.\u001b[0m\u001b[0mget\u001b[0m\u001b[1;33m(\u001b[0m\u001b[1;34m\"latitude\"\u001b[0m\u001b[1;33m)\u001b[0m\u001b[1;33m)\u001b[0m\u001b[1;33m.\u001b[0m\u001b[0mgetInfo\u001b[0m\u001b[1;33m(\u001b[0m\u001b[1;33m)\u001b[0m\u001b[1;33m)\u001b[0m\u001b[1;33m)\u001b[0m\u001b[1;33m\u001b[0m\u001b[1;33m\u001b[0m\u001b[0m\n\u001b[0;32m     18\u001b[0m     \u001b[0mlons\u001b[0m \u001b[1;33m=\u001b[0m \u001b[0mnp\u001b[0m\u001b[1;33m.\u001b[0m\u001b[0marray\u001b[0m\u001b[1;33m(\u001b[0m\u001b[1;33m(\u001b[0m\u001b[0mee\u001b[0m\u001b[1;33m.\u001b[0m\u001b[0mArray\u001b[0m\u001b[1;33m(\u001b[0m\u001b[0mimg\u001b[0m\u001b[1;33m.\u001b[0m\u001b[0mget\u001b[0m\u001b[1;33m(\u001b[0m\u001b[1;34m\"longitude\"\u001b[0m\u001b[1;33m)\u001b[0m\u001b[1;33m)\u001b[0m\u001b[1;33m.\u001b[0m\u001b[0mgetInfo\u001b[0m\u001b[1;33m(\u001b[0m\u001b[1;33m)\u001b[0m\u001b[1;33m)\u001b[0m\u001b[1;33m)\u001b[0m\u001b[1;33m\u001b[0m\u001b[1;33m\u001b[0m\u001b[0m\n",
      "\u001b[1;32m~\\anaconda3\\envs\\nanok\\lib\\site-packages\\ee\\computedobject.py\u001b[0m in \u001b[0;36mgetInfo\u001b[1;34m(self)\u001b[0m\n\u001b[0;32m     96\u001b[0m       \u001b[0mThe\u001b[0m \u001b[0mobject\u001b[0m \u001b[0mcan\u001b[0m \u001b[0mevaluate\u001b[0m \u001b[0mto\u001b[0m \u001b[0manything\u001b[0m\u001b[1;33m.\u001b[0m\u001b[1;33m\u001b[0m\u001b[1;33m\u001b[0m\u001b[0m\n\u001b[0;32m     97\u001b[0m     \"\"\"\n\u001b[1;32m---> 98\u001b[1;33m     \u001b[1;32mreturn\u001b[0m \u001b[0mdata\u001b[0m\u001b[1;33m.\u001b[0m\u001b[0mcomputeValue\u001b[0m\u001b[1;33m(\u001b[0m\u001b[0mself\u001b[0m\u001b[1;33m)\u001b[0m\u001b[1;33m\u001b[0m\u001b[1;33m\u001b[0m\u001b[0m\n\u001b[0m\u001b[0;32m     99\u001b[0m \u001b[1;33m\u001b[0m\u001b[0m\n\u001b[0;32m    100\u001b[0m   \u001b[1;32mdef\u001b[0m \u001b[0mencode\u001b[0m\u001b[1;33m(\u001b[0m\u001b[0mself\u001b[0m\u001b[1;33m,\u001b[0m \u001b[0mencoder\u001b[0m\u001b[1;33m)\u001b[0m\u001b[1;33m:\u001b[0m\u001b[1;33m\u001b[0m\u001b[1;33m\u001b[0m\u001b[0m\n",
      "\u001b[1;32m~\\anaconda3\\envs\\nanok\\lib\\site-packages\\ee\\data.py\u001b[0m in \u001b[0;36mcomputeValue\u001b[1;34m(obj)\u001b[0m\n\u001b[0;32m    674\u001b[0m           \u001b[0mbody\u001b[0m\u001b[1;33m=\u001b[0m\u001b[1;33m{\u001b[0m\u001b[1;34m'expression'\u001b[0m\u001b[1;33m:\u001b[0m \u001b[0mserializer\u001b[0m\u001b[1;33m.\u001b[0m\u001b[0mencode\u001b[0m\u001b[1;33m(\u001b[0m\u001b[0mobj\u001b[0m\u001b[1;33m,\u001b[0m \u001b[0mfor_cloud_api\u001b[0m\u001b[1;33m=\u001b[0m\u001b[1;32mTrue\u001b[0m\u001b[1;33m)\u001b[0m\u001b[1;33m}\u001b[0m\u001b[1;33m,\u001b[0m\u001b[1;33m\u001b[0m\u001b[1;33m\u001b[0m\u001b[0m\n\u001b[0;32m    675\u001b[0m           \u001b[0mproject\u001b[0m\u001b[1;33m=\u001b[0m\u001b[0m_get_projects_path\u001b[0m\u001b[1;33m(\u001b[0m\u001b[1;33m)\u001b[0m\u001b[1;33m,\u001b[0m\u001b[1;33m\u001b[0m\u001b[1;33m\u001b[0m\u001b[0m\n\u001b[1;32m--> 676\u001b[1;33m           prettyPrint=False))['result']\n\u001b[0m\u001b[0;32m    677\u001b[0m \u001b[1;33m\u001b[0m\u001b[0m\n\u001b[0;32m    678\u001b[0m \u001b[1;33m\u001b[0m\u001b[0m\n",
      "\u001b[1;32m~\\anaconda3\\envs\\nanok\\lib\\site-packages\\ee\\data.py\u001b[0m in \u001b[0;36m_execute_cloud_call\u001b[1;34m(call, num_retries)\u001b[0m\n\u001b[0;32m    334\u001b[0m     \u001b[1;32mreturn\u001b[0m \u001b[0mcall\u001b[0m\u001b[1;33m.\u001b[0m\u001b[0mexecute\u001b[0m\u001b[1;33m(\u001b[0m\u001b[0mnum_retries\u001b[0m\u001b[1;33m=\u001b[0m\u001b[0mnum_retries\u001b[0m\u001b[1;33m)\u001b[0m\u001b[1;33m\u001b[0m\u001b[1;33m\u001b[0m\u001b[0m\n\u001b[0;32m    335\u001b[0m   \u001b[1;32mexcept\u001b[0m \u001b[0mgoogleapiclient\u001b[0m\u001b[1;33m.\u001b[0m\u001b[0merrors\u001b[0m\u001b[1;33m.\u001b[0m\u001b[0mHttpError\u001b[0m \u001b[1;32mas\u001b[0m \u001b[0me\u001b[0m\u001b[1;33m:\u001b[0m\u001b[1;33m\u001b[0m\u001b[1;33m\u001b[0m\u001b[0m\n\u001b[1;32m--> 336\u001b[1;33m     \u001b[1;32mraise\u001b[0m \u001b[0m_translate_cloud_exception\u001b[0m\u001b[1;33m(\u001b[0m\u001b[0me\u001b[0m\u001b[1;33m)\u001b[0m\u001b[1;33m\u001b[0m\u001b[1;33m\u001b[0m\u001b[0m\n\u001b[0m\u001b[0;32m    337\u001b[0m \u001b[1;33m\u001b[0m\u001b[0m\n\u001b[0;32m    338\u001b[0m \u001b[1;33m\u001b[0m\u001b[0m\n",
      "\u001b[1;31mEEException\u001b[0m: Error in map(ID=null):\nImage.select: Pattern 'HV' did not match any bands."
     ]
    }
   ],
   "source": [
    "# perform any calculation on the image collection here\n",
    "def anyFunction(img):\n",
    "    #ndvi = ee.Image(img.normalizedDifference(['B8', 'B4'])).rename([\"ndvi\"])\n",
    "    ndvi = ee.Image(img).rename(['HV'])\n",
    "    return ndvi\n",
    " \n",
    "# export the latitude, longitude and array\n",
    "def LatLonImg(img):\n",
    "    img = img.addBands(ee.Image.pixelLonLat())\n",
    " \n",
    "    img = img.reduceRegion(reducer=ee.Reducer.toList(),\\\n",
    "                                        geometry=geometry,\\\n",
    "                                        maxPixels=1e13,\\\n",
    "                                        scale=10);\n",
    " \n",
    "    data = np.array((ee.Array(img.get(\"HV\")).getInfo()))\n",
    "    lats = np.array((ee.Array(img.get(\"latitude\")).getInfo()))\n",
    "    lons = np.array((ee.Array(img.get(\"longitude\")).getInfo()))\n",
    "    return lats, lons, data\n",
    " \n",
    "# covert the lat, lon and array into an image\n",
    "def toImage(lats,lons,data):\n",
    " \n",
    "    # get the unique coordinates\n",
    "    uniqueLats = np.unique(lats)\n",
    "    uniqueLons = np.unique(lons)\n",
    " \n",
    "    # get number of columns and rows from coordinates\n",
    "    ncols = len(uniqueLons)\n",
    "    nrows = len(uniqueLats)\n",
    " \n",
    "    # determine pixelsizes\n",
    "    ys = uniqueLats[1] - uniqueLats[0]\n",
    "    xs = uniqueLons[1] - uniqueLons[0]\n",
    " \n",
    "    # create an array with dimensions of image\n",
    "    arr = np.zeros([nrows, ncols], np.float32) #-9999\n",
    " \n",
    "    # fill the array with values\n",
    "    counter =0\n",
    "    for y in range(0,len(arr),1):\n",
    "        for x in range(0,len(arr[0]),1):\n",
    "            if lats[counter] == uniqueLats[y] and lons[counter] == uniqueLons[x] and counter < len(lats)-1:\n",
    "                counter+=1\n",
    "                arr[len(uniqueLats)-1-y,x] = data[counter] # we start from lower left corner\n",
    "    return arr\n",
    " \n",
    "# map over the image collection\n",
    "#myCollection  = ffa_db.map(anyFunction)\n",
    "myCollection = ffa_db\n",
    "# get the median\n",
    "result = ee.Image(myCollection.median())#.rename('HV')\n",
    "#result = myCollection.rename(['result'])\n",
    "# get the lon, lat and result as 1d array\n",
    "lat, lon, data = LatLonImg(result)\n",
    " \n",
    "# 1d to 2d array\n",
    "image  = toImage(lat,lon,data)\n",
    " \n",
    "# in case you want to plot the image\n",
    "import matplotlib.pyplot as plt\n",
    "plt.imshow(image)\n",
    "plt.show()"
   ]
  },
  {
   "cell_type": "code",
   "execution_count": null,
   "id": "e216826e",
   "metadata": {},
   "outputs": [],
   "source": []
  },
  {
   "cell_type": "code",
   "execution_count": null,
   "id": "8a05a303",
   "metadata": {},
   "outputs": [],
   "source": []
  },
  {
   "cell_type": "code",
   "execution_count": 16,
   "id": "85d316fc",
   "metadata": {
    "collapsed": true
   },
   "outputs": [
    {
     "data": {
      "text/plain": [
       "{'type': 'Image',\n",
       " 'bands': [{'id': 'HV',\n",
       "   'data_type': {'type': 'PixelType', 'precision': 'double'},\n",
       "   'dimensions': [36146, 30633],\n",
       "   'crs': 'EPSG:32628',\n",
       "   'crs_transform': [10, 0, 362998.0509339827, 0, -10, 9199999.148691932]}],\n",
       " 'id': 'COPERNICUS/S1_GRD/S1A_IW_GRDH_1SDH_20200212T083433_20200212T083502_031217_0396FB_A474',\n",
       " 'version': 1642601881628693,\n",
       " 'properties': {'GRD_Post_Processing_start': 1581506338130,\n",
       "  'sliceNumber': 1,\n",
       "  'GRD_Post_Processing_facility_name': 'Copernicus S1 Core Ground Segment - DPA',\n",
       "  'resolution': 'H',\n",
       "  'SLC_Processing_facility_name': 'Copernicus S1 Core Ground Segment - DPA',\n",
       "  'system:footprint': {'type': 'LinearRing',\n",
       "   'coordinates': [[-22.073165399097363, 81.05640036541716],\n",
       "    [-22.06822274456525, 81.0557995628234],\n",
       "    [-21.945683498280957, 81.04954693314895],\n",
       "    [-18.33832969365224, 80.84331232568057],\n",
       "    [-9.501027551166006, 80.12620742794365],\n",
       "    [-9.489362157490167, 80.12941013611022],\n",
       "    [-9.15583198001944, 80.22534179520623],\n",
       "    [-8.947074182349914, 80.28433516048582],\n",
       "    [-8.67011902277626, 80.36135901499645],\n",
       "    [-7.746125275723364, 80.60883425340185],\n",
       "    [-7.38242908138314, 80.7022604451291],\n",
       "    [-7.1293063735321605, 80.76603010920819],\n",
       "    [-6.841389772490215, 80.83734474701905],\n",
       "    [-6.585769862564789, 80.89961468438865],\n",
       "    [-5.166341724778698, 81.22973876392966],\n",
       "    [-3.4269726809407097, 81.59645249375937],\n",
       "    [-7.898466183133497, 82.02473185373596],\n",
       "    [-13.205795541363647, 82.35283142278988],\n",
       "    [-18.220728311212223, 82.58217729106408],\n",
       "    [-20.325266613464095, 81.82367598265996],\n",
       "    [-22.073165399097363, 81.05640036541716]]},\n",
       "  'familyName': 'SENTINEL-1',\n",
       "  'segmentStartTime': 1581496474070,\n",
       "  'missionDataTakeID': 235259,\n",
       "  'GRD_Post_Processing_facility_country': 'Germany',\n",
       "  'nssdcIdentifier': '2014-016A',\n",
       "  'productClass': 'S',\n",
       "  'phaseIdentifier': 1,\n",
       "  'orbitProperties_pass': 'DESCENDING',\n",
       "  'relativeOrbitNumber_stop': 170,\n",
       "  'system:time_end': 1581496473000,\n",
       "  'SLC_Processing_facility_site': 'DLR-Oberpfaffenhofen',\n",
       "  'GRD_Post_Processing_stop': 1581507006000,\n",
       "  'system:time_start': 1581496473000,\n",
       "  'instrumentMode': 'IW',\n",
       "  'totalSlices': 14,\n",
       "  'SLC_Processing_stop': 1581506761000,\n",
       "  'startTimeANX': 1593256,\n",
       "  'SLC_Processing_start': 1581506444000,\n",
       "  'resolution_meters': 10,\n",
       "  'instrumentSwath': 'IW',\n",
       "  'relativeOrbitNumber_start': 170,\n",
       "  'productTimelinessCategory': 'Fast-24h',\n",
       "  'SLC_Processing_software_name': 'Sentinel-1 IPF',\n",
       "  'sliceProductFlag': 'true',\n",
       "  'S1TBX_Calibration_vers': '7.0.2',\n",
       "  'orbitNumber_start': 31217,\n",
       "  'GRD_Post_Processing_facility_site': 'DLR-Oberpfaffenhofen',\n",
       "  'instrument': 'Synthetic Aperture Radar',\n",
       "  'GRD_Post_Processing_software_name': 'Sentinel-1 IPF',\n",
       "  'platform_number': 'A',\n",
       "  'S1TBX_SAR_Processing_vers': '7.0.2',\n",
       "  'productType': 'GRD',\n",
       "  'orbitProperties_ascendingNodeTime': 1581494880480,\n",
       "  'stopTimeANX': 1622288,\n",
       "  'productComposition': 'Slice',\n",
       "  'productClassDescription': 'SAR Standard L1 Product',\n",
       "  'GRD_Post_Processing_software_version': '003.20',\n",
       "  'SLC_Processing_software_version': '003.20',\n",
       "  'orbitNumber_stop': 31217,\n",
       "  'instrumentConfigurationID': 6,\n",
       "  'system:asset_size': 4502860906,\n",
       "  'cycleNumber': 192,\n",
       "  'system:index': 'S1A_IW_GRDH_1SDH_20200212T083433_20200212T083502_031217_0396FB_A474',\n",
       "  'SNAP_Graph_Processing_Framework_GPF_vers': '7.0.3',\n",
       "  'SLC_Processing_facility_org': 'ESA',\n",
       "  'SLC_Processing_facility_country': 'Germany',\n",
       "  'GRD_Post_Processing_facility_org': 'ESA',\n",
       "  'transmitterReceiverPolarisation': ['HH', 'HV']}}"
      ]
     },
     "execution_count": 16,
     "metadata": {},
     "output_type": "execute_result"
    }
   ],
   "source": [
    "Selection.getInfo()"
   ]
  },
  {
   "cell_type": "code",
   "execution_count": 17,
   "id": "5c0d9126",
   "metadata": {},
   "outputs": [],
   "source": [
    "HV = ee.Image(Selection)"
   ]
  },
  {
   "cell_type": "code",
   "execution_count": 18,
   "id": "1e085e0f",
   "metadata": {},
   "outputs": [],
   "source": [
    "band_arrs = HV.sampleRectangle(region=geometry)"
   ]
  },
  {
   "cell_type": "code",
   "execution_count": 19,
   "id": "9ea02d57",
   "metadata": {},
   "outputs": [],
   "source": [
    "band_arr_b4 = band_arrs.get('HV')"
   ]
  },
  {
   "cell_type": "code",
   "execution_count": 20,
   "id": "52a189aa",
   "metadata": {
    "collapsed": true
   },
   "outputs": [
    {
     "ename": "EEException",
     "evalue": "Image.sampleRectangle: Too many pixels in sample; must be <= 262144. Got 974142.",
     "output_type": "error",
     "traceback": [
      "\u001b[1;31m---------------------------------------------------------------------------\u001b[0m",
      "\u001b[1;31mHttpError\u001b[0m                                 Traceback (most recent call last)",
      "\u001b[1;32m~\\anaconda3\\envs\\nanok\\lib\\site-packages\\ee\\data.py\u001b[0m in \u001b[0;36m_execute_cloud_call\u001b[1;34m(call, num_retries)\u001b[0m\n\u001b[0;32m    333\u001b[0m   \u001b[1;32mtry\u001b[0m\u001b[1;33m:\u001b[0m\u001b[1;33m\u001b[0m\u001b[1;33m\u001b[0m\u001b[0m\n\u001b[1;32m--> 334\u001b[1;33m     \u001b[1;32mreturn\u001b[0m \u001b[0mcall\u001b[0m\u001b[1;33m.\u001b[0m\u001b[0mexecute\u001b[0m\u001b[1;33m(\u001b[0m\u001b[0mnum_retries\u001b[0m\u001b[1;33m=\u001b[0m\u001b[0mnum_retries\u001b[0m\u001b[1;33m)\u001b[0m\u001b[1;33m\u001b[0m\u001b[1;33m\u001b[0m\u001b[0m\n\u001b[0m\u001b[0;32m    335\u001b[0m   \u001b[1;32mexcept\u001b[0m \u001b[0mgoogleapiclient\u001b[0m\u001b[1;33m.\u001b[0m\u001b[0merrors\u001b[0m\u001b[1;33m.\u001b[0m\u001b[0mHttpError\u001b[0m \u001b[1;32mas\u001b[0m \u001b[0me\u001b[0m\u001b[1;33m:\u001b[0m\u001b[1;33m\u001b[0m\u001b[1;33m\u001b[0m\u001b[0m\n",
      "\u001b[1;32m~\\anaconda3\\envs\\nanok\\lib\\site-packages\\googleapiclient\\_helpers.py\u001b[0m in \u001b[0;36mpositional_wrapper\u001b[1;34m(*args, **kwargs)\u001b[0m\n\u001b[0;32m    133\u001b[0m                     \u001b[0mlogger\u001b[0m\u001b[1;33m.\u001b[0m\u001b[0mwarning\u001b[0m\u001b[1;33m(\u001b[0m\u001b[0mmessage\u001b[0m\u001b[1;33m)\u001b[0m\u001b[1;33m\u001b[0m\u001b[1;33m\u001b[0m\u001b[0m\n\u001b[1;32m--> 134\u001b[1;33m             \u001b[1;32mreturn\u001b[0m \u001b[0mwrapped\u001b[0m\u001b[1;33m(\u001b[0m\u001b[1;33m*\u001b[0m\u001b[0margs\u001b[0m\u001b[1;33m,\u001b[0m \u001b[1;33m**\u001b[0m\u001b[0mkwargs\u001b[0m\u001b[1;33m)\u001b[0m\u001b[1;33m\u001b[0m\u001b[1;33m\u001b[0m\u001b[0m\n\u001b[0m\u001b[0;32m    135\u001b[0m \u001b[1;33m\u001b[0m\u001b[0m\n",
      "\u001b[1;32m~\\anaconda3\\envs\\nanok\\lib\\site-packages\\googleapiclient\\http.py\u001b[0m in \u001b[0;36mexecute\u001b[1;34m(self, http, num_retries)\u001b[0m\n\u001b[0;32m    914\u001b[0m         \u001b[1;32mif\u001b[0m \u001b[0mresp\u001b[0m\u001b[1;33m.\u001b[0m\u001b[0mstatus\u001b[0m \u001b[1;33m>=\u001b[0m \u001b[1;36m300\u001b[0m\u001b[1;33m:\u001b[0m\u001b[1;33m\u001b[0m\u001b[1;33m\u001b[0m\u001b[0m\n\u001b[1;32m--> 915\u001b[1;33m             \u001b[1;32mraise\u001b[0m \u001b[0mHttpError\u001b[0m\u001b[1;33m(\u001b[0m\u001b[0mresp\u001b[0m\u001b[1;33m,\u001b[0m \u001b[0mcontent\u001b[0m\u001b[1;33m,\u001b[0m \u001b[0muri\u001b[0m\u001b[1;33m=\u001b[0m\u001b[0mself\u001b[0m\u001b[1;33m.\u001b[0m\u001b[0muri\u001b[0m\u001b[1;33m)\u001b[0m\u001b[1;33m\u001b[0m\u001b[1;33m\u001b[0m\u001b[0m\n\u001b[0m\u001b[0;32m    916\u001b[0m         \u001b[1;32mreturn\u001b[0m \u001b[0mself\u001b[0m\u001b[1;33m.\u001b[0m\u001b[0mpostproc\u001b[0m\u001b[1;33m(\u001b[0m\u001b[0mresp\u001b[0m\u001b[1;33m,\u001b[0m \u001b[0mcontent\u001b[0m\u001b[1;33m)\u001b[0m\u001b[1;33m\u001b[0m\u001b[1;33m\u001b[0m\u001b[0m\n",
      "\u001b[1;31mHttpError\u001b[0m: <HttpError 400 when requesting https://earthengine.googleapis.com/v1alpha/projects/earthengine-legacy/value:compute?prettyPrint=false&alt=json returned \"Image.sampleRectangle: Too many pixels in sample; must be <= 262144. Got 974142.\". Details: \"Image.sampleRectangle: Too many pixels in sample; must be <= 262144. Got 974142.\">",
      "\nDuring handling of the above exception, another exception occurred:\n",
      "\u001b[1;31mEEException\u001b[0m                               Traceback (most recent call last)",
      "\u001b[1;32m~\\AppData\\Local\\Temp/ipykernel_14100/1361695694.py\u001b[0m in \u001b[0;36m<module>\u001b[1;34m\u001b[0m\n\u001b[1;32m----> 1\u001b[1;33m \u001b[0mnp_arr_b4\u001b[0m \u001b[1;33m=\u001b[0m \u001b[0mnp\u001b[0m\u001b[1;33m.\u001b[0m\u001b[0marray\u001b[0m\u001b[1;33m(\u001b[0m\u001b[0mband_arr_b4\u001b[0m\u001b[1;33m.\u001b[0m\u001b[0mgetInfo\u001b[0m\u001b[1;33m(\u001b[0m\u001b[1;33m)\u001b[0m\u001b[1;33m)\u001b[0m\u001b[1;33m\u001b[0m\u001b[1;33m\u001b[0m\u001b[0m\n\u001b[0m",
      "\u001b[1;32m~\\anaconda3\\envs\\nanok\\lib\\site-packages\\ee\\computedobject.py\u001b[0m in \u001b[0;36mgetInfo\u001b[1;34m(self)\u001b[0m\n\u001b[0;32m     96\u001b[0m       \u001b[0mThe\u001b[0m \u001b[0mobject\u001b[0m \u001b[0mcan\u001b[0m \u001b[0mevaluate\u001b[0m \u001b[0mto\u001b[0m \u001b[0manything\u001b[0m\u001b[1;33m.\u001b[0m\u001b[1;33m\u001b[0m\u001b[1;33m\u001b[0m\u001b[0m\n\u001b[0;32m     97\u001b[0m     \"\"\"\n\u001b[1;32m---> 98\u001b[1;33m     \u001b[1;32mreturn\u001b[0m \u001b[0mdata\u001b[0m\u001b[1;33m.\u001b[0m\u001b[0mcomputeValue\u001b[0m\u001b[1;33m(\u001b[0m\u001b[0mself\u001b[0m\u001b[1;33m)\u001b[0m\u001b[1;33m\u001b[0m\u001b[1;33m\u001b[0m\u001b[0m\n\u001b[0m\u001b[0;32m     99\u001b[0m \u001b[1;33m\u001b[0m\u001b[0m\n\u001b[0;32m    100\u001b[0m   \u001b[1;32mdef\u001b[0m \u001b[0mencode\u001b[0m\u001b[1;33m(\u001b[0m\u001b[0mself\u001b[0m\u001b[1;33m,\u001b[0m \u001b[0mencoder\u001b[0m\u001b[1;33m)\u001b[0m\u001b[1;33m:\u001b[0m\u001b[1;33m\u001b[0m\u001b[1;33m\u001b[0m\u001b[0m\n",
      "\u001b[1;32m~\\anaconda3\\envs\\nanok\\lib\\site-packages\\ee\\data.py\u001b[0m in \u001b[0;36mcomputeValue\u001b[1;34m(obj)\u001b[0m\n\u001b[0;32m    674\u001b[0m           \u001b[0mbody\u001b[0m\u001b[1;33m=\u001b[0m\u001b[1;33m{\u001b[0m\u001b[1;34m'expression'\u001b[0m\u001b[1;33m:\u001b[0m \u001b[0mserializer\u001b[0m\u001b[1;33m.\u001b[0m\u001b[0mencode\u001b[0m\u001b[1;33m(\u001b[0m\u001b[0mobj\u001b[0m\u001b[1;33m,\u001b[0m \u001b[0mfor_cloud_api\u001b[0m\u001b[1;33m=\u001b[0m\u001b[1;32mTrue\u001b[0m\u001b[1;33m)\u001b[0m\u001b[1;33m}\u001b[0m\u001b[1;33m,\u001b[0m\u001b[1;33m\u001b[0m\u001b[1;33m\u001b[0m\u001b[0m\n\u001b[0;32m    675\u001b[0m           \u001b[0mproject\u001b[0m\u001b[1;33m=\u001b[0m\u001b[0m_get_projects_path\u001b[0m\u001b[1;33m(\u001b[0m\u001b[1;33m)\u001b[0m\u001b[1;33m,\u001b[0m\u001b[1;33m\u001b[0m\u001b[1;33m\u001b[0m\u001b[0m\n\u001b[1;32m--> 676\u001b[1;33m           prettyPrint=False))['result']\n\u001b[0m\u001b[0;32m    677\u001b[0m \u001b[1;33m\u001b[0m\u001b[0m\n\u001b[0;32m    678\u001b[0m \u001b[1;33m\u001b[0m\u001b[0m\n",
      "\u001b[1;32m~\\anaconda3\\envs\\nanok\\lib\\site-packages\\ee\\data.py\u001b[0m in \u001b[0;36m_execute_cloud_call\u001b[1;34m(call, num_retries)\u001b[0m\n\u001b[0;32m    334\u001b[0m     \u001b[1;32mreturn\u001b[0m \u001b[0mcall\u001b[0m\u001b[1;33m.\u001b[0m\u001b[0mexecute\u001b[0m\u001b[1;33m(\u001b[0m\u001b[0mnum_retries\u001b[0m\u001b[1;33m=\u001b[0m\u001b[0mnum_retries\u001b[0m\u001b[1;33m)\u001b[0m\u001b[1;33m\u001b[0m\u001b[1;33m\u001b[0m\u001b[0m\n\u001b[0;32m    335\u001b[0m   \u001b[1;32mexcept\u001b[0m \u001b[0mgoogleapiclient\u001b[0m\u001b[1;33m.\u001b[0m\u001b[0merrors\u001b[0m\u001b[1;33m.\u001b[0m\u001b[0mHttpError\u001b[0m \u001b[1;32mas\u001b[0m \u001b[0me\u001b[0m\u001b[1;33m:\u001b[0m\u001b[1;33m\u001b[0m\u001b[1;33m\u001b[0m\u001b[0m\n\u001b[1;32m--> 336\u001b[1;33m     \u001b[1;32mraise\u001b[0m \u001b[0m_translate_cloud_exception\u001b[0m\u001b[1;33m(\u001b[0m\u001b[0me\u001b[0m\u001b[1;33m)\u001b[0m\u001b[1;33m\u001b[0m\u001b[1;33m\u001b[0m\u001b[0m\n\u001b[0m\u001b[0;32m    337\u001b[0m \u001b[1;33m\u001b[0m\u001b[0m\n\u001b[0;32m    338\u001b[0m \u001b[1;33m\u001b[0m\u001b[0m\n",
      "\u001b[1;31mEEException\u001b[0m: Image.sampleRectangle: Too many pixels in sample; must be <= 262144. Got 974142."
     ]
    }
   ],
   "source": [
    "np_arr_b4 = np.array(band_arr_b4.getInfo())"
   ]
  },
  {
   "cell_type": "code",
   "execution_count": null,
   "id": "8710b22c",
   "metadata": {},
   "outputs": [],
   "source": [
    "band_arr_b4"
   ]
  },
  {
   "cell_type": "code",
   "execution_count": null,
   "id": "d19b4434",
   "metadata": {},
   "outputs": [],
   "source": [
    "# get the lat lon and add the ndvi\n",
    "latlon_list = ee.Image.pixelLonLat().addBands(HV)"
   ]
  },
  {
   "cell_type": "code",
   "execution_count": null,
   "id": "0f453eba",
   "metadata": {},
   "outputs": [],
   "source": [
    "# apply reducer to list\n",
    "latlon = latlon_list.reduceRegion(\n",
    "  reducer=ee.Reducer.toList(),\n",
    "  geometry=geometry,\n",
    "  maxPixels=1e8,\n",
    "  scale=20);"
   ]
  },
  {
   "cell_type": "code",
   "execution_count": null,
   "id": "55958a49",
   "metadata": {},
   "outputs": [],
   "source": [
    "#print(latlon)"
   ]
  },
  {
   "cell_type": "code",
   "execution_count": null,
   "id": "9bd34666",
   "metadata": {},
   "outputs": [],
   "source": [
    "latlon"
   ]
  },
  {
   "cell_type": "code",
   "execution_count": null,
   "id": "71f20592",
   "metadata": {},
   "outputs": [],
   "source": [
    "data = np.array((ee.Array(latlon.get('HV')).getInfo()))"
   ]
  },
  {
   "cell_type": "code",
   "execution_count": null,
   "id": "6bc4fc71",
   "metadata": {},
   "outputs": [],
   "source": [
    "# get the lat lon and add the ndvi\n",
    "latlon_list = ee.Image.pixelLonLat().addBands(VH)\n",
    " \n",
    "# apply reducer to list\n",
    "latlon = latlon_list.reduceRegion(\n",
    "  reducer=ee.Reducer.toList(),\n",
    "  geometry=geometry,\n",
    "  maxPixels=1e8,\n",
    "  scale=20);\n",
    " im1 = ee.Image(im_list.get(0)).select('VV', 'VH').clip(aoi)\n",
    " \n",
    "# get data into three different arrays\n",
    "data = np.array((ee.Array(latlon.get(VH)).getInfo()))\n",
    "lats = np.array((ee.Array(latlon.get(latitude)).getInfo()))\n",
    "lons = np.array((ee.Array(latlon.get(longitude)).getInfo()))\n",
    " \n",
    "# get the unique coordinates\n",
    "uniqueLats = np.unique(lats)\n",
    "uniqueLons = np.unique(lons)\n",
    " \n",
    "# get number of columns and rows from coordinates\n",
    "ncols = len(uniqueLons)    \n",
    "nrows = len(uniqueLats)"
   ]
  },
  {
   "cell_type": "code",
   "execution_count": null,
   "id": "ea421546",
   "metadata": {},
   "outputs": [],
   "source": [
    "print(latlon_list)"
   ]
  },
  {
   "cell_type": "code",
   "execution_count": null,
   "id": "3b1c84e3",
   "metadata": {},
   "outputs": [],
   "source": []
  },
  {
   "cell_type": "code",
   "execution_count": null,
   "id": "93b619b0",
   "metadata": {},
   "outputs": [],
   "source": []
  },
  {
   "cell_type": "code",
   "execution_count": null,
   "id": "f3cbc297",
   "metadata": {},
   "outputs": [],
   "source": [
    "array = Selection.toArray(0)"
   ]
  },
  {
   "cell_type": "code",
   "execution_count": null,
   "id": "1aa7bcfd",
   "metadata": {},
   "outputs": [],
   "source": [
    "array"
   ]
  },
  {
   "cell_type": "code",
   "execution_count": null,
   "id": "170e0fe0",
   "metadata": {},
   "outputs": [],
   "source": []
  }
 ],
 "metadata": {
  "kernelspec": {
   "display_name": "Python 3 (ipykernel)",
   "language": "python",
   "name": "python3"
  },
  "language_info": {
   "codemirror_mode": {
    "name": "ipython",
    "version": 3
   },
   "file_extension": ".py",
   "mimetype": "text/x-python",
   "name": "python",
   "nbconvert_exporter": "python",
   "pygments_lexer": "ipython3",
   "version": "3.7.9"
  }
 },
 "nbformat": 4,
 "nbformat_minor": 5
}
