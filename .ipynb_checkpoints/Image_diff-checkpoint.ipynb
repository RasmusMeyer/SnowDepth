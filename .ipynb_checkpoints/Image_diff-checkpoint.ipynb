{
 "cells": [
  {
   "cell_type": "code",
   "execution_count": 11,
   "id": "2b970b4f",
   "metadata": {},
   "outputs": [],
   "source": [
    "import rasterio\n",
    "import numpy as np\n",
    "from glob import glob\n",
    "import os\n",
    "#rst1 = VV\n",
    "rst1 = 'C://Users/Rasmus/Documents/Thesis/GEE_S1/Feb_VH_SM_1km.tif'\n",
    "rst2 = 'C://Users/Rasmus/Documents/Thesis/GEE_S1/Marts_VH_SM_1km.tif'\n",
    "outfile = 'C://Users/Rasmus/Documents/Thesis/GEE_S1/Feb-Marts_VH_DIFF_1km.tif'\n",
    "\n",
    "def img_diff(rst1, rst2, outfile):\n",
    "    with rasterio.open(rst1) as src1:\n",
    "        arr1 = src1.read(1)\n",
    "        meta = src1.meta\n",
    "    with rasterio.open(rst2) as src2:\n",
    "        arr2 = src2.read(1)\n",
    "        \n",
    "    array_out = arr1 - arr2\n",
    "    \n",
    "    meta.update(dtype=rasterio.float32)\n",
    "    \n",
    "    with rasterio.open(outfile, 'w', **meta) as dst:\n",
    "        dst.write(array_out.astype(rasterio.float32), 1)\n",
    "        \n",
    "        "
   ]
  },
  {
   "cell_type": "code",
   "execution_count": 12,
   "id": "ca4689b8",
   "metadata": {},
   "outputs": [],
   "source": [
    "img_diff(rst1, rst2, outfile)"
   ]
  },
  {
   "cell_type": "code",
   "execution_count": null,
   "id": "a4f181bc",
   "metadata": {},
   "outputs": [],
   "source": []
  }
 ],
 "metadata": {
  "kernelspec": {
   "display_name": "Python 3 (ipykernel)",
   "language": "python",
   "name": "python3"
  },
  "language_info": {
   "codemirror_mode": {
    "name": "ipython",
    "version": 3
   },
   "file_extension": ".py",
   "mimetype": "text/x-python",
   "name": "python",
   "nbconvert_exporter": "python",
   "pygments_lexer": "ipython3",
   "version": "3.7.9"
  }
 },
 "nbformat": 4,
 "nbformat_minor": 5
}
