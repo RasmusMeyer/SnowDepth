{
 "cells": [
  {
   "cell_type": "code",
   "execution_count": 1,
   "metadata": {},
   "outputs": [],
   "source": [
    "import contextlib\n",
    "\n",
    "import rasterio\n",
    "import rasterio.merge\n",
    "import os\n",
    "from rasterio.enums import Resampling \n",
    "\n",
    "def merge_my_files(inpaths, outpath):\n",
    "    with contextlib.ExitStack() as es:\n",
    "        datasets = [es.enter_context(rasterio.open(path)) for path in inpaths]\n",
    "        profile = datasets[0].profile.copy()\n",
    "        data, transform = rasterio.merge.merge(datasets, res=10, method='last')\n",
    "        profile.update({\n",
    "        'width': data.shape[-1],\n",
    "        'height': data.shape[-2],\n",
    "        'transform': transform\n",
    "        })\n",
    "        with rasterio.open(outpath, 'w', **profile) as dst:\n",
    "            dst.write(data)"
   ]
  },
  {
   "cell_type": "code",
   "execution_count": 2,
   "metadata": {},
   "outputs": [],
   "source": [
    "inpath='C://Users//rasmu//Documents//Thesis//DEM//eksport_552847_20220201//dtm10//data//'\n",
    "outpath='C://Users/Rasmu/Documents/Thesis/DEM/mergedDEM10m_Hardanger.tif'"
   ]
  },
  {
   "cell_type": "code",
   "execution_count": 3,
   "metadata": {},
   "outputs": [],
   "source": [
    "lit = []\n",
    "for file in os.listdir(inpath):\n",
    "    if file.endswith('.tif'):\n",
    "        lit.append(inpath+file)\n",
    "    "
   ]
  },
  {
   "cell_type": "code",
   "execution_count": 4,
   "metadata": {},
   "outputs": [
    {
     "data": {
      "text/plain": [
       "['C://Users//rasmu//Documents//Thesis//DEM//eksport_552847_20220201//dtm10//data//dtm10_6600_1_10m_z33.tif',\n",
       " 'C://Users//rasmu//Documents//Thesis//DEM//eksport_552847_20220201//dtm10//data//dtm10_6600_2_10m_z33.tif',\n",
       " 'C://Users//rasmu//Documents//Thesis//DEM//eksport_552847_20220201//dtm10//data//dtm10_6600_3_10m_z33.tif',\n",
       " 'C://Users//rasmu//Documents//Thesis//DEM//eksport_552847_20220201//dtm10//data//dtm10_6600_4_10m_z33.tif',\n",
       " 'C://Users//rasmu//Documents//Thesis//DEM//eksport_552847_20220201//dtm10//data//dtm10_6601_1_10m_z33.tif',\n",
       " 'C://Users//rasmu//Documents//Thesis//DEM//eksport_552847_20220201//dtm10//data//dtm10_6601_2_10m_z33.tif',\n",
       " 'C://Users//rasmu//Documents//Thesis//DEM//eksport_552847_20220201//dtm10//data//dtm10_6601_3_10m_z33.tif',\n",
       " 'C://Users//rasmu//Documents//Thesis//DEM//eksport_552847_20220201//dtm10//data//dtm10_6601_4_10m_z33.tif',\n",
       " 'C://Users//rasmu//Documents//Thesis//DEM//eksport_552847_20220201//dtm10//data//dtm10_6602_3_10m_z33.tif',\n",
       " 'C://Users//rasmu//Documents//Thesis//DEM//eksport_552847_20220201//dtm10//data//dtm10_6602_4_10m_z33.tif',\n",
       " 'C://Users//rasmu//Documents//Thesis//DEM//eksport_552847_20220201//dtm10//data//dtm10_66m1_1_10m_z33.tif',\n",
       " 'C://Users//rasmu//Documents//Thesis//DEM//eksport_552847_20220201//dtm10//data//dtm10_66m1_2_10m_z33.tif',\n",
       " 'C://Users//rasmu//Documents//Thesis//DEM//eksport_552847_20220201//dtm10//data//dtm10_6700_1_10m_z33.tif',\n",
       " 'C://Users//rasmu//Documents//Thesis//DEM//eksport_552847_20220201//dtm10//data//dtm10_6700_2_10m_z33.tif',\n",
       " 'C://Users//rasmu//Documents//Thesis//DEM//eksport_552847_20220201//dtm10//data//dtm10_6700_3_10m_z33.tif',\n",
       " 'C://Users//rasmu//Documents//Thesis//DEM//eksport_552847_20220201//dtm10//data//dtm10_6700_4_10m_z33.tif',\n",
       " 'C://Users//rasmu//Documents//Thesis//DEM//eksport_552847_20220201//dtm10//data//dtm10_6701_1_10m_z33.tif',\n",
       " 'C://Users//rasmu//Documents//Thesis//DEM//eksport_552847_20220201//dtm10//data//dtm10_6701_2_10m_z33.tif',\n",
       " 'C://Users//rasmu//Documents//Thesis//DEM//eksport_552847_20220201//dtm10//data//dtm10_6701_3_10m_z33.tif',\n",
       " 'C://Users//rasmu//Documents//Thesis//DEM//eksport_552847_20220201//dtm10//data//dtm10_6701_4_10m_z33.tif',\n",
       " 'C://Users//rasmu//Documents//Thesis//DEM//eksport_552847_20220201//dtm10//data//dtm10_6702_3_10m_z33.tif',\n",
       " 'C://Users//rasmu//Documents//Thesis//DEM//eksport_552847_20220201//dtm10//data//dtm10_6702_4_10m_z33.tif',\n",
       " 'C://Users//rasmu//Documents//Thesis//DEM//eksport_552847_20220201//dtm10//data//dtm10_67m1_1_10m_z33.tif',\n",
       " 'C://Users//rasmu//Documents//Thesis//DEM//eksport_552847_20220201//dtm10//data//dtm10_67m1_2_10m_z33.tif']"
      ]
     },
     "execution_count": 4,
     "metadata": {},
     "output_type": "execute_result"
    }
   ],
   "source": [
    "lit"
   ]
  },
  {
   "cell_type": "code",
   "execution_count": 5,
   "metadata": {},
   "outputs": [],
   "source": [
    "merge_my_files(lit,outpath)"
   ]
  },
  {
   "cell_type": "code",
   "execution_count": null,
   "metadata": {},
   "outputs": [],
   "source": [
    "########"
   ]
  },
  {
   "cell_type": "code",
   "execution_count": null,
   "metadata": {},
   "outputs": [],
   "source": []
  }
 ],
 "metadata": {
  "kernelspec": {
   "display_name": "Python 3 (ipykernel)",
   "language": "python",
   "name": "python3"
  },
  "language_info": {
   "codemirror_mode": {
    "name": "ipython",
    "version": 3
   },
   "file_extension": ".py",
   "mimetype": "text/x-python",
   "name": "python",
   "nbconvert_exporter": "python",
   "pygments_lexer": "ipython3",
   "version": "3.7.9"
  }
 },
 "nbformat": 4,
 "nbformat_minor": 4
}
