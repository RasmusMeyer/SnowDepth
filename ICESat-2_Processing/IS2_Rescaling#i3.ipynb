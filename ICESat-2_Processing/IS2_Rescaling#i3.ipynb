{
 "cells": [
  {
   "cell_type": "code",
   "execution_count": 5,
   "id": "58f37656",
   "metadata": {},
   "outputs": [],
   "source": [
    "import warnings\n",
    "warnings.filterwarnings('ignore')\n",
    "import numpy as np\n",
    "import pandas as pd\n",
    "import datetime as dt\n",
    "import matplotlib.pyplot as plt\n",
    "import h5py  \n",
    "#import readers as rd\n",
    "import os\n",
    "import fiona\n",
    "import geopandas\n",
    "import time\n",
    "from sklearn.neighbors import KernelDensity\n",
    "import scipy\n",
    "from astropy.time import Time\n",
    "import geopandas as gpd"
   ]
  },
  {
   "cell_type": "code",
   "execution_count": 6,
   "id": "a2953289",
   "metadata": {},
   "outputs": [],
   "source": [
    "def Rescale(path, outdir):\n",
    "    for file in os.listdir(path):\n",
    "        if file.endswith('shp'):\n",
    "\n",
    "            filename = file[3:7]\n",
    "            points = os.path.join(path,file)\n",
    "            pts = gpd.read_file(points)\n",
    "            \n",
    "            start = list(range(int(pts.AT_dist[0]), (len(pts)-50)))\n",
    "            mid = list(range(int(pts.AT_dist[0]+25), (len(pts)-25)))\n",
    "            stop = list(range((int(pts.AT_dist[0])+50), len(pts)))\n",
    "            \n",
    "            i = 0\n",
    "            AT_dist_list =[]\n",
    "            ESD_list = []\n",
    "            geometry_list = []\n",
    "            DEM_list = []\n",
    "            ESD_std_list = []\n",
    "            \n",
    "            for i in range(len(start)):\n",
    "\n",
    "                ATdist = (pts.AT_dist[start[i]:stop[i]]).median()\n",
    "                ESD = (pts.SD[start[i]:stop[i]]).mean()\n",
    "                geometry = (pts.geometry[mid[i]])\n",
    "                dem = (pts.DEM[start[i]:stop[i]]).median()\n",
    "                ESD_std = (pts.SD[start[i]:stop[i]]).std()\n",
    "\n",
    "                AT_dist_list.append(ATdist)\n",
    "                ESD_list.append(ESD)\n",
    "                geometry_list.append(geometry)\n",
    "                DEM_list.append(dem)\n",
    "                ESD_std_list.append(ESD_std)\n",
    "                \n",
    "            gdf = gpd.GeoDataFrame(list(zip(AT_dist_list, ESD_list, geometry_list, ESD_std_list)),\n",
    "                               columns =['AT_dist', 'ESD', 'geometry', 'ESD_std'])\n",
    "                \n",
    "            gdf = gdf[gdf['ESD_std'] < 4]\n",
    "            gdf = gdf.set_crs('EPSG:25833')\n",
    "                \n",
    "            gdf.to_file(outdir+'SD_Rescaled2_'+filename+'.shp')\n",
    "                \n",
    "            print('processing completed for beam: ', filename, ' Plots below:')\n",
    "                \n",
    "            plt.plot(AT_dist_list, ESD_list, 'o', color='black');\n",
    "            plt.plot(AT_dist_list, DEM_list, 'o', color='black');"
   ]
  },
  {
   "cell_type": "code",
   "execution_count": 7,
   "id": "615ad16c",
   "metadata": {},
   "outputs": [],
   "source": [
    "path = 'C:/Users/Rasmu/Documents/Thesis/Snow_Depth_2/'\n",
    "outdir = 'C:/Users/Rasmu/Documents/Thesis/SD_Rescaled/'"
   ]
  },
  {
   "cell_type": "code",
   "execution_count": 8,
   "id": "7bd191da",
   "metadata": {},
   "outputs": [
    {
     "name": "stdout",
     "output_type": "stream",
     "text": [
      "processing completed for beam:  gt1l  Plots below:\n",
      "processing completed for beam:  gt1r  Plots below:\n",
      "processing completed for beam:  gt2l  Plots below:\n",
      "processing completed for beam:  gt2r  Plots below:\n",
      "processing completed for beam:  gt3l  Plots below:\n",
      "processing completed for beam:  gt3r  Plots below:\n"
     ]
    },
    {
     "data": {
      "image/png": "[encoded data removed]",
      "text/plain": [
       "<Figure size 432x288 with 1 Axes>"
      ]
     },
     "metadata": {
      "needs_background": "light"
     },
     "output_type": "display_data"
    }
   ],
   "source": [
    "Rescale(path, outdir)"
   ]
  },
  {
   "cell_type": "code",
   "execution_count": null,
   "id": "684ca6ff",
   "metadata": {},
   "outputs": [],
   "source": []
  },
  {
   "cell_type": "code",
   "execution_count": null,
   "id": "61abdd42",
   "metadata": {},
   "outputs": [],
   "source": []
  }
 ],
 "metadata": {
  "kernelspec": {
   "display_name": "Python 3 (ipykernel)",
   "language": "python",
   "name": "python3"
  },
  "language_info": {
   "codemirror_mode": {
    "name": "ipython",
    "version": 3
   },
   "file_extension": ".py",
   "mimetype": "text/x-python",
   "name": "python",
   "nbconvert_exporter": "python",
   "pygments_lexer": "ipython3",
   "version": "3.7.9"
  }
 },
 "nbformat": 4,
 "nbformat_minor": 5
}
