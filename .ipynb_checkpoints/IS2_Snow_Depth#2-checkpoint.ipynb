{
 "cells": [
  {
   "cell_type": "code",
   "execution_count": null,
   "metadata": {},
   "outputs": [],
   "source": [
    "import rasterio\n",
    "import geopandas as gpd\n",
    "import pyproj\n",
    "import os\n",
    "#import gdal"
   ]
  },
  {
   "cell_type": "code",
   "execution_count": null,
   "metadata": {},
   "outputs": [],
   "source": [
    "def snow_depth(path, dem):\n",
    "    for file in os.listdir(path)\n",
    "        "
   ]
  },
  {
   "cell_type": "code",
   "execution_count": null,
   "metadata": {},
   "outputs": [],
   "source": [
    "DEM = 'C:/Users/Rasmus/Documents/Thesis/ATL03/'\n",
    "icesat_points = 'C:/Users/Rasmus/Documents/Thesis/Shapefiles/gt1l.shp'"
   ]
  },
  {
   "cell_type": "code",
   "execution_count": null,
   "metadata": {},
   "outputs": [],
   "source": [
    "pts = gpd.read_file(icesat_points)"
   ]
  },
  {
   "cell_type": "code",
   "execution_count": null,
   "metadata": {},
   "outputs": [],
   "source": [
    "pts['lon'] = pts.geometry.x\n",
    "pts['lat'] = pts.geometry.y\n",
    "\n",
    "coords = [(x,y) for x, y in zip(pts.lon, pts.lat)]"
   ]
  },
  {
   "cell_type": "code",
   "execution_count": null,
   "metadata": {},
   "outputs": [],
   "source": [
    "DEM = 'C:/Users/Rasmus/Documents/Thesis/DEM/mergedDEM10m.tif'\n",
    "src = rasterio.open(DEM)\n",
    "\n",
    "\n",
    "\n",
    "# Sample the raster at every point location and store values in DataFrame\n",
    "pts['DEM'] = [x[0] for x in src.sample(coords)]\n",
    "#pts['RasterValue_blue'] = [x[0] for x in src_blue.sample(coords)]\n",
    "#pts['RasterValue_green'] = [x[0] for x in src_green.sample(coords)]\n",
    "#pts['RasterValue_red'] = [x[0] for x in src_red.sample(coords)]\n",
    "#pts['RasterValue_nir'] = [x[0] for x in src_nir.sample(coords)]"
   ]
  },
  {
   "cell_type": "code",
   "execution_count": null,
   "metadata": {},
   "outputs": [],
   "source": [
    "pts"
   ]
  },
  {
   "cell_type": "code",
   "execution_count": null,
   "metadata": {},
   "outputs": [],
   "source": [
    "a = pts.Est_Surf.mean()"
   ]
  },
  {
   "cell_type": "code",
   "execution_count": null,
   "metadata": {},
   "outputs": [],
   "source": [
    "b = pts.DEM.mean()"
   ]
  },
  {
   "cell_type": "code",
   "execution_count": null,
   "metadata": {},
   "outputs": [],
   "source": [
    "pts['SD_est'] = round(pts.Est_Surf - pts.DEM,2)"
   ]
  },
  {
   "cell_type": "code",
   "execution_count": null,
   "metadata": {},
   "outputs": [],
   "source": [
    "pts"
   ]
  },
  {
   "cell_type": "code",
   "execution_count": null,
   "metadata": {},
   "outputs": [],
   "source": [
    "pts.SD_est.mean()"
   ]
  },
  {
   "cell_type": "code",
   "execution_count": null,
   "metadata": {},
   "outputs": [],
   "source": [
    "##REMOVES SD ABOVE 10\n",
    "pts = pts[pts['SD_est'] < 10]\n",
    "pts = pts[pts['SD_est'] > -10]"
   ]
  },
  {
   "cell_type": "code",
   "execution_count": null,
   "metadata": {},
   "outputs": [],
   "source": [
    "pts.to_file('C:/Users/Rasmus/Documents/Thesis/ESD/SD_gt1l_20200314.shp')"
   ]
  },
  {
   "cell_type": "code",
   "execution_count": null,
   "metadata": {},
   "outputs": [],
   "source": [
    "a-b"
   ]
  },
  {
   "cell_type": "code",
   "execution_count": null,
   "metadata": {},
   "outputs": [],
   "source": [
    "##REMOVES SD ABOVE 10\n",
    "pts = pts[pts['SD_est'] < 10]"
   ]
  },
  {
   "cell_type": "code",
   "execution_count": null,
   "metadata": {},
   "outputs": [],
   "source": [
    "import matplotlib.pyplot as plt\n",
    "\n",
    "plt.plot(pts.AT_dist, pts.SD_est, 'o', color='black');"
   ]
  },
  {
   "cell_type": "code",
   "execution_count": null,
   "metadata": {},
   "outputs": [],
   "source": [
    "#SNOW\n",
    "\n",
    "#Resulution = 12 km\n",
    "#Target value = 81 cm\n",
    "#gt1r measurement = 94 cm\n",
    "#gt2r measurement = 97 cm\n",
    "#gt3r measurement = 83 cm\n",
    "\n",
    "\n",
    "#gt3l measurement = 81 cm\n",
    "#gt2l measurement = 88 cm\n",
    "#gt1l measurement = 94 cm\n",
    "\n",
    "#AVG = 89,5 cm\n",
    "\n",
    "#DIFF = 8,5 cm\n",
    "\n",
    "\n",
    "\n"
   ]
  },
  {
   "cell_type": "code",
   "execution_count": null,
   "metadata": {},
   "outputs": [],
   "source": [
    "#NO SNOW\n",
    "\n",
    "#Resulution = 12 km\n",
    "#Target value = 0 cm\n",
    "#gt1r measurement = 0\n",
    "#gt2r measurement = 15\n",
    "#gt3r measurement = 17\n",
    "\n",
    "\n",
    "#gt3l measurement = 12\n",
    "#gt2l measurement = 16\n",
    "#gt1l measurement = 1\n",
    "\n",
    "#DIFF = 10,1 cm\n"
   ]
  },
  {
   "cell_type": "code",
   "execution_count": null,
   "metadata": {},
   "outputs": [],
   "source": []
  },
  {
   "cell_type": "code",
   "execution_count": null,
   "metadata": {},
   "outputs": [],
   "source": []
  }
 ],
 "metadata": {
  "kernelspec": {
   "display_name": "Python 3 (ipykernel)",
   "language": "python",
   "name": "python3"
  },
  "language_info": {
   "codemirror_mode": {
    "name": "ipython",
    "version": 3
   },
   "file_extension": ".py",
   "mimetype": "text/x-python",
   "name": "python",
   "nbconvert_exporter": "python",
   "pygments_lexer": "ipython3",
   "version": "3.9.7"
  }
 },
 "nbformat": 4,
 "nbformat_minor": 4
}
