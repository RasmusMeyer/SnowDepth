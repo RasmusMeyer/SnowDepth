{
 "cells": [
  {
   "cell_type": "code",
   "execution_count": null,
   "id": "58f37656",
   "metadata": {},
   "outputs": [],
   "source": [
    "import warnings\n",
    "warnings.filterwarnings('ignore')\n",
    "import numpy as np\n",
    "import pandas as pd\n",
    "import datetime as dt\n",
    "import matplotlib.pyplot as plt\n",
    "import h5py  \n",
    "#import readers as rd\n",
    "import os\n",
    "import fiona\n",
    "import geopandas\n",
    "import time\n",
    "from sklearn.neighbors import KernelDensity\n",
    "import scipy\n",
    "from astropy.time import Time\n",
    "import geopandas as gpd"
   ]
  },
  {
   "cell_type": "code",
   "execution_count": null,
   "id": "e0d904c2",
   "metadata": {},
   "outputs": [],
   "source": [
    "def Rescale(path, outdir):\n",
    "    for file in os.listdir(path):\n",
    "        if file.endswith('shp'):\n",
    "\n",
    "            filename = file[0:4]\n",
    "            points = os.path.join(path,file)\n",
    "            pts = gpd.read_file(points)\n",
    "            \n",
    "            "
   ]
  },
  {
   "cell_type": "code",
   "execution_count": null,
   "id": "04d3be67",
   "metadata": {},
   "outputs": [],
   "source": [
    "icesat_points = 'C:/Users/Rasmus/Documents/Thesis/ESD/SD_gt2l_20200314.shp'"
   ]
  },
  {
   "cell_type": "code",
   "execution_count": null,
   "id": "4d932097",
   "metadata": {},
   "outputs": [],
   "source": [
    "pts = gpd.read_file(icesat_points)"
   ]
  },
  {
   "cell_type": "code",
   "execution_count": null,
   "id": "70c4328d",
   "metadata": {},
   "outputs": [],
   "source": [
    "pts"
   ]
  },
  {
   "cell_type": "code",
   "execution_count": null,
   "id": "666db3f4",
   "metadata": {},
   "outputs": [],
   "source": [
    "geoid = np.array(pts.geoid)"
   ]
  },
  {
   "cell_type": "code",
   "execution_count": null,
   "id": "a5663ce6",
   "metadata": {},
   "outputs": [],
   "source": [
    "start = list(range(int(pts.AT_dist[0]), (len(pts)-1000)))\n",
    "mid = list(range(int(pts.AT_dist[0]+500), (len(pts)-500)))\n",
    "stop = list(range((int(pts.AT_dist[0])+1000), len(pts)))\n"
   ]
  },
  {
   "cell_type": "code",
   "execution_count": null,
   "id": "f1cd46eb",
   "metadata": {},
   "outputs": [],
   "source": [
    "len(mid)"
   ]
  },
  {
   "cell_type": "code",
   "execution_count": null,
   "id": "a9d747d0",
   "metadata": {},
   "outputs": [],
   "source": [
    "len(start)"
   ]
  },
  {
   "cell_type": "code",
   "execution_count": null,
   "id": "4e747ba4",
   "metadata": {},
   "outputs": [],
   "source": [
    "i = 0\n",
    "AT_dist_list =[]\n",
    "ESD_list = []\n",
    "geometry_list = []\n",
    "DEM_list = []\n",
    "ESD_std_list = []\n",
    "for i in range(len(start)):\n",
    "\n",
    "    ATdist = (pts.AT_dist[start[i]:stop[i]]).median()\n",
    "    ESD = (pts.SD_est[start[i]:stop[i]]).mean()\n",
    "    geometry = (pts.geometry[mid[i]])\n",
    "    dem = (pts.DEM[start[i]:stop[i]]).median()\n",
    "    ESD_std = (pts.SD_est[start[i]:stop[i]]).std()\n",
    "    \n",
    "    AT_dist_list.append(ATdist)\n",
    "    ESD_list.append(ESD)\n",
    "    geometry_list.append(geometry)\n",
    "    DEM_list.append(dem)\n",
    "    ESD_std_list.append(ESD_std)\n",
    "\n",
    "\n",
    "    \n",
    "    \n",
    "    \n",
    "    \n"
   ]
  },
  {
   "cell_type": "code",
   "execution_count": null,
   "id": "1f0405a2",
   "metadata": {},
   "outputs": [],
   "source": [
    "ESD_std_list"
   ]
  },
  {
   "cell_type": "code",
   "execution_count": null,
   "id": "890cf5b2",
   "metadata": {},
   "outputs": [],
   "source": [
    "gdf = gpd.GeoDataFrame(list(zip(AT_dist_list, ESD_list, geometry_list, ESD_std_list)),\n",
    "               columns =['AT_dist', 'ESD', 'geometry', 'ESD_std'])"
   ]
  },
  {
   "cell_type": "code",
   "execution_count": null,
   "id": "94dce389",
   "metadata": {},
   "outputs": [],
   "source": [
    "gdf"
   ]
  },
  {
   "cell_type": "code",
   "execution_count": null,
   "id": "28445245",
   "metadata": {},
   "outputs": [],
   "source": [
    "#gdf_C = gdf[gdf['ESD'] != 0]"
   ]
  },
  {
   "cell_type": "code",
   "execution_count": null,
   "id": "995532d3",
   "metadata": {
    "scrolled": true
   },
   "outputs": [],
   "source": [
    "gdf\n",
    "gdf = gdf[gdf['ESD_std'] < 4]\n",
    "gdf = gdf.set_crs('EPSG:25833')\n",
    "gdf.to_file('C:/Users/Rasmus/Documents/Thesis/ESD/SD_gt2l_20200314_clean.shp')"
   ]
  },
  {
   "cell_type": "code",
   "execution_count": null,
   "id": "2236d38c",
   "metadata": {},
   "outputs": [],
   "source": [
    "import matplotlib.pyplot as plt\n",
    "\n",
    "plt.plot(AT_dist_list, ESD_list, 'o', color='black');"
   ]
  },
  {
   "cell_type": "code",
   "execution_count": null,
   "id": "740b9513",
   "metadata": {},
   "outputs": [],
   "source": [
    "import matplotlib.pyplot as plt\n",
    "\n",
    "plt.plot(AT_dist_list, DEM_list, 'o', color='black');"
   ]
  },
  {
   "cell_type": "code",
   "execution_count": null,
   "id": "0a658005",
   "metadata": {},
   "outputs": [],
   "source": [
    "plt.plot(AT_dist_list, ESD_std_list, 'o', color='black');"
   ]
  },
  {
   "cell_type": "code",
   "execution_count": null,
   "id": "986c41eb",
   "metadata": {},
   "outputs": [],
   "source": [
    "plt.plot(gdf.AT_dist, gdf.ESD, 'o', color='black');"
   ]
  },
  {
   "cell_type": "code",
   "execution_count": null,
   "id": "7bd191da",
   "metadata": {},
   "outputs": [],
   "source": []
  },
  {
   "cell_type": "code",
   "execution_count": null,
   "id": "684ca6ff",
   "metadata": {},
   "outputs": [],
   "source": []
  },
  {
   "cell_type": "code",
   "execution_count": null,
   "id": "61abdd42",
   "metadata": {},
   "outputs": [],
   "source": []
  }
 ],
 "metadata": {
  "kernelspec": {
   "display_name": "Python 3 (ipykernel)",
   "language": "python",
   "name": "python3"
  },
  "language_info": {
   "codemirror_mode": {
    "name": "ipython",
    "version": 3
   },
   "file_extension": ".py",
   "mimetype": "text/x-python",
   "name": "python",
   "nbconvert_exporter": "python",
   "pygments_lexer": "ipython3",
   "version": "3.9.7"
  }
 },
 "nbformat": 4,
 "nbformat_minor": 5
}
