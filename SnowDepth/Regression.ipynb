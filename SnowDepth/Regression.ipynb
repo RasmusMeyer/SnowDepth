{
 "cells": [
  {
   "cell_type": "code",
<<<<<<< HEAD
   "execution_count": null,
=======
   "execution_count": 1,
>>>>>>> 24047dc8f03faab75a179ca9ef68ef81b105103b
   "id": "541bc2c3",
   "metadata": {},
   "outputs": [],
   "source": [
    "import rasterio\n",
    "import geopandas as gpd\n",
    "import pyproj\n",
    "import os\n",
    "import matplotlib.pyplot as plt\n",
    "import pandas as pd\n",
    "import glob\n",
    "import lightgbm as lgbm\n",
    "from sklearn.metrics import r2_score\n",
    "from sklearn.ensemble import RandomForestRegressor\n",
    "from numpy import *\n",
    "import numpy as np\n",
    "from sklearn.model_selection import train_test_split"
   ]
  },
  {
   "cell_type": "code",
<<<<<<< HEAD
   "execution_count": null,
   "id": "8ab402d3",
   "metadata": {},
   "outputs": [],
=======
   "execution_count": 2,
   "id": "8ab402d3",
   "metadata": {},
   "outputs": [
    {
     "name": "stdout",
     "output_type": "stream",
     "text": [
      "Training Data ['C:/Users/Rasmu/Documents/Thesis/Hardangervidda/Dates\\\\20200204\\\\Sampled\\\\SD.shp', 'C:/Users/Rasmu/Documents/Thesis/Hardangervidda/Dates\\\\20200206\\\\Sampled\\\\SD.shp', 'C:/Users/Rasmu/Documents/Thesis/Hardangervidda/Dates\\\\20200306\\\\Sampled\\\\SD.shp', 'C:/Users/Rasmu/Documents/Thesis/Hardangervidda/Dates\\\\20200314\\\\Sampled\\\\SD.shp', 'C:/Users/Rasmu/Documents/Thesis/Hardangervidda/Dates\\\\20200406\\\\Sampled\\\\SD.shp', 'C:/Users/Rasmu/Documents/Thesis/Hardangervidda/Dates\\\\20200410\\\\Sampled\\\\SD.shp', 'C:/Users/Rasmu/Documents/Thesis/Hardangervidda/Dates\\\\20210203\\\\Sampled\\\\SD.shp', 'C:/Users/Rasmu/Documents/Thesis/Hardangervidda/Dates\\\\20210205\\\\Sampled\\\\SD.shp', 'C:/Users/Rasmu/Documents/Thesis/Hardangervidda/Dates\\\\20210207\\\\Sampled\\\\SD.shp', 'C:/Users/Rasmu/Documents/Thesis/Hardangervidda/Dates\\\\20210209\\\\Sampled\\\\SD.shp', 'C:/Users/Rasmu/Documents/Thesis/Hardangervidda/Dates\\\\20210211\\\\Sampled\\\\SD.shp', 'C:/Users/Rasmu/Documents/Thesis/Hardangervidda/Dates\\\\20210304\\\\Sampled\\\\SD.shp', 'C:/Users/Rasmu/Documents/Thesis/Hardangervidda/Dates\\\\20210308\\\\Sampled\\\\SD.shp']\n"
     ]
    }
   ],
>>>>>>> 24047dc8f03faab75a179ca9ef68ef81b105103b
   "source": [
    "def concat(AOI_path, outdir, test):\n",
    "    \n",
    "    #list of Training data samples\n",
    "    if test is False:\n",
    "        lit = glob.glob(AOI_path + '*//Sampled//SD.shp')\n",
    "    else:\n",
    "        lit = glob.glob(AOI_path + '20200306//Sampled//SD.shp')\n",
    "        lit.append('C:/Users/mathi/Thesis/Hardangervidda/Dates/20200314//Sampled//SD.shp')\n",
    "    print('Training Data', lit)\n",
    "    i = 0\n",
    "    for item in lit:\n",
    "        pts = gpd.read_file(item)\n",
    "        if i != 0:\n",
    "            df_train = pd.concat([df_train,pts])\n",
    "        else: \n",
    "            df_train = pts\n",
    "            i=i+1   \n",
    "    df_train.to_file(outdir + 'SD_concat.shp')        \n",
    "    return df_train\n",
    "\n",
    "AOI_path = 'C:/Users/mathi/Thesis/Hardangervidda/Dates/'\n",
    "outdir = 'C:/Users/mathi/Thesis/Hardangervidda/Training_Data/'\n",
    "\n",
    "Training_Data = concat(AOI_path, outdir, False)"
   ]
  },
  {
   "cell_type": "code",
<<<<<<< HEAD
   "execution_count": null,
=======
   "execution_count": 3,
>>>>>>> 24047dc8f03faab75a179ca9ef68ef81b105103b
   "id": "951d2770",
   "metadata": {},
   "outputs": [],
   "source": [
    "def stack(path):\n",
    "    VH = os.path.join(path , \"VH.tif\")\n",
    "    Diff = os.path.join(path , \"Diff.tif\")\n",
    "    Ratio = os.path.join(path , \"Ratio.tif\")\n",
    "    Subtract = os.path.join(path , \"Subtract.tif\")\n",
    "    #DEM =  'C:/Users/Rasmu/Documents/Thesis/Hardangervidda/DEM/mergedDEM100m.tif'\n",
    "    DEM = \"C:/Users/mathi/Thesis/Hardangervidda/DEM/mergedDEM100m.tif\"\n",
    "    listofmasks=[VH, Diff, Ratio, Subtract, DEM]\n",
    "    print(listofmasks)\n",
    "    \n",
    "    lit_ravel = []\n",
    "    i=0\n",
    "    for rst in listofmasks:\n",
    "        with rasterio.open(rst) as src:\n",
    "            srcdata = src.read()\n",
    "            print(srcdata.shape,'shape')\n",
    "            ravel = srcdata[0].ravel()\n",
    "            lit_ravel.append(ravel)\n",
    "            profile = src.profile\n",
    "            og_shape = srcdata.shape\n",
    "            i=i+1\n",
    "    \n",
    "    print(len(lit_ravel))\n",
    "    return lit_ravel, profile, og_shape"
   ]
  },
  {
   "cell_type": "code",
<<<<<<< HEAD
   "execution_count": null,
   "id": "a249de1d",
   "metadata": {},
   "outputs": [],
=======
   "execution_count": 5,
   "id": "a249de1d",
   "metadata": {},
   "outputs": [
    {
     "name": "stdout",
     "output_type": "stream",
     "text": [
      "importance [680 673 433 459 755]\n",
      "['C:/Users/Rasmu/Documents/Thesis/Hardangervidda/Dates/20220221/S1/VH.tif', 'C:/Users/Rasmu/Documents/Thesis/Hardangervidda/Dates/20220221/S1/Diff.tif', 'C:/Users/Rasmu/Documents/Thesis/Hardangervidda/Dates/20220221/S1/Ratio.tif', 'C:/Users/Rasmu/Documents/Thesis/Hardangervidda/Dates/20220221/S1/Subtract.tif', 'C://Users/Rasmu/Documents/Thesis/Hardangervidda/DEM/mergedDEM100m.tif']\n",
      "(1, 1206, 1550) shape\n",
      "(1, 1206, 1550) shape\n",
      "(1, 1206, 1550) shape\n",
      "(1, 1206, 1550) shape\n",
      "(1, 1206, 1550) shape\n",
      "5\n",
      "(2440, 5)\n",
      "(1869300, 5)\n",
      "modelling done\n",
      "r2_train 0.84\n",
      "r2_val 0.81\n"
     ]
    }
   ],
>>>>>>> 24047dc8f03faab75a179ca9ef68ef81b105103b
   "source": [
    "def model(Training_Data_Path, Prediction_Path, outdir): \n",
    "    \n",
    "    pts = gpd.read_file(Training_Data_Path)\n",
    "    pts = pts[pts['SD'] < 6]\n",
    "    X = pts.drop(columns=['SD', 'geometry'])\n",
    "    y = pts['SD']\n",
    "    \n",
    "    X_train, X_val, y_train, y_val = train_test_split(\n",
    "    X, y, test_size=0.33, random_state=42)\n",
    "    #X = X.replace(np.nan, 0)     \n",
    "    reg = lgbm.LGBMRegressor()\n",
    "    #reg.fit(X_train, y_train)\n",
    "    reg.fit(X, y)\n",
    "    #reg = RandomForestRegressor(max_depth=2, random_state=0).fit(X,y)\n",
    "    importances = reg.feature_importances_\n",
    "    print('importance', importances)\n",
    "    \n",
    "    lit_ravel, profile, og_shape = stack(Prediction_Path)\n",
    "    \n",
    "    X_test = np.transpose(lit_ravel)\n",
    "    #X_test[np.isnan(X_test)] = 0 \n",
    "    print(X.shape)\n",
    "    print(X_test.shape)\n",
    "    y_pred = reg.predict(X_test)  # make predictions\n",
    "    print('modelling done')    \n",
    "\n",
    "    #Predict on training to calc R2\n",
    "    \n",
    "    y_pred_val = reg.predict(X_val)\n",
    "    y_pred_train = reg.predict(X)\n",
    "    #Calculate R2    \n",
    "    r2 = r2_score(y, y_pred_train).round(2)\n",
    "    r2 = format(r2, '.2f')\n",
    "    print('r2_train', r2)\n",
    "    \n",
    "    r2 = r2_score(y_val, y_pred_val).round(2)\n",
    "    r2 = format(r2, '.2f')    \n",
    "    print('r2_val', r2)\n",
    "    \n",
    "    Binary_Mask = Prediction_Path[:-3] + 'Masks/Binary_Mask.tif'\n",
    "    with rasterio.open(Binary_Mask) as mask:\n",
    "            srcdata = mask.read()\n",
    "            B_Mask = srcdata[0].ravel()\n",
    "    y_pred = y_pred * B_Mask  \n",
    "    y_pred[y_pred==0] = np.nan\n",
    "    y_pred = y_pred.reshape(og_shape)\n",
    "    \n",
    "    with rasterio.open(outdir + 'Prediction_20220221_6.tif', 'w', **profile) as dst:\n",
    "        dst.write(y_pred.astype(rasterio.float32))\n",
    "        \n",
    "    return y_pred_val,y_val, y_pred_train, y\n",
    "\n",
    "\n",
<<<<<<< HEAD
    "Training_Data_Path = 'C:/Users/mathi/Thesis/Hardangervidda/Training_Data/'\n",
    "Prediction_Path = 'C:/Users/mathi/Thesis/Hardangervidda/Dates/20200306/S1/'\n",
    "outdir = 'C:/Users/mathi/Thesis/Hardangervidda/Results/'\n",
=======
    "Training_Data_Path = 'C:/Users/Rasmu/Documents/Thesis/Hardangervidda/Training_Data/'\n",
    "Prediction_Path = 'C:/Users/Rasmu/Documents/Thesis/Hardangervidda/Dates/20220221/S1/'\n",
    "outdir = 'C:/Users/Rasmu/Documents/Thesis/Hardangervidda/Results/'\n",
>>>>>>> 24047dc8f03faab75a179ca9ef68ef81b105103b
    "y_pred_val,y_val,y_pred_train, y = model(Training_Data_Path, Prediction_Path, outdir)"
   ]
  },
  {
   "cell_type": "code",
<<<<<<< HEAD
   "execution_count": null,
   "id": "3a799e8c",
   "metadata": {},
   "outputs": [],
=======
   "execution_count": 14,
   "id": "3a799e8c",
   "metadata": {},
   "outputs": [
    {
     "data": {
      "image/png": "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\n",
      "text/plain": [
       "<Figure size 576x576 with 1 Axes>"
      ]
     },
     "metadata": {
      "needs_background": "light"
     },
     "output_type": "display_data"
    }
   ],
>>>>>>> 24047dc8f03faab75a179ca9ef68ef81b105103b
   "source": [
    "plt.figure(figsize=(8, 8))\n",
    "plt.title('model snow depths')\n",
    "plt.xlabel('predicted snow depth')\n",
    "plt.ylabel('icesat-2 snow_depth')\n",
    "#plt.scatter(y_pred_val, y_val, color='purple', s=4);\n",
    "plt.scatter(y_pred_train, y, color='green', s=4);\n",
    "#plt.xlim([800, 1600])"
   ]
  },
  {
   "cell_type": "code",
   "execution_count": null,
   "id": "6abe9615",
   "metadata": {},
   "outputs": [],
   "source": []
  },
  {
   "cell_type": "code",
   "execution_count": null,
   "id": "9b29db7b",
   "metadata": {},
   "outputs": [],
   "source": []
  }
 ],
 "metadata": {
  "kernelspec": {
   "display_name": "Python 3 (ipykernel)",
   "language": "python",
   "name": "python3"
  },
  "language_info": {
   "codemirror_mode": {
    "name": "ipython",
    "version": 3
   },
   "file_extension": ".py",
   "mimetype": "text/x-python",
   "name": "python",
   "nbconvert_exporter": "python",
   "pygments_lexer": "ipython3",
   "version": "3.7.9"
  }
 },
 "nbformat": 4,
 "nbformat_minor": 5
}
